{
 "cells": [
  {
   "cell_type": "markdown",
   "id": "c18de0e5-0ec7-43c1-b164-2e5170b8cb4c",
   "metadata": {},
   "source": [
    "## Concatenation"
   ]
  },
  {
   "cell_type": "markdown",
   "id": "8fa5def5-2e44-4e6c-b98a-7c43bef89748",
   "metadata": {},
   "source": [
    "- Method - 1 : Using + Operator\n",
    "- Method - 2 : Using f-string\n",
    "- Method - 3 : using .format()"
   ]
  },
  {
   "cell_type": "code",
   "execution_count": 1,
   "id": "e04956c3-ecb9-4147-b0f1-d3dffbd76c9e",
   "metadata": {},
   "outputs": [],
   "source": [
    "str1 = \"Sunlo\"\n",
    "str2 = \"dehan se...\""
   ]
  },
  {
   "cell_type": "code",
   "execution_count": 2,
   "id": "fd916e7c-c18b-4709-a786-95f05c2ae393",
   "metadata": {},
   "outputs": [
    {
     "data": {
      "text/plain": [
       "'Sunlo dehan se...'"
      ]
     },
     "execution_count": 2,
     "metadata": {},
     "output_type": "execute_result"
    }
   ],
   "source": [
    "# Method-1\n",
    "str1 + \" \" + str2"
   ]
  },
  {
   "cell_type": "code",
   "execution_count": 3,
   "id": "dc4fc31a-5101-4232-95ae-25750fcdddc6",
   "metadata": {},
   "outputs": [
    {
     "data": {
      "text/plain": [
       "'Achaa Meri Baat Sunlo dehan se... Ok'"
      ]
     },
     "execution_count": 3,
     "metadata": {},
     "output_type": "execute_result"
    }
   ],
   "source": [
    "# Method-2\n",
    "f\"Achaa Meri Baat {str1} {str2} Ok\""
   ]
  },
  {
   "cell_type": "code",
   "execution_count": 4,
   "id": "14f9dace-1c56-462d-a338-d694bc276d11",
   "metadata": {},
   "outputs": [
    {
     "data": {
      "text/plain": [
       "'Acha Meri Baat Sunlo dehan se...'"
      ]
     },
     "execution_count": 4,
     "metadata": {},
     "output_type": "execute_result"
    }
   ],
   "source": [
    "\"Acha Meri Baat {0} {1}\".format(str1, str2)"
   ]
  },
  {
   "cell_type": "markdown",
   "id": "3048d6f5-9b07-4ff3-bd5c-7b278182cf3d",
   "metadata": {},
   "source": [
    "##### Q: Creat a String using All Formating Method That Print Your First and Last Name With Some Extra added Sentences that Describe You"
   ]
  },
  {
   "cell_type": "code",
   "execution_count": 5,
   "id": "ab6a065d-27ce-4ba6-b9f1-d1696c3478b9",
   "metadata": {},
   "outputs": [
    {
     "name": "stdout",
     "output_type": "stream",
     "text": [
      "My Name Is Hisham Ahmed I Am 24 Years Old And Currently In The Last Year Of My Graduation\n",
      "My Name Is Hisham Ahmed I Am 24 Years Old And Currently In The Last Year Of My Graduation\n",
      "My Name Is Hisham Ahmed I Am 24 Years Old And Currently In The Last Year Of My Graduation\n"
     ]
    }
   ],
   "source": [
    "first = \"Hisham\"\n",
    "last = \"Ahmed\"\n",
    "print(\"My Name Is \" +first + \" \" + last + \" I Am 24 Years Old And Currently In The Last Year Of My Graduation\")\n",
    "print(f\"My Name Is {first} {last} I Am 24 Years Old And Currently In The Last Year Of My Graduation\")\n",
    "print(\"My Name Is {0} {1} I Am 24 Years Old And Currently In The Last Year Of My Graduation\".format(first, last))"
   ]
  },
  {
   "cell_type": "markdown",
   "id": "fa715e84-cc3d-4970-8458-ae2c3dfa1a1b",
   "metadata": {},
   "source": [
    "## User Input"
   ]
  },
  {
   "cell_type": "code",
   "execution_count": 6,
   "id": "7279d17e-8fec-4d47-9cec-06690f21449d",
   "metadata": {},
   "outputs": [
    {
     "name": "stdin",
     "output_type": "stream",
     "text": [
      "Enter your First Name:  Hisham\n"
     ]
    }
   ],
   "source": [
    "f_name = input(\"Enter your First Name: \")"
   ]
  },
  {
   "cell_type": "code",
   "execution_count": 7,
   "id": "6b13a8fb-e201-4c68-807b-d614dab8de57",
   "metadata": {},
   "outputs": [
    {
     "name": "stdin",
     "output_type": "stream",
     "text": [
      "Enter Your Age:  24\n"
     ]
    }
   ],
   "source": [
    "age = int(input(\"Enter Your Age: \"))"
   ]
  },
  {
   "cell_type": "code",
   "execution_count": 8,
   "id": "2c90cb95-f0a8-4631-b23a-741f8e229b95",
   "metadata": {},
   "outputs": [
    {
     "name": "stdin",
     "output_type": "stream",
     "text": [
      "Enter Your First Name:  Hisham\n",
      "Enter Your Last Name:  Ahmed\n",
      "Enter About You:  I Am 24 years Old\n"
     ]
    },
    {
     "name": "stdout",
     "output_type": "stream",
     "text": [
      "My Name Is Hisham AhmedI Am 24 years Old\n",
      "My Name Is Hisham Ahmed I Am 24 years Old \n",
      "My Name Is Hisham Ahmed I Am 24 years Old \n"
     ]
    }
   ],
   "source": [
    "first = input(\"Enter Your First Name: \")\n",
    "last = input(\"Enter Your Last Name: \")\n",
    "about = input(\"Enter About You: \")\n",
    "print(\"My Name Is \" +first + \" \" + last + about)\n",
    "print(f\"My Name Is {first} {last} {about} \")\n",
    "print(\"My Name Is {0} {1} {2} \".format(first, last, about))"
   ]
  },
  {
   "cell_type": "markdown",
   "id": "772d561f-f67c-4ade-8421-200301bfb755",
   "metadata": {},
   "source": [
    "## Conditional Statement"
   ]
  },
  {
   "cell_type": "markdown",
   "id": "cd10c6f2-c907-44ff-9554-3501e8debf12",
   "metadata": {},
   "source": [
    "- If\n",
    "- Elif\n",
    "- Else"
   ]
  },
  {
   "cell_type": "code",
   "execution_count": 9,
   "id": "3514c6d7-212d-4654-9a93-1f6d293570cb",
   "metadata": {},
   "outputs": [
    {
     "name": "stdout",
     "output_type": "stream",
     "text": [
      "Tommorow is Holiday\n"
     ]
    }
   ],
   "source": [
    "eid = True\n",
    "if eid:\n",
    "    print(\"Tommorow is Holiday\")\n",
    "else:\n",
    "    print(\"Tommorow is Working Day\")"
   ]
  },
  {
   "cell_type": "markdown",
   "id": "20007e1f-60e8-4f6b-b664-03b15f091f26",
   "metadata": {},
   "source": [
    "#### TASK: Make A Program That Tell If You're Eligible For Certificate Or Not Based On Pass/Fail "
   ]
  },
  {
   "cell_type": "markdown",
   "id": "89ada72c-a5af-4c50-8cc7-a6fb4df7557f",
   "metadata": {},
   "source": [
    "#### If Else Statement"
   ]
  },
  {
   "cell_type": "code",
   "execution_count": 10,
   "id": "884849b8-3ead-45e4-9bfe-9f22684e0ba2",
   "metadata": {},
   "outputs": [
    {
     "name": "stdout",
     "output_type": "stream",
     "text": [
      "Certificate Is Issued\n"
     ]
    }
   ],
   "source": [
    "Pass = True\n",
    "if Pass: print(\"Certificate Is Issued\")\n",
    "else: print(\"Certificate Is Not Issued\")"
   ]
  },
  {
   "cell_type": "markdown",
   "id": "454dbfdc-da29-4628-8589-d6f01c8f61a1",
   "metadata": {},
   "source": [
    "#### Elif Statement"
   ]
  },
  {
   "cell_type": "code",
   "execution_count": 11,
   "id": "e59ce5ec-f606-431d-a51b-7b58f7e7cfe8",
   "metadata": {},
   "outputs": [
    {
     "name": "stdin",
     "output_type": "stream",
     "text": [
      "Enter Your Numbers:  94\n"
     ]
    },
    {
     "name": "stdout",
     "output_type": "stream",
     "text": [
      "Grade is A+\n"
     ]
    }
   ],
   "source": [
    "marks = float(input(\"Enter Your Numbers: \"))\n",
    "if marks >= 90: print(\"Grade is A+\")\n",
    "elif marks >=80: print(\"Grade is A\")\n",
    "elif marks >=70: print(\"Grade is C\")\n",
    "else: print(\"Grade is C\")"
   ]
  },
  {
   "cell_type": "markdown",
   "id": "fff3bb9c-9f96-4f8c-b7be-06082616b0bd",
   "metadata": {},
   "source": [
    "#### Nested If Else Statement"
   ]
  },
  {
   "cell_type": "code",
   "execution_count": 28,
   "id": "b4c8679e-78d4-4908-8691-6aaa09cfdbef",
   "metadata": {},
   "outputs": [
    {
     "name": "stdout",
     "output_type": "stream",
     "text": [
      "Shop Is Open Now Check For Rice\n"
     ]
    },
    {
     "name": "stdin",
     "output_type": "stream",
     "text": [
      "Check For Rice:  True\n"
     ]
    },
    {
     "name": "stdout",
     "output_type": "stream",
     "text": [
      "Buy 1 Kg\n"
     ]
    }
   ],
   "source": [
    "shop_open = True\n",
    "if shop_open: \n",
    "    print(\"Shop Is Open Now Check For Rice\") \n",
    "    basmati_rice = input(\"Check For Rice: \")\n",
    "    if basmati_rice == \"True\":\n",
    "        print(\"Buy 1 Kg\")\n",
    "    else: \n",
    "        print(\"There is No Rice in the Shop\")\n",
    "else: \n",
    "    print(\"Shop is Closed\")"
   ]
  },
  {
   "cell_type": "markdown",
   "id": "69a6ce80-186c-4ce1-a569-7be35b0fb965",
   "metadata": {},
   "source": [
    "#### Write A Program To Check Whether A Person Is Eligible For Voting Or Not. (Accept Age From User) If Age Is Greater Than 17 Eligible Otherwise Not Eligible"
   ]
  },
  {
   "cell_type": "code",
   "execution_count": 13,
   "id": "27799676-f847-4872-a7f9-ddf025d2ba7a",
   "metadata": {},
   "outputs": [
    {
     "name": "stdin",
     "output_type": "stream",
     "text": [
      "Enter Your Age:  24\n"
     ]
    },
    {
     "name": "stdout",
     "output_type": "stream",
     "text": [
      "You Are Eligible For Voting.\n"
     ]
    }
   ],
   "source": [
    "age = int(input(\"Enter Your Age: \"))\n",
    "if age > 17: print(\"You Are Eligible For Voting.\")\n",
    "else: print(\"You Are Not Eligible For Voting.\")"
   ]
  },
  {
   "cell_type": "markdown",
   "id": "b7bb1c49-4d63-4e7f-a352-08f1e84cc320",
   "metadata": {},
   "source": [
    "#### Write A Program To Check Whether A Number Entered By User is Even Or Odd"
   ]
  },
  {
   "cell_type": "code",
   "execution_count": 14,
   "id": "52128fea-7bf9-4511-a8e1-f04dc0e10685",
   "metadata": {},
   "outputs": [
    {
     "name": "stdin",
     "output_type": "stream",
     "text": [
      "Enter Your Number:  94\n"
     ]
    },
    {
     "name": "stdout",
     "output_type": "stream",
     "text": [
      "94 is Even\n"
     ]
    }
   ],
   "source": [
    "number = int(input(\"Enter Your Number: \"))\n",
    "if number % 2 == 0: print(f\"{number} is Even\")\n",
    "else: print(f\"{number} is Odd\")"
   ]
  },
  {
   "cell_type": "markdown",
   "id": "a9178b5d-74cf-4f73-8dd1-a03aa05e1a26",
   "metadata": {},
   "source": [
    "#### Write A Program To Display \"Hello\" If A Number By User is A Multiple of Five, Otherwise Print \"Bye\""
   ]
  },
  {
   "cell_type": "code",
   "execution_count": 15,
   "id": "304ab918-341a-4e5a-84bd-7e32e5053d1b",
   "metadata": {},
   "outputs": [
    {
     "name": "stdin",
     "output_type": "stream",
     "text": [
      "Enter Your Number:  22\n"
     ]
    },
    {
     "name": "stdout",
     "output_type": "stream",
     "text": [
      "Bye\n"
     ]
    }
   ],
   "source": [
    "number = int(input(\"Enter Your Number: \"))\n",
    "if number % 5 == 0: print(\"Hello\")\n",
    "else: print(\"Bye\")"
   ]
  },
  {
   "cell_type": "markdown",
   "id": "a26b222c-a711-4b04-b6b3-5175718d9a3b",
   "metadata": {},
   "source": [
    "#### Logical Operators\n",
    "- NOT\n",
    "- AND\n",
    "- OR"
   ]
  },
  {
   "cell_type": "markdown",
   "id": "cb49782d-0a96-4aa4-b9ad-819289ccf24d",
   "metadata": {},
   "source": [
    "#### Write A Program For Following Grading System"
   ]
  },
  {
   "cell_type": "code",
   "execution_count": 16,
   "id": "1a4bb8b6-5277-4bf8-878e-e222a6eb152d",
   "metadata": {},
   "outputs": [
    {
     "name": "stdin",
     "output_type": "stream",
     "text": [
      "Enter Your Marks:  85\n"
     ]
    },
    {
     "name": "stdout",
     "output_type": "stream",
     "text": [
      "Grade Is A\n"
     ]
    }
   ],
   "source": [
    "marks = int(input(\"Enter Your Marks: \"))\n",
    "if marks >= 80 and marks <=100: print(\"Grade Is A\")\n",
    "elif marks >= 60 and marks <=80: print(\"Grade Is B\")\n",
    "elif marks >= 50 and marks <=60: print(\"Grade Is C\")\n",
    "elif marks >= 45 and marks <=50: print(\"Grade Is D\")\n",
    "elif marks >= 25 and marks <=45: print(\"Grade Is E\")\n",
    "elif marks >= 0 and marks <= 25: print(\"Grade Is F\")\n",
    "else: print(\"Out Of Range\")"
   ]
  },
  {
   "cell_type": "markdown",
   "id": "b292643e-dcff-40ac-a8e0-2150852902f4",
   "metadata": {},
   "source": [
    "### Comments"
   ]
  },
  {
   "cell_type": "code",
   "execution_count": 17,
   "id": "d9beac77-232b-4f36-94ba-2e0bb9bfb204",
   "metadata": {},
   "outputs": [],
   "source": [
    "# This is a Single Line Comment"
   ]
  },
  {
   "cell_type": "code",
   "execution_count": 18,
   "id": "46b04320-b1e1-472a-ade1-097d762c40b2",
   "metadata": {},
   "outputs": [
    {
     "name": "stdout",
     "output_type": "stream",
     "text": [
      "Multi Line Comment\n"
     ]
    }
   ],
   "source": [
    "\"\"\"\n",
    "Multi Line Comment\n",
    "How Are You\n",
    "\"\"\"\n",
    "print(\"Multi Line Comment\")"
   ]
  },
  {
   "cell_type": "markdown",
   "id": "56ef08ad-fb60-4433-a79e-3783c18f3e54",
   "metadata": {},
   "source": [
    "#### Methods Of Any Type"
   ]
  },
  {
   "cell_type": "markdown",
   "id": "56a0cf3f-ad09-41a2-9ca6-22195bc09ef8",
   "metadata": {},
   "source": [
    "#### + Slicing"
   ]
  },
  {
   "cell_type": "code",
   "execution_count": 19,
   "id": "dd1f0d5d-a5ea-453b-b525-3b311679b929",
   "metadata": {},
   "outputs": [
    {
     "name": "stdout",
     "output_type": "stream",
     "text": [
      "H\n",
      "Hisham Ahmed\n",
      "Hisham\n",
      "Ahmed\n",
      "Hisham Ahmed\n"
     ]
    }
   ],
   "source": [
    "# Slicing On String\n",
    "str = \"Hisham Ahmed\"\n",
    "print(str[0])\n",
    "print(str[0:12])\n",
    "print(str[:6])\n",
    "print(str[7:])\n",
    "print(str[:])"
   ]
  },
  {
   "cell_type": "markdown",
   "id": "94092389-ec2f-4e1a-b276-af836ed40aa9",
   "metadata": {},
   "source": [
    "#### - Slicing"
   ]
  },
  {
   "cell_type": "code",
   "execution_count": 20,
   "id": "f57609b6-3281-4aa2-9d10-2061e3752ea7",
   "metadata": {},
   "outputs": [
    {
     "name": "stdout",
     "output_type": "stream",
     "text": [
      "H\n",
      "Hisham Ahme\n",
      "Ahme\n",
      "demhA mahsiH\n"
     ]
    }
   ],
   "source": [
    "print(str[-12])\n",
    "print(str[-12:-1])\n",
    "print(str[-5:-1])\n",
    "print(str[::-1])"
   ]
  },
  {
   "cell_type": "code",
   "execution_count": 21,
   "id": "83c7c6f5-121f-4a4a-b07a-77f2baf31f75",
   "metadata": {},
   "outputs": [
    {
     "data": {
      "text/plain": [
       "1"
      ]
     },
     "execution_count": 21,
     "metadata": {},
     "output_type": "execute_result"
    }
   ],
   "source": [
    "# String.count(value, start,end)\n",
    "\"Hisham Ahmed\".count('a', 0, 5)"
   ]
  },
  {
   "cell_type": "code",
   "execution_count": 22,
   "id": "0312499f-bd9c-447c-a454-8c5eb683f204",
   "metadata": {},
   "outputs": [
    {
     "data": {
      "text/plain": [
       "'HISHAM'"
      ]
     },
     "execution_count": 22,
     "metadata": {},
     "output_type": "execute_result"
    }
   ],
   "source": [
    "'hisham'.upper()"
   ]
  },
  {
   "cell_type": "code",
   "execution_count": 23,
   "id": "ac92788e-2873-46f0-93c3-2fd90cc45948",
   "metadata": {},
   "outputs": [
    {
     "data": {
      "text/plain": [
       "'hisham'"
      ]
     },
     "execution_count": 23,
     "metadata": {},
     "output_type": "execute_result"
    }
   ],
   "source": [
    "'hisham'.lower()"
   ]
  },
  {
   "cell_type": "code",
   "execution_count": 24,
   "id": "67ac08e6-daea-4c58-b14d-dfadad97078d",
   "metadata": {},
   "outputs": [
    {
     "data": {
      "text/plain": [
       "'Hisham'"
      ]
     },
     "execution_count": 24,
     "metadata": {},
     "output_type": "execute_result"
    }
   ],
   "source": [
    "'hisham'.capitalize()"
   ]
  },
  {
   "cell_type": "code",
   "execution_count": 25,
   "id": "42681298-fdb2-471c-8168-305231888856",
   "metadata": {},
   "outputs": [
    {
     "data": {
      "text/plain": [
       "True"
      ]
     },
     "execution_count": 25,
     "metadata": {},
     "output_type": "execute_result"
    }
   ],
   "source": [
    "'hisham'.isascii()"
   ]
  },
  {
   "cell_type": "code",
   "execution_count": 26,
   "id": "0d024827-8b7b-4346-9d88-e0406d8f8531",
   "metadata": {},
   "outputs": [
    {
     "data": {
      "text/plain": [
       "'Hisham Ahmed'"
      ]
     },
     "execution_count": 26,
     "metadata": {},
     "output_type": "execute_result"
    }
   ],
   "source": [
    "'hisham ahmed'.title()"
   ]
  },
  {
   "cell_type": "code",
   "execution_count": 27,
   "id": "9307d2ed-c799-404f-8711-113a25c6d176",
   "metadata": {},
   "outputs": [
    {
     "data": {
      "text/plain": [
       "True"
      ]
     },
     "execution_count": 27,
     "metadata": {},
     "output_type": "execute_result"
    }
   ],
   "source": [
    "'hisham'.startswith('h')"
   ]
  }
 ],
 "metadata": {
  "kernelspec": {
   "display_name": "Python 3 (ipykernel)",
   "language": "python",
   "name": "python3"
  },
  "language_info": {
   "codemirror_mode": {
    "name": "ipython",
    "version": 3
   },
   "file_extension": ".py",
   "mimetype": "text/x-python",
   "name": "python",
   "nbconvert_exporter": "python",
   "pygments_lexer": "ipython3",
   "version": "3.12.5"
  }
 },
 "nbformat": 4,
 "nbformat_minor": 5
}
