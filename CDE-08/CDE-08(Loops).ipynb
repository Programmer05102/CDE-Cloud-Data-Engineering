{
 "cells": [
  {
   "cell_type": "markdown",
   "id": "3f9cd89c-0b9d-4173-9c9d-d7f16b58e301",
   "metadata": {},
   "source": [
    "### Loops"
   ]
  },
  {
   "cell_type": "raw",
   "id": "258dbaf7-f762-40a0-bfa6-3a539facc11c",
   "metadata": {},
   "source": [
    "for temp_var in iterable\n",
    "    loop_body\n",
    "for temp_var in range(start,stop,jump)\n",
    "    loop_body"
   ]
  },
  {
   "cell_type": "code",
   "execution_count": 1,
   "id": "5f1e8e30-2cf1-4f5e-b025-6b42c722d052",
   "metadata": {},
   "outputs": [
    {
     "name": "stdout",
     "output_type": "stream",
     "text": [
      "1\n",
      "2\n",
      "3\n",
      "4\n",
      "5\n"
     ]
    }
   ],
   "source": [
    "for temp in [1,2,3,4,5]: print(temp)"
   ]
  },
  {
   "cell_type": "markdown",
   "id": "c7c6743f-6410-4dd7-99b2-4da0ce7940ac",
   "metadata": {},
   "source": [
    "#### Task 1: Write a program that prints \"Happy Birthday\" five times."
   ]
  },
  {
   "cell_type": "code",
   "execution_count": 2,
   "id": "eefd6f9d-0343-4f5c-af03-2a5f6ec53c25",
   "metadata": {},
   "outputs": [
    {
     "name": "stdout",
     "output_type": "stream",
     "text": [
      "Happy Birthday\n",
      "Happy Birthday\n",
      "Happy Birthday\n",
      "Happy Birthday\n",
      "Happy Birthday\n"
     ]
    }
   ],
   "source": [
    "a = \"Happy Birthday\"\n",
    "for i in range(5): print(a)"
   ]
  },
  {
   "cell_type": "markdown",
   "id": "357ad9f5-6791-4a39-addb-165c563a6c29",
   "metadata": {},
   "source": [
    "####  Task 2: Write a program that takes a number n as input from the user and generate the first n terms of the series from by squaring the natural numbers"
   ]
  },
  {
   "cell_type": "code",
   "execution_count": 3,
   "id": "90826bee-b876-4d75-9892-4a66b812bfd2",
   "metadata": {},
   "outputs": [
    {
     "name": "stdin",
     "output_type": "stream",
     "text": [
      "Enter the Number:  6\n"
     ]
    },
    {
     "name": "stdout",
     "output_type": "stream",
     "text": [
      "The First 6 Terms of Series are: \n",
      "1\n",
      "4\n",
      "9\n",
      "16\n",
      "25\n",
      "36\n"
     ]
    }
   ],
   "source": [
    "n = int(input(\"Enter the Number: \"))\n",
    "print(f\"The First {n} Terms of Series are: \")\n",
    "for i in range(n): print((i+1)**2)"
   ]
  },
  {
   "cell_type": "markdown",
   "id": "03b7bf83-97e7-4fb3-89c6-e15846d09323",
   "metadata": {},
   "source": [
    "#### Task 3: Write a program that prompts the user to input a number and prints its multiplication"
   ]
  },
  {
   "cell_type": "code",
   "execution_count": 4,
   "id": "d0440816-46bd-4a96-9a61-6f3ab896cc30",
   "metadata": {},
   "outputs": [
    {
     "name": "stdin",
     "output_type": "stream",
     "text": [
      "Enter the Number For Multiplication:  5\n"
     ]
    },
    {
     "name": "stdout",
     "output_type": "stream",
     "text": [
      "5 x 1 = 5\n",
      "5 x 2 = 10\n",
      "5 x 3 = 15\n",
      "5 x 4 = 20\n",
      "5 x 5 = 25\n",
      "5 x 6 = 30\n",
      "5 x 7 = 35\n",
      "5 x 8 = 40\n",
      "5 x 9 = 45\n",
      "5 x 10 = 50\n",
      "5 x 11 = 55\n",
      "5 x 12 = 60\n"
     ]
    }
   ],
   "source": [
    "n = int(input(\"Enter the Number For Multiplication: \"))\n",
    "for i in range(1,13): print(f\"{n} x {i} = {n*i}\")"
   ]
  },
  {
   "cell_type": "markdown",
   "id": "939c393e-97dc-48fb-bba3-84569c63bb36",
   "metadata": {},
   "source": [
    "#### Task 4: Print Table from 2 until 5"
   ]
  },
  {
   "cell_type": "code",
   "execution_count": 5,
   "id": "523630d2-f651-47b6-9a82-b071c14ade99",
   "metadata": {},
   "outputs": [
    {
     "name": "stdout",
     "output_type": "stream",
     "text": [
      "2 x 1 = 2\n",
      "2 x 2 = 4\n",
      "2 x 3 = 6\n",
      "2 x 4 = 8\n",
      "2 x 5 = 10\n",
      "2 x 6 = 12\n",
      "2 x 7 = 14\n",
      "2 x 8 = 16\n",
      "2 x 9 = 18\n",
      "2 x 10 = 20\n",
      "\n",
      "3 x 1 = 3\n",
      "3 x 2 = 6\n",
      "3 x 3 = 9\n",
      "3 x 4 = 12\n",
      "3 x 5 = 15\n",
      "3 x 6 = 18\n",
      "3 x 7 = 21\n",
      "3 x 8 = 24\n",
      "3 x 9 = 27\n",
      "\n",
      "4 x 1 = 4\n",
      "4 x 2 = 8\n",
      "4 x 3 = 12\n",
      "4 x 4 = 16\n",
      "4 x 5 = 20\n",
      "4 x 6 = 24\n",
      "4 x 7 = 28\n",
      "4 x 8 = 32\n",
      "\n",
      "5 x 1 = 5\n",
      "5 x 2 = 10\n",
      "5 x 3 = 15\n",
      "5 x 4 = 20\n",
      "5 x 5 = 25\n",
      "5 x 6 = 30\n",
      "5 x 7 = 35\n",
      "\n"
     ]
    }
   ],
   "source": [
    "n = 11\n",
    "for i in range(2,6):\n",
    "    for j in range(1,n):\n",
    "        print(f\"{i} x {j} = {i * j}\")\n",
    "    n -= 1\n",
    "    print(\"\")"
   ]
  },
  {
   "cell_type": "markdown",
   "id": "73915ca3-c34c-4c86-8fbc-3f0e5066c05b",
   "metadata": {},
   "source": [
    "### Dictionaries"
   ]
  },
  {
   "cell_type": "markdown",
   "id": "d77a4832-f81c-4338-8e54-22a3ac1538d0",
   "metadata": {},
   "source": [
    "- Key : Value"
   ]
  },
  {
   "cell_type": "code",
   "execution_count": 6,
   "id": "f781d950-698a-4d8f-8e46-940949e0863d",
   "metadata": {},
   "outputs": [],
   "source": [
    "bio_data = {\"first_name\" : \"Hisham\", \"last_name\" : \"Ahmed\", \"age\" : 25, \"weight\" : 70.5}"
   ]
  },
  {
   "cell_type": "code",
   "execution_count": 7,
   "id": "e932afce-9112-4ccb-bb71-0a2aa606c562",
   "metadata": {},
   "outputs": [],
   "source": [
    "bio_data[\"is_present\"] = True"
   ]
  },
  {
   "cell_type": "code",
   "execution_count": 8,
   "id": "3a164c7a-c3cf-4749-a91e-0f7c6fd8f5bc",
   "metadata": {},
   "outputs": [
    {
     "data": {
      "text/plain": [
       "True"
      ]
     },
     "execution_count": 8,
     "metadata": {},
     "output_type": "execute_result"
    }
   ],
   "source": [
    "bio_data[\"is_present\"]"
   ]
  },
  {
   "cell_type": "code",
   "execution_count": 9,
   "id": "2a2f6d06-6974-476b-835c-334a5e310159",
   "metadata": {},
   "outputs": [
    {
     "data": {
      "text/plain": [
       "dict_keys(['first_name', 'last_name', 'age', 'weight', 'is_present'])"
      ]
     },
     "execution_count": 9,
     "metadata": {},
     "output_type": "execute_result"
    }
   ],
   "source": [
    "bio_data.keys()"
   ]
  },
  {
   "cell_type": "code",
   "execution_count": 10,
   "id": "b77aef09-6362-4b17-9d2d-9348618e5246",
   "metadata": {},
   "outputs": [
    {
     "data": {
      "text/plain": [
       "dict_values(['Hisham', 'Ahmed', 25, 70.5, True])"
      ]
     },
     "execution_count": 10,
     "metadata": {},
     "output_type": "execute_result"
    }
   ],
   "source": [
    "bio_data.values()"
   ]
  },
  {
   "cell_type": "code",
   "execution_count": 11,
   "id": "c50401ae-c1ab-4aaa-9f55-72b9b03d0ca6",
   "metadata": {},
   "outputs": [
    {
     "data": {
      "text/plain": [
       "dict_items([('first_name', 'Hisham'), ('last_name', 'Ahmed'), ('age', 25), ('weight', 70.5), ('is_present', True)])"
      ]
     },
     "execution_count": 11,
     "metadata": {},
     "output_type": "execute_result"
    }
   ],
   "source": [
    "bio_data.items()"
   ]
  },
  {
   "cell_type": "code",
   "execution_count": 12,
   "id": "e857d9ed-945b-46b4-b26a-568a444eef95",
   "metadata": {},
   "outputs": [],
   "source": [
    "bio_data.get(\"name\")"
   ]
  },
  {
   "cell_type": "markdown",
   "id": "a2fdf5d1-e543-4f7f-b196-affdbb8b1316",
   "metadata": {},
   "source": [
    "- Pop()\n",
    "- Popitem()\n",
    "- setdefault()\n",
    "- update"
   ]
  },
  {
   "cell_type": "code",
   "execution_count": 13,
   "id": "a3c15321-8a51-4dec-a4bb-17a0fdd42292",
   "metadata": {},
   "outputs": [
    {
     "data": {
      "text/plain": [
       "'Hisham'"
      ]
     },
     "execution_count": 13,
     "metadata": {},
     "output_type": "execute_result"
    }
   ],
   "source": [
    "bio_data.pop(\"first_name\")"
   ]
  },
  {
   "cell_type": "code",
   "execution_count": 14,
   "id": "3fa86966-8c66-41a3-9755-3abdbb0716a9",
   "metadata": {},
   "outputs": [
    {
     "data": {
      "text/plain": [
       "('is_present', True)"
      ]
     },
     "execution_count": 14,
     "metadata": {},
     "output_type": "execute_result"
    }
   ],
   "source": [
    "bio_data.popitem()"
   ]
  },
  {
   "cell_type": "code",
   "execution_count": 15,
   "id": "bf68d644-b7aa-441f-ab06-2bb04e87ece3",
   "metadata": {},
   "outputs": [],
   "source": [
    "bio_data.setdefault(\"first_name\")"
   ]
  },
  {
   "cell_type": "code",
   "execution_count": 16,
   "id": "818654f5-11ac-483b-93e4-53cef3461827",
   "metadata": {},
   "outputs": [],
   "source": [
    "bio_data.update(first_name = \"Hisham\")"
   ]
  },
  {
   "cell_type": "code",
   "execution_count": 17,
   "id": "7201dc8b-beea-4560-b624-e00209b7d4f8",
   "metadata": {},
   "outputs": [
    {
     "data": {
      "text/plain": [
       "{'last_name': 'Ahmed', 'age': 25, 'weight': 70.5, 'first_name': 'Hisham'}"
      ]
     },
     "execution_count": 17,
     "metadata": {},
     "output_type": "execute_result"
    }
   ],
   "source": [
    "bio_data"
   ]
  },
  {
   "cell_type": "markdown",
   "id": "c32d96da-4aa6-4c05-b390-55eb157ecc70",
   "metadata": {},
   "source": [
    "### Looping On Dictionaries"
   ]
  },
  {
   "cell_type": "code",
   "execution_count": 18,
   "id": "196361f7-f4c6-422c-ab84-261c1b007836",
   "metadata": {},
   "outputs": [
    {
     "name": "stdout",
     "output_type": "stream",
     "text": [
      "last_name\n",
      "age\n",
      "weight\n",
      "first_name\n"
     ]
    }
   ],
   "source": [
    "for i in bio_data: # By default Keys\n",
    "    print(i)"
   ]
  },
  {
   "cell_type": "code",
   "execution_count": 19,
   "id": "950bf427-01a9-4bbc-ae4f-65a1b20322d1",
   "metadata": {},
   "outputs": [
    {
     "name": "stdout",
     "output_type": "stream",
     "text": [
      "Ahmed\n",
      "25\n",
      "70.5\n",
      "Hisham\n"
     ]
    }
   ],
   "source": [
    "for i in bio_data.values(): # By Values\n",
    "    print(i)"
   ]
  },
  {
   "cell_type": "code",
   "execution_count": 20,
   "id": "18e39ee4-77f2-491c-b599-fabbc6b5e426",
   "metadata": {},
   "outputs": [
    {
     "name": "stdout",
     "output_type": "stream",
     "text": [
      "('last_name', 'Ahmed')\n",
      "('age', 25)\n",
      "('weight', 70.5)\n",
      "('first_name', 'Hisham')\n"
     ]
    }
   ],
   "source": [
    "for i in bio_data.items(): # Complete Dictionaries in form of Tuples\n",
    "    print(i)"
   ]
  },
  {
   "cell_type": "markdown",
   "id": "33f2ddb2-aac8-4f80-aa07-d480794f5e89",
   "metadata": {},
   "source": [
    "#### List Comprehension"
   ]
  },
  {
   "cell_type": "code",
   "execution_count": 21,
   "id": "d1548cb3-a8c4-46a6-af74-a63e88b4862d",
   "metadata": {},
   "outputs": [],
   "source": [
    "l = [i**2 for i in range(1, 8, 2)]"
   ]
  },
  {
   "cell_type": "code",
   "execution_count": 22,
   "id": "2bf75eec-7a0f-4170-a27d-a7f5997deec1",
   "metadata": {},
   "outputs": [
    {
     "data": {
      "text/plain": [
       "[1, 9, 25, 49]"
      ]
     },
     "execution_count": 22,
     "metadata": {},
     "output_type": "execute_result"
    }
   ],
   "source": [
    "l"
   ]
  },
  {
   "cell_type": "markdown",
   "id": "c4dea0c3-5fe8-431d-9e0f-96d491ad48cc",
   "metadata": {},
   "source": [
    "#### Dictioanry Comprehension"
   ]
  },
  {
   "cell_type": "code",
   "execution_count": 23,
   "id": "af5351bb-a27a-4a36-bbf0-1fc3d5ee41b9",
   "metadata": {},
   "outputs": [
    {
     "data": {
      "text/plain": [
       "{1: 1, 3: 9, 5: 25, 7: 49}"
      ]
     },
     "execution_count": 23,
     "metadata": {},
     "output_type": "execute_result"
    }
   ],
   "source": [
    "d = {dc : dc**2 for dc in range(1, 8, 2)}\n",
    "d"
   ]
  },
  {
   "cell_type": "code",
   "execution_count": 24,
   "id": "5bdb53e2-87eb-4464-aaf5-44bb7931548c",
   "metadata": {},
   "outputs": [
    {
     "data": {
      "text/plain": [
       "{'Ali': 80, 'Hisham': 99}"
      ]
     },
     "execution_count": 24,
     "metadata": {},
     "output_type": "execute_result"
    }
   ],
   "source": [
    "r = {\"Ali\" : 80, \"Hassan\" : 49, \"Hisham\" : 99}\n",
    "passed = {name:marks for name,marks in r.items() if marks > 70}\n",
    "passed"
   ]
  },
  {
   "cell_type": "markdown",
   "id": "f8521253-752b-41bd-9127-05b23ba71d6b",
   "metadata": {},
   "source": [
    "#### Task"
   ]
  },
  {
   "cell_type": "code",
   "execution_count": 31,
   "id": "777daabe-2e7b-4269-85ef-b04c253e4be4",
   "metadata": {},
   "outputs": [
    {
     "data": {
      "text/plain": [
       "{'f_name': 'Hisham', 'l_name': 'Ahmed', 'age': 18, 'weight': 25}"
      ]
     },
     "execution_count": 31,
     "metadata": {},
     "output_type": "execute_result"
    }
   ],
   "source": [
    "lst1 = [\"Hisham\", \"Ahmed\", 18, 25]\n",
    "lst2 = [\"f_name\", \"l_name\", \"age\", \"weight\"]\n",
    "bio_data = {i[0]:i[1] for i in zip(lst2,lst1)}\n",
    "bio_data"
   ]
  },
  {
   "cell_type": "code",
   "execution_count": null,
   "id": "cb56abd8-426b-408c-9b27-9296f8e3b49f",
   "metadata": {},
   "outputs": [],
   "source": []
  }
 ],
 "metadata": {
  "kernelspec": {
   "display_name": "Python 3 (ipykernel)",
   "language": "python",
   "name": "python3"
  },
  "language_info": {
   "codemirror_mode": {
    "name": "ipython",
    "version": 3
   },
   "file_extension": ".py",
   "mimetype": "text/x-python",
   "name": "python",
   "nbconvert_exporter": "python",
   "pygments_lexer": "ipython3",
   "version": "3.12.5"
  }
 },
 "nbformat": 4,
 "nbformat_minor": 5
}
