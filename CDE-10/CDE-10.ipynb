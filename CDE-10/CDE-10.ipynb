{
 "cells": [
  {
   "cell_type": "markdown",
   "id": "7ee94b1b-0a74-492f-b601-66c882737886",
   "metadata": {},
   "source": [
    "## List Of Dictionaries"
   ]
  },
  {
   "cell_type": "code",
   "execution_count": 1,
   "id": "a7af6ebe-003f-401a-8a18-c8b2010e2ac2",
   "metadata": {},
   "outputs": [],
   "source": [
    "customers = [\n",
    " {\n",
    " \"customer id\": 0,\n",
    " \"first name\":\"John\",\n",
    " \"last name\": \"Ogden\",\n",
    " \"address\": \"301 Arbor Rd.\",\n",
    " },\n",
    " {\n",
    " \"customer id\": 1,\n",
    " \"first name\":\"Ann\",\n",
    " \"last name\": \"Sattermyer\",\n",
    " \"address\": \"PO Box 1145\",\n",
    " },\n",
    " {\n",
    " \"customer id\": 2,\n",
    " \"first name\":\"Jill\",\n",
    " \"last name\": \"Somers\",\n",
    " \"address\": \"3 Main St.\",\n",
    " },\n",
    " ]"
   ]
  },
  {
   "cell_type": "code",
   "execution_count": 2,
   "id": "7008c1fc-51f5-456f-a774-5958d00c16b5",
   "metadata": {},
   "outputs": [
    {
     "data": {
      "text/plain": [
       "dict_keys(['customer id', 'first name', 'last name', 'address'])"
      ]
     },
     "execution_count": 2,
     "metadata": {},
     "output_type": "execute_result"
    }
   ],
   "source": [
    "keys = customers[1].keys()\n",
    "keys"
   ]
  },
  {
   "cell_type": "code",
   "execution_count": 3,
   "id": "b13e3d6b-ab79-4c1f-a01a-428e961516a9",
   "metadata": {},
   "outputs": [
    {
     "data": {
      "text/plain": [
       "[{'customer id': 0,\n",
       "  'first name': 'John',\n",
       "  'last name': 'Ogden',\n",
       "  'address': '301 Arbor Rd.'},\n",
       " {'customer id': 1,\n",
       "  'first name': 'Ann',\n",
       "  'last name': 'Sattermyer',\n",
       "  'address': 'PO Box 1145'},\n",
       " {'customer id': 2,\n",
       "  'first name': 'Jill',\n",
       "  'last name': 'Somers',\n",
       "  'address': '3 Main St.'},\n",
       " {'customer id': 3,\n",
       "  'first name': 'Hisham',\n",
       "  'last name': 'Ahmed',\n",
       "  'address': ' Zaitoon Ashraf.'}]"
      ]
     },
     "execution_count": 3,
     "metadata": {},
     "output_type": "execute_result"
    }
   ],
   "source": [
    "customers.append({\n",
    " \"customer id\": 3,\n",
    " \"first name\":\"Hisham\",\n",
    " \"last name\": \"Ahmed\",\n",
    " \"address\": \" Zaitoon Ashraf.\",\n",
    " })\n",
    "customers"
   ]
  },
  {
   "cell_type": "code",
   "execution_count": 4,
   "id": "9f5f059e-ae71-417c-9153-c19b44b11162",
   "metadata": {},
   "outputs": [],
   "source": [
    "dict_customers = {\n",
    "    'customer_id': 1,\n",
    "    'customer_name': 'Hassan',\n",
    "    'discounts': [\"standard\", \"volume\", \"loyalty\"]\n",
    "}"
   ]
  },
  {
   "cell_type": "code",
   "execution_count": 5,
   "id": "b9884386-f92e-4b9d-9a19-24dc2ec91e3b",
   "metadata": {},
   "outputs": [
    {
     "data": {
      "text/plain": [
       "'volume'"
      ]
     },
     "execution_count": 5,
     "metadata": {},
     "output_type": "execute_result"
    }
   ],
   "source": [
    "dict_customers['discounts'][1]"
   ]
  },
  {
   "cell_type": "markdown",
   "id": "85b486e0-02af-464b-929e-11712977f71b",
   "metadata": {},
   "source": [
    "## Dictionary That Contains Dictionary"
   ]
  },
  {
   "cell_type": "code",
   "execution_count": 6,
   "id": "227b1f15-744a-44c0-9cfd-6e26dc482793",
   "metadata": {},
   "outputs": [],
   "source": [
    "customers = {\n",
    " 'customer_1': {\n",
    " \"customer id\": 0,\n",
    " \"first name\":\"John\",\n",
    " \"last name\": \"Ogden\",\n",
    " \"address\": \"301 Arbor Rd.\",\n",
    " },\n",
    " 'customer_2': {\n",
    " \"customer id\": 1,\n",
    " \"first name\":\"Ann\",\n",
    " \"last name\": \"Sattermyer\",\n",
    " \"address\": \"PO Box 1145\",\n",
    " },\n",
    " 'customer_3': {\n",
    " \"customer id\": 2,\n",
    " \"first name\":\"Jill\",\n",
    " \"last name\": \"Somers\",\n",
    " \"address\": \"3 Main St.\",\n",
    " },\n",
    "}"
   ]
  },
  {
   "cell_type": "code",
   "execution_count": 7,
   "id": "58d7dec3-2ee7-4fbe-9226-2f71931eb2ae",
   "metadata": {},
   "outputs": [
    {
     "data": {
      "text/plain": [
       "'John'"
      ]
     },
     "execution_count": 7,
     "metadata": {},
     "output_type": "execute_result"
    }
   ],
   "source": [
    "customers['customer_1']['first name']"
   ]
  },
  {
   "cell_type": "markdown",
   "id": "0b7007c1-de30-4f5b-9201-18a74f138b73",
   "metadata": {},
   "source": [
    "## Functions"
   ]
  },
  {
   "cell_type": "code",
   "execution_count": 8,
   "id": "a7159d1a-2a7e-4836-96a5-e63c29fa835e",
   "metadata": {},
   "outputs": [],
   "source": [
    "def addition():\n",
    "    num1 = int(input(\"Enter First Number: \"))\n",
    "    num2 = int(input(\"Enter Second Number: \"))\n",
    "\n",
    "    print(num1 + num2)"
   ]
  },
  {
   "cell_type": "code",
   "execution_count": 9,
   "id": "45d6f6ef-951c-43c5-8974-ba979e0ce60b",
   "metadata": {},
   "outputs": [
    {
     "name": "stdin",
     "output_type": "stream",
     "text": [
      "Enter First Number:  1\n",
      "Enter Second Number:  2\n"
     ]
    },
    {
     "name": "stdout",
     "output_type": "stream",
     "text": [
      "3\n"
     ]
    }
   ],
   "source": [
    "addition()"
   ]
  },
  {
   "cell_type": "markdown",
   "id": "3158c909-cd09-4708-853a-b9e803d9d5f5",
   "metadata": {},
   "source": [
    "### Task :\n",
    "- Take 2 Numbers and Operator as Input\n",
    "- Perform calculation based on user input"
   ]
  },
  {
   "cell_type": "code",
   "execution_count": 10,
   "id": "95d3d78a-9bd2-4412-8888-de74410339c7",
   "metadata": {},
   "outputs": [
    {
     "name": "stdout",
     "output_type": "stream",
     "text": [
      "OPTIONS:\n",
      " 1. Add\n",
      " 2. Subtract\n",
      " 3. Multiply\n",
      " 4. Divide\n"
     ]
    },
    {
     "name": "stdin",
     "output_type": "stream",
     "text": [
      "Enter First Number :  10\n",
      "Enter Second Number :  20\n",
      "Enter Number Of Arithematic Opeation You Want To Perform:  1\n"
     ]
    },
    {
     "name": "stdout",
     "output_type": "stream",
     "text": [
      "The Sum Is:  30\n"
     ]
    }
   ],
   "source": [
    "print(\"OPTIONS:\\n 1. Add\\n 2. Subtract\\n 3. Multiply\\n 4. Divide\")\n",
    "f_num = int(input(\"Enter First Number : \"))\n",
    "s_num = int(input(\"Enter Second Number : \"))\n",
    "op = int(input(\"Enter Number Of Arithematic Opeation You Want To Perform: \"))\n",
    "\n",
    "def A_Operation(a, b):\n",
    "    if op == 1: print(\"The Sum Is: \",a + b)\n",
    "    elif op == 2: print(\"The Differnce Is: \",a - b)\n",
    "    elif op == 3: print(\"The Product Is: \",a * b)\n",
    "    elif op == 4: print(\"The Quotient Is: \", a / b)\n",
    "    else: print(\"Invalid Selection: \")\n",
    "A_Operation(f_num, s_num)"
   ]
  },
  {
   "cell_type": "markdown",
   "id": "f6884ce1-14dc-4b90-afe2-a7cde61b1b41",
   "metadata": {},
   "source": [
    "### Task 2: \n",
    "- Createa function to register a user with bis name, email, and password\n",
    "  - save a name, email, password in a list\n",
    "- Create another function to login a user with his email and password you saved ata the registration time, if the credentials match the data you saved, print his name and a login message if not print that you are not a registered user please register and run the register function"
   ]
  },
  {
   "cell_type": "code",
   "execution_count": 21,
   "id": "54327389-5285-40ed-835e-e664fe528c87",
   "metadata": {},
   "outputs": [
    {
     "name": "stdout",
     "output_type": "stream",
     "text": [
      "['Hassan', 'hassan0@gmail.com', '12345']\n"
     ]
    }
   ],
   "source": [
    "lst = []\n",
    "def register(name, email, password):\n",
    "    lst.append(name)\n",
    "    lst.append(email)\n",
    "    lst.append(password)\n",
    "    print(lst)\n",
    "register('Hassan', 'hassan0@gmail.com', '12345')"
   ]
  },
  {
   "cell_type": "code",
   "execution_count": 22,
   "id": "f0568ff8-2be6-4c39-b428-bda694cc36ab",
   "metadata": {},
   "outputs": [],
   "source": [
    "def login(email, password):\n",
    "    if lst[1] == email and lst[2] == password:\n",
    "        print(f\"Welcome {lst[0]}\")\n",
    "    else:\n",
    "        print(\"You are Not Registered! Please Register First\")"
   ]
  },
  {
   "cell_type": "code",
   "execution_count": 23,
   "id": "320ff663-3644-4170-a3b9-d19ad0d653b6",
   "metadata": {},
   "outputs": [
    {
     "name": "stdout",
     "output_type": "stream",
     "text": [
      "Welcome Hassan\n",
      "You are Not Registered! Please Register First\n"
     ]
    }
   ],
   "source": [
    "login('hassan0@gmail.com', '12345')\n",
    "login('haisaan0@gmail.com', '12345')"
   ]
  },
  {
   "cell_type": "markdown",
   "id": "d5095cba-f544-4530-b163-24b63d8a6f49",
   "metadata": {},
   "source": [
    "#### For Unkown Arguments"
   ]
  },
  {
   "cell_type": "code",
   "execution_count": 14,
   "id": "c08179e8-c2a0-43fa-a07b-2757607cee1d",
   "metadata": {},
   "outputs": [],
   "source": [
    "def display_result(winner, score, **other_info):\n",
    "    print(\"The winner was \" + winner)\n",
    "    print(\"The score was \" + score)\n",
    "    for key, value in other_info.items():\n",
    "        print(key + \": \" + value)"
   ]
  },
  {
   "cell_type": "code",
   "execution_count": 15,
   "id": "c6bd59c3-fc2a-4314-af1d-8fdfd8845690",
   "metadata": {},
   "outputs": [
    {
     "name": "stdout",
     "output_type": "stream",
     "text": [
      "The winner was Real Madrid\n",
      "The score was 1-0\n",
      "overtime: yes\n",
      "injuries: none\n"
     ]
    }
   ],
   "source": [
    "display_result(winner=\"Real Madrid\", score=\"1-0\",\n",
    "overtime =\"yes\", injuries=\"none\")"
   ]
  },
  {
   "cell_type": "markdown",
   "id": "716934d1-67a9-4bf3-998e-813ee6cce955",
   "metadata": {},
   "source": [
    "#### Return Keyword"
   ]
  },
  {
   "cell_type": "code",
   "execution_count": 16,
   "id": "64e50c18-3ac5-4a2e-94ab-557a261a5b94",
   "metadata": {},
   "outputs": [],
   "source": [
    "def calc_tax(sales_total, tax_rate):\n",
    "    tax = sales_total * tax_rate\n",
    "    return tax"
   ]
  },
  {
   "cell_type": "code",
   "execution_count": 17,
   "id": "cd8d14b8-93f8-4b44-9ff3-7866e4b9310f",
   "metadata": {},
   "outputs": [
    {
     "name": "stdout",
     "output_type": "stream",
     "text": [
      "5.07\n"
     ]
    }
   ],
   "source": [
    "sales_tax = calc_tax(sales_total=101.37, tax_rate=.05)\n",
    "print(f\"{sales_tax:.2f}\")"
   ]
  },
  {
   "cell_type": "markdown",
   "id": "c3d322f3-02c9-4819-9cfe-c665215c089d",
   "metadata": {},
   "source": [
    "#### Local vs Global Variable"
   ]
  },
  {
   "cell_type": "code",
   "execution_count": 18,
   "id": "478f7d2b-1bb6-418a-902b-75b950c4266d",
   "metadata": {},
   "outputs": [
    {
     "name": "stdout",
     "output_type": "stream",
     "text": [
      "0\n"
     ]
    },
    {
     "ename": "NameError",
     "evalue": "name 'local_v' is not defined",
     "output_type": "error",
     "traceback": [
      "\u001b[31m---------------------------------------------------------------------------\u001b[39m",
      "\u001b[31mNameError\u001b[39m                                 Traceback (most recent call last)",
      "\u001b[36mCell\u001b[39m\u001b[36m \u001b[39m\u001b[32mIn[18]\u001b[39m\u001b[32m, line 6\u001b[39m\n\u001b[32m      4\u001b[39m     \u001b[38;5;28mprint\u001b[39m(glob)\n\u001b[32m      5\u001b[39m local()\n\u001b[32m----> \u001b[39m\u001b[32m6\u001b[39m \u001b[43mlocal_v\u001b[49m\n",
      "\u001b[31mNameError\u001b[39m: name 'local_v' is not defined"
     ]
    }
   ],
   "source": [
    "glob = 0  # Global variable\n",
    "def local():\n",
    "    local_v = 10 # Local variable\n",
    "    print(glob)\n",
    "local()\n",
    "local_v"
   ]
  },
  {
   "cell_type": "markdown",
   "id": "c3727c2f-bc28-412a-a7ce-90ddfc5de1ef",
   "metadata": {},
   "source": [
    "#### Task 3:\n",
    "- create a Dict of Dict in which the key of value is email and its values is dict of name and password.\n",
    "- First Check Email if it matches then check its values"
   ]
  },
  {
   "cell_type": "code",
   "execution_count": 11,
   "id": "57f01212-cec9-4d24-89bc-f7c8815c27ab",
   "metadata": {},
   "outputs": [],
   "source": [
    "dict = {'hassan0@gmail.com': {'name': 'Hassan', 'password': '12345'}, 'hisham05@hotmail.com': {'name': 'Hisham', 'password': '54321'}}\n",
    "def login(email, name, password):\n",
    "    if dict[email]:\n",
    "        if dict[email][\"name\"] and dict[email][\"password\"]:\n",
    "            print(f\"Welcome {name}\")\n",
    "    else:\n",
    "        print(\"Invalid\")"
   ]
  },
  {
   "cell_type": "code",
   "execution_count": 15,
   "id": "cf1ab8bd-71f3-427e-abc6-a96c3cb1758a",
   "metadata": {},
   "outputs": [
    {
     "name": "stdout",
     "output_type": "stream",
     "text": [
      "Welcome Hassan\n"
     ]
    }
   ],
   "source": [
    "login(\"hassan0@gmail.com\",\"Hassan\",\"12345\")"
   ]
  }
 ],
 "metadata": {
  "kernelspec": {
   "display_name": "Python 3 (ipykernel)",
   "language": "python",
   "name": "python3"
  },
  "language_info": {
   "codemirror_mode": {
    "name": "ipython",
    "version": 3
   },
   "file_extension": ".py",
   "mimetype": "text/x-python",
   "name": "python",
   "nbconvert_exporter": "python",
   "pygments_lexer": "ipython3",
   "version": "3.12.5"
  }
 },
 "nbformat": 4,
 "nbformat_minor": 5
}
