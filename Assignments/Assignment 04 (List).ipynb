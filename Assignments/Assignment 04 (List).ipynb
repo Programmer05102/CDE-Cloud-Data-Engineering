{
 "cells": [
  {
   "cell_type": "markdown",
   "id": "bf5a789f-c2d9-4c9f-bf75-10f328cc8f91",
   "metadata": {},
   "source": [
    "# List Assignment"
   ]
  },
  {
   "cell_type": "markdown",
   "id": "a4428f5d-f27f-46a8-b04c-96b465f8783a",
   "metadata": {},
   "source": [
    "1. Write a program that accepts a list from user and print the alternate element of list. "
   ]
  },
  {
   "cell_type": "code",
   "execution_count": 1,
   "id": "5c937ca0-f6fa-4790-bb96-d276aed8a9fe",
   "metadata": {},
   "outputs": [
    {
     "name": "stdin",
     "output_type": "stream",
     "text": [
      "Enter Size of the List From 1 to 10:  6\n",
      "Enter First Element of List:  5\n",
      "Enter Second Element of List:  2\n",
      "Enter Third Element of List:  3\n",
      "Enter Fourth Element of List:  1\n",
      "Enter Fifth Element of List:  4\n",
      "Enter Sixth Element of List:  6\n"
     ]
    },
    {
     "name": "stdout",
     "output_type": "stream",
     "text": [
      "['5', '2', '3', '1', '4', '6']\n"
     ]
    }
   ],
   "source": [
    "size = int(input(\"Enter Size of the List From 1 to 10: \"))\n",
    "index = (\"First\", \"Second\", \"Third\", \"Fourth\", \"Fifth\", \"Sixth\", \"Seventh\", \"Eight\", \"Ninth\", \"Tenth\")\n",
    "list = []\n",
    "for i in range(0,size): list.append(input(f\"Enter {index[i]} Element of List: \"))\n",
    "print(list)"
   ]
  },
  {
   "cell_type": "markdown",
   "id": "86fa6f19-f4f0-4234-90d2-d621434cfccb",
   "metadata": {},
   "source": [
    "2. Write a program that accepts a list from user. Your program should reverse the content of list and\n",
    "display it. Do not use reverse() method. "
   ]
  },
  {
   "cell_type": "code",
   "execution_count": 2,
   "id": "5046df98-9ba9-4178-a854-953de6a9ae67",
   "metadata": {},
   "outputs": [
    {
     "name": "stdin",
     "output_type": "stream",
     "text": [
      "Enter Size of the List From 1 to 10:  5\n",
      "Enter First Element of List:  1\n",
      "Enter Second Element of List:  2\n",
      "Enter Third Element of List:  3\n",
      "Enter Fourth Element of List:  4\n",
      "Enter Fifth Element of List:  5\n"
     ]
    },
    {
     "name": "stdout",
     "output_type": "stream",
     "text": [
      "['5', '4', '3', '2', '1']\n"
     ]
    }
   ],
   "source": [
    "size = int(input(\"Enter Size of the List From 1 to 10: \"))\n",
    "index = (\"First\", \"Second\", \"Third\", \"Fourth\", \"Fifth\", \"Sixth\", \"Seventh\", \"Eight\", \"Ninth\", \"Tenth\")\n",
    "list = []\n",
    "for i in range(0,size): list.append(input(f\"Enter {index[i]} Element of List: \"))\n",
    "print(list[::-1])"
   ]
  },
  {
   "cell_type": "markdown",
   "id": "8cd1b160-e305-41d9-95e6-16c62f185266",
   "metadata": {},
   "source": [
    " 3. Find and display the largest number of a list without using built-in function max(). Your program\n",
    "should ask the user to input values in list from keyboard. "
   ]
  },
  {
   "cell_type": "code",
   "execution_count": 3,
   "id": "0de43d06-1b34-45ef-ae73-7fe3f0e3bf13",
   "metadata": {},
   "outputs": [
    {
     "name": "stdin",
     "output_type": "stream",
     "text": [
      "Enter Size of the List From 1 to 10:  4\n",
      "Enter First Element of List:  4\n",
      "Enter Second Element of List:  2\n",
      "Enter Third Element of List:  3\n",
      "Enter Fourth Element of List:  1\n"
     ]
    },
    {
     "name": "stdout",
     "output_type": "stream",
     "text": [
      "The largest number in the list is: 4\n"
     ]
    }
   ],
   "source": [
    "size = int(input(\"Enter Size of the List From 1 to 10: \"))\n",
    "index = (\"First\", \"Second\", \"Third\", \"Fourth\", \"Fifth\", \"Sixth\", \"Seventh\", \"Eight\", \"Ninth\", \"Tenth\")\n",
    "list = []\n",
    "for i in range(0,size): list.append(input(f\"Enter {index[i]} Element of List: \"))\n",
    "largest = list[0]\n",
    "for i in list[1:]:\n",
    "    if i > largest:\n",
    "        largest = i\n",
    "print(f\"The largest number in the list is: {largest}\")"
   ]
  },
  {
   "cell_type": "markdown",
   "id": "229b9fc5-57ec-4be6-b832-d49e7331b9f9",
   "metadata": {},
   "source": [
    "4. Write a program that rotates the element of a list so that the element at the first index moves to the\n",
    "second index, the element in the second index moves to the third index, etc., and the element in the last\n",
    "index moves to the first index. "
   ]
  },
  {
   "cell_type": "code",
   "execution_count": 4,
   "id": "ba2da0f8-ff80-4120-97c9-edd99f2646fb",
   "metadata": {},
   "outputs": [
    {
     "data": {
      "text/plain": [
       "['Grapes', 'Apple', 'Guava', 'Peach']"
      ]
     },
     "execution_count": 4,
     "metadata": {},
     "output_type": "execute_result"
    }
   ],
   "source": [
    "list = [\"Apple\", \"Guava\", \"Peach\", \"Grapes\"]\n",
    "shift = [list[-1]] + list[:-1]\n",
    "shift"
   ]
  },
  {
   "cell_type": "markdown",
   "id": "9b3d9e4e-6553-4c41-bccb-9cec6c2fab0c",
   "metadata": {},
   "source": [
    "5. Write a program that input a string and ask user to delete a given word from a string. "
   ]
  },
  {
   "cell_type": "code",
   "execution_count": 5,
   "id": "9018ab80-8ec5-448d-8f25-9f08f6c7558c",
   "metadata": {},
   "outputs": [
    {
     "name": "stdin",
     "output_type": "stream",
     "text": [
      "Enter Your string:  Hisham Ahmed\n"
     ]
    },
    {
     "name": "stdout",
     "output_type": "stream",
     "text": [
      "Hisham Ahmed\n"
     ]
    },
    {
     "name": "stdin",
     "output_type": "stream",
     "text": [
      "Enter Word You Want To Delete:  Ahmed\n"
     ]
    },
    {
     "data": {
      "text/plain": [
       "'Hisham '"
      ]
     },
     "execution_count": 5,
     "metadata": {},
     "output_type": "execute_result"
    }
   ],
   "source": [
    "string = input(\"Enter Your string: \")\n",
    "print(string)\n",
    "word = input(\"Enter Word You Want To Delete: \")\n",
    "new_string = string.replace(word,\"\")\n",
    "new_string"
   ]
  },
  {
   "cell_type": "markdown",
   "id": "f4b17cbf-75c3-4179-a990-df6abd526475",
   "metadata": {},
   "source": [
    " 6. Write a program that reads a string from the user containing a date in the form mm/dd/yyyy. It\n",
    "should print the date in the form March 12, 2021. "
   ]
  },
  {
   "cell_type": "code",
   "execution_count": 6,
   "id": "53610e39-3d0c-4b48-89bc-25be4c87dbc8",
   "metadata": {},
   "outputs": [
    {
     "name": "stdin",
     "output_type": "stream",
     "text": [
      "Enter Current Date in (dd/mm/yyyy) Format:  24/08/2025\n"
     ]
    },
    {
     "name": "stdout",
     "output_type": "stream",
     "text": [
      "August 24,2025\n"
     ]
    }
   ],
   "source": [
    "months = ['January', 'February', 'March', 'April', 'May', 'June', 'July', 'August', 'September', 'October', 'November', 'December']\n",
    "date = input(\"Enter Current Date in (dd/mm/yyyy) Format: \")\n",
    "for i in date:\n",
    "    if i == date[4:5]:\n",
    "        print(f\"{months[int(i)-1]} {date[0:2]},{date[6:]}\")"
   ]
  },
  {
   "cell_type": "markdown",
   "id": "31a50663-7c3c-480a-8e3e-bcd3ff8ae836",
   "metadata": {},
   "source": [
    " 7. Write a program with a function that accepts a string from keyboard and create a new string after\n",
    "converting character of each word capitalized. For instance, if the sentence is \"stop and smell the roses.\"\n",
    "the output should be \"Stop And Smell The Roses\" "
   ]
  },
  {
   "cell_type": "code",
   "execution_count": 7,
   "id": "fb275e20-7559-4b95-b9d0-435041f05373",
   "metadata": {},
   "outputs": [
    {
     "name": "stdin",
     "output_type": "stream",
     "text": [
      "Enter Any String :  stop and smell the roses\n"
     ]
    },
    {
     "name": "stdout",
     "output_type": "stream",
     "text": [
      "Stop And Smell The Roses\n"
     ]
    }
   ],
   "source": [
    "string = input(\"Enter Any String : \")\n",
    "new_string = string.title()\n",
    "print(new_string)"
   ]
  },
  {
   "cell_type": "markdown",
   "id": "eab6bd60-77ea-4f7c-9c12-5c030b8a359f",
   "metadata": {},
   "source": [
    "8. Find the sum of each row of matrix of size m x n. For example for the following matrix output will be\n",
    "like this :\n",
    "        2 11  7  12\n",
    "        5  2  9  15\n",
    "        8  3 10  42\n",
    "\n",
    "Sum of row 1 = 32\n",
    "Sum of row 2 = 31\n",
    "Sum of row 3 = 63 \n"
   ]
  },
  {
   "cell_type": "code",
   "execution_count": 8,
   "id": "9e152680-275b-4c63-9c53-b33ccb079ee6",
   "metadata": {},
   "outputs": [
    {
     "name": "stdout",
     "output_type": "stream",
     "text": [
      "2 11 7 12 \n",
      "5 2 9 15 \n",
      "8 3 10 42 \n",
      "Sum of row 1 = 32\n",
      "Sum of row 2 = 31\n",
      "Sum of row 3 = 63\n"
     ]
    }
   ],
   "source": [
    "mat = [[2,11,7,12],[5,2,9,15],[8,3,10,42]]\n",
    "row_sum = []\n",
    "for i in range(0,len(mat)):\n",
    "    for j in range(0,len(mat[0])): print(mat[i][j],end = \" \")\n",
    "    row_sum.append(sum(mat[i]))\n",
    "    print()\n",
    "for i in range(0,len(row_sum)): print(f\"Sum of row {i+1} = {row_sum[i]}\")"
   ]
  },
  {
   "cell_type": "markdown",
   "id": "2e306f91-58b6-4557-a7b7-a70af9c3fb8a",
   "metadata": {},
   "source": [
    "9. Write a program to add two matrices of size n x m. "
   ]
  },
  {
   "cell_type": "code",
   "execution_count": 9,
   "id": "3b712e1c-1690-4149-aa1d-6303ed96a01d",
   "metadata": {},
   "outputs": [
    {
     "name": "stdout",
     "output_type": "stream",
     "text": [
      "1   2   3   1   2   3   10 10 10 \n",
      "4   5   6 + 4   5   6 = 10 10 10 \n",
      "7   8   9   7   8   9   10 10 10 \n",
      "\n"
     ]
    }
   ],
   "source": [
    "matA = [[1,2,3],[4,5,6],[7,8,9]]\n",
    "matB = [[9,8,7],[6,5,4],[3,2,1]]\n",
    "for i in range(0,len(matA)):\n",
    "    for j in range(0,len(matA)): \n",
    "        if i == 1 and j == 2:\n",
    "            print(matA[i][j],\"+\",end = \" \")\n",
    "        else:\n",
    "            print(matA[i][j],\"\",end = \"  \")\n",
    "    for j in range(0,len(matA)):\n",
    "        if i == 1 and j == 2:\n",
    "            print(matA[i][j],\"=\",end = \" \")\n",
    "        else:\n",
    "            print(matA[i][j],\"\",end = \"  \")\n",
    "    for j in range(0,len(matA[i])): print(f\"{matA[i][j] + matB[i][j]}\",end = \" \")\n",
    "    print()\n",
    "print()"
   ]
  },
  {
   "cell_type": "markdown",
   "id": "3f48d947-6908-414b-9a40-48a7f8f3f430",
   "metadata": {},
   "source": [
    "10. Write a program to multiply two matrices "
   ]
  },
  {
   "cell_type": "code",
   "execution_count": 10,
   "id": "8d45c611-f6f4-46e0-9455-7c532837f1f2",
   "metadata": {},
   "outputs": [
    {
     "name": "stdout",
     "output_type": "stream",
     "text": [
      "1   2   3   5   6   7   \n",
      "3   4   5 x 3   4   5   \n",
      "5   6   7   1   2   3   \n",
      "14  20  26  \n",
      "32  44  56  \n",
      "50  68  86  \n"
     ]
    }
   ],
   "source": [
    "matA = [[1,2,3],[3,4,5,],[5,6,7]]\n",
    "matB = [[5,6,7],[3,4,5],[1,2,3]]\n",
    "matC = []\n",
    "for i in range(0,len(matA)):\n",
    "    for j in range(0,len(matA)): \n",
    "        if i == 1 and j == 2:\n",
    "            print(matA[i][j],\"x\",end = \" \")\n",
    "        else:\n",
    "            print(matA[i][j],\"\",end = \"  \")\n",
    "    for j in range(0,len(matA)): print(matB[i][j],\"\",end = \"  \")\n",
    "    print()\n",
    "matC = [[0 for i in range(len(matB[0]))] for i in range(len(matA))]\n",
    "for i in range(0,len(matA)):\n",
    "    for j in range(0,len(matB)):\n",
    "        for k in range(0,len(matB)):\n",
    "            matC[i][j] += matA[i][k]*matB[k][j]\n",
    "        print(matC[i][j],\"\",end = \" \")\n",
    "    print()"
   ]
  }
 ],
 "metadata": {
  "kernelspec": {
   "display_name": "Python 3 (ipykernel)",
   "language": "python",
   "name": "python3"
  },
  "language_info": {
   "codemirror_mode": {
    "name": "ipython",
    "version": 3
   },
   "file_extension": ".py",
   "mimetype": "text/x-python",
   "name": "python",
   "nbconvert_exporter": "python",
   "pygments_lexer": "ipython3",
   "version": "3.12.5"
  }
 },
 "nbformat": 4,
 "nbformat_minor": 5
}
