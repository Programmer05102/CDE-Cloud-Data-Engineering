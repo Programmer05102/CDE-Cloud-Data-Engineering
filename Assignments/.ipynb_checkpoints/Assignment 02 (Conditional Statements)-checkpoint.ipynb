{
 "cells": [
  {
   "cell_type": "markdown",
   "metadata": {},
   "source": [
    "# Part -2 Python Basics (Conditional Statements)"
   ]
  },
  {
   "cell_type": "markdown",
   "metadata": {},
   "source": [
    "1) A company decided to give bonus of 5% to employee if his/her year of service is more than 5 years.\n",
    "Ask user for their salary and year of service and print the net bonus amount."
   ]
  },
  {
   "cell_type": "code",
   "execution_count": 1,
   "metadata": {},
   "outputs": [
    {
     "name": "stdin",
     "output_type": "stream",
     "text": [
      "Tell Your Year of Services in this Company:  5\n"
     ]
    },
    {
     "name": "stdout",
     "output_type": "stream",
     "text": [
      "You Are Not Eligible for Bonus\n"
     ]
    }
   ],
   "source": [
    "y_ser = int(input(\"Tell Your Year of Services in this Company: \"))\n",
    "if y_ser > 5:\n",
    "    sal = int(input(\"Tell us your Salary: \"))\n",
    "    bon = sal * .05\n",
    "    print(\"Now Your Net Bonus is : \",bon)\n",
    "else :\n",
    "    print(\"You Are Not Eligible for Bonus\")"
   ]
  },
  {
   "cell_type": "markdown",
   "metadata": {},
   "source": [
    "\n",
    "2) Write a program to check whether a person is eligible for voting or not. (accept age from user) if age is greater than 17 eligible otherwise not eligible"
   ]
  },
  {
   "cell_type": "code",
   "execution_count": 2,
   "metadata": {},
   "outputs": [
    {
     "name": "stdin",
     "output_type": "stream",
     "text": [
      "Enter Your Age:  18\n"
     ]
    },
    {
     "name": "stdout",
     "output_type": "stream",
     "text": [
      "You Are Eligible For Voting\n"
     ]
    }
   ],
   "source": [
    "age = int(input(\"Enter Your Age: \"))\n",
    "if age > 17: print(\"You Are Eligible For Voting\")\n",
    "else: print(\"You Are Not Eligible For Voting\")"
   ]
  },
  {
   "cell_type": "markdown",
   "metadata": {},
   "source": [
    "\n",
    "3) Write a program to check whether a number entered by user is even or odd."
   ]
  },
  {
   "cell_type": "code",
   "execution_count": 3,
   "metadata": {},
   "outputs": [
    {
     "name": "stdin",
     "output_type": "stream",
     "text": [
      "Enter A Number:  5\n"
     ]
    },
    {
     "name": "stdout",
     "output_type": "stream",
     "text": [
      "Number is Odd\n"
     ]
    }
   ],
   "source": [
    "num = int(input(\"Enter A Number: \"))\n",
    "if num % 2 == 0: print(\"Number is Even\")\n",
    "else: print(\"Number is Odd\")"
   ]
  },
  {
   "cell_type": "markdown",
   "metadata": {},
   "source": [
    "4) Write a program to check whether a number is divisible by 7 or not.\n",
    "Show Answer"
   ]
  },
  {
   "cell_type": "code",
   "execution_count": 4,
   "metadata": {},
   "outputs": [
    {
     "name": "stdin",
     "output_type": "stream",
     "text": [
      "Enter A Number:  48\n"
     ]
    },
    {
     "name": "stdout",
     "output_type": "stream",
     "text": [
      "Number is Not Divisible by 7\n"
     ]
    }
   ],
   "source": [
    "num = int(input(\"Enter A Number: \"))\n",
    "if num % 7 == 0: print(\"Number is Divisible by 7\")\n",
    "else: print(\"Number is Not Divisible by 7\")"
   ]
  },
  {
   "cell_type": "markdown",
   "metadata": {},
   "source": [
    "5) Write a program to display \n",
    "\"Hello\" if a number entered by user is a multiple of five , otherwise print \"Bye\"."
   ]
  },
  {
   "cell_type": "code",
   "execution_count": 5,
   "metadata": {},
   "outputs": [
    {
     "name": "stdin",
     "output_type": "stream",
     "text": [
      "Enter A Number:  24\n"
     ]
    },
    {
     "name": "stdout",
     "output_type": "stream",
     "text": [
      "Bye\n"
     ]
    }
   ],
   "source": [
    "num = int(input(\"Enter A Number: \"))\n",
    "if num % 5 == 0: print(\"Hello\")\n",
    "else: print(\"Bye\")"
   ]
  },
  {
   "cell_type": "markdown",
   "metadata": {},
   "source": [
    "7) Write a program to display the last digit of a number.\n"
   ]
  },
  {
   "cell_type": "code",
   "execution_count": 6,
   "metadata": {},
   "outputs": [
    {
     "name": "stdin",
     "output_type": "stream",
     "text": [
      "Enter Atlest Two Digits Number:  420\n"
     ]
    },
    {
     "name": "stdout",
     "output_type": "stream",
     "text": [
      "0\n"
     ]
    }
   ],
   "source": [
    "num = input(\"Enter Atlest Two Digits Number: \")\n",
    "print(num[len(num)-1:])"
   ]
  },
  {
   "cell_type": "markdown",
   "metadata": {},
   "source": [
    "9) Take values of length and breadth of a rectangle from user and print if it is square or rectangle."
   ]
  },
  {
   "cell_type": "code",
   "execution_count": 7,
   "metadata": {},
   "outputs": [
    {
     "name": "stdin",
     "output_type": "stream",
     "text": [
      "Enter Breadth of a Rectangle in Integers:  20\n",
      "Enter Length of a Rectangle in Integers:  20\n"
     ]
    },
    {
     "name": "stdout",
     "output_type": "stream",
     "text": [
      "It's A Square\n"
     ]
    }
   ],
   "source": [
    "br = int(input(\"Enter Breadth of a Rectangle in Integers: \"))\n",
    "leng = int(input(\"Enter Length of a Rectangle in Integers: \"))\n",
    "if br == leng: print(\"It's A Square\")\n",
    "else: print(\"It's A Rectangle\")"
   ]
  },
  {
   "cell_type": "markdown",
   "metadata": {},
   "source": [
    "10) Take two int values from user and print greatest among them."
   ]
  },
  {
   "cell_type": "code",
   "execution_count": 8,
   "metadata": {},
   "outputs": [
    {
     "name": "stdin",
     "output_type": "stream",
     "text": [
      "Enter First Number in Integer:  1\n",
      "Enter Second Number in Integer:  3\n"
     ]
    },
    {
     "name": "stdout",
     "output_type": "stream",
     "text": [
      "Second Number : 3 is Greater\n"
     ]
    }
   ],
   "source": [
    "num1 = int(input(\"Enter First Number in Integer: \"))\n",
    "num2 = int(input(\"Enter Second Number in Integer: \"))\n",
    "if num1 > num2: print(f\"First Number : {num1} is Greater\")\n",
    "elif num2 > num1: print(f\"Second Number : {num2} is Greater\")\n",
    "else: print(\"Both are Equal\")"
   ]
  },
  {
   "cell_type": "markdown",
   "metadata": {},
   "source": [
    "11) A shop will give discount of 10% if the cost of purchased quantity is more than 1000.\n",
    "Ask user for quantity\n",
    "Suppose, one unit will cost 100.\n",
    "Judge and print total cost for user."
   ]
  },
  {
   "cell_type": "code",
   "execution_count": 9,
   "metadata": {},
   "outputs": [
    {
     "name": "stdin",
     "output_type": "stream",
     "text": [
      "Enter Number of Units You Bought:  10\n"
     ]
    },
    {
     "name": "stdout",
     "output_type": "stream",
     "text": [
      "Your Total Cost Is : 1000\n"
     ]
    }
   ],
   "source": [
    "quan = int(input(\"Enter Number of Units You Bought: \"))\n",
    "tot = quan * 100\n",
    "if tot > 1000:print(f\"Your Total Cost Is : {tot-(tot*0.10)}\")\n",
    "else: print(f\"Your Total Cost Is : {tot}\")"
   ]
  },
  {
   "cell_type": "markdown",
   "metadata": {},
   "source": [
    "12) A school has following rules for grading system:\n",
    "\n",
    "a. Below 25 - F\n",
    "\n",
    "b. 25 to 45 - E\n",
    "\n",
    "c. 45 to 50 - D\n",
    "\n",
    "d. 50 to 60 - C\n",
    "\n",
    "e. 60 to 80 - B\n",
    "\n",
    "f. Above 80 - A\n",
    "\n",
    "Ask user to enter marks and print the corresponding grade."
   ]
  },
  {
   "cell_type": "code",
   "execution_count": 10,
   "metadata": {},
   "outputs": [
    {
     "name": "stdin",
     "output_type": "stream",
     "text": [
      "Enter Your Marks:  24\n"
     ]
    },
    {
     "name": "stdout",
     "output_type": "stream",
     "text": [
      "Your Grade is F\n"
     ]
    }
   ],
   "source": [
    "marks = int(input(\"Enter Your Marks: \"))\n",
    "if marks < 25  and marks >= 0: print(\"Your Grade is F\")\n",
    "elif marks >= 25 and marks < 45: print(\"Your Grade is E\")\n",
    "elif marks >= 45 and marks < 50: print(\"Your Grade is D\")\n",
    "elif marks >= 50 and marks < 60: print(\"Your Grade is c\")\n",
    "elif marks >= 60 and marks < 80: print(\"Your Grade is B\")\n",
    "elif marks >= 80 and marks <= 100: print(\"Your Grade is A\")\n",
    "else: print(\"Your Marks is Out of Range\")"
   ]
  },
  {
   "cell_type": "markdown",
   "metadata": {},
   "source": [
    "14)A student will not be allowed to sit in exam if his/her attendence is less than 75%.\n",
    "\n",
    "Take following input from user\n",
    "\n",
    "- Number of classes held\n",
    "\n",
    "- Number of classes attended.\n",
    "\n",
    "And print\n",
    "\n",
    "- percentage of class attended\n",
    "\n",
    "- Is student is allowed to sit in exam or not.\n"
   ]
  },
  {
   "cell_type": "code",
   "execution_count": 11,
   "metadata": {},
   "outputs": [
    {
     "name": "stdin",
     "output_type": "stream",
     "text": [
      "Enter Number of Classes Held:  100\n",
      "Enter Number of Classes Attended 76\n"
     ]
    },
    {
     "name": "stdout",
     "output_type": "stream",
     "text": [
      "Percentage of Class Is : 76.00%\n",
      "Student is Allowed to Sit in Exam\n"
     ]
    }
   ],
   "source": [
    "cls_held = int(input(\"Enter Number of Classes Held: \"))\n",
    "cls_atnd = int(input(\"Enter Number of Classes Attended\"))\n",
    "per = (cls_atnd / cls_held) * 100\n",
    "if per >= 75:\n",
    "    print(f\"Percentage of Class Is : {per:.2f}%\")\n",
    "    print(\"Student is Allowed to Sit in Exam\")\n",
    "else:\n",
    "    print(f\"Percentage of Class Is : {per:.2f}\")\n",
    "    print(\"Student is Not Allowed to Sit in Exam\")"
   ]
  },
  {
   "cell_type": "markdown",
   "metadata": {},
   "source": [
    "15) Modify the above question to allow student to sit if he/she has medical cause. Ask user if he/she has medical cause or not ( 'Y' or 'N' ) and print accordingly."
   ]
  },
  {
   "cell_type": "code",
   "execution_count": 12,
   "metadata": {},
   "outputs": [
    {
     "name": "stdin",
     "output_type": "stream",
     "text": [
      "Enter Number of Classes Held:  100\n",
      "Enter Number of Classes Attended 70\n",
      "Dou You have any Medical Cause(Y/N):  Y\n"
     ]
    },
    {
     "name": "stdout",
     "output_type": "stream",
     "text": [
      "Percentage of Class Is : 70.00%\n",
      "Student is Allowed to Sit in Exam\n"
     ]
    }
   ],
   "source": [
    "cls_held = int(input(\"Enter Number of Classes Held: \"))\n",
    "cls_atnd = int(input(\"Enter Number of Classes Attended\"))\n",
    "per = (cls_atnd / cls_held) * 100\n",
    "if per >= 75:\n",
    "    print(f\"Percentage of Class Is : {per:.2f}%\")\n",
    "    print(\"Student is Allowed to Sit in Exam\")\n",
    "if per < 75:\n",
    "    med = input(\"Dou You have any Medical Cause(Y/N): \")\n",
    "    if med == \"Y\":\n",
    "        print(f\"Percentage of Class Is : {per:.2f}%\")\n",
    "        print(\"Student is Allowed to Sit in Exam\")\n",
    "    else: \n",
    "        print(f\"Percentage of Class Is : {per:.2f}\")\n",
    "        print(\"Student is Not Allowed to Sit in Exam\")"
   ]
  },
  {
   "cell_type": "markdown",
   "metadata": {},
   "source": [
    "16) Write a program to check if a year is leap year or not.\n",
    "\n",
    "If a year is divisible by 4 then it is leap year but if the year is century year like 2000, 1900, 2100 then it must be divisible by 400."
   ]
  },
  {
   "cell_type": "code",
   "execution_count": 13,
   "metadata": {},
   "outputs": [
    {
     "name": "stdin",
     "output_type": "stream",
     "text": [
      "Enter Curret Year You are Living In:  2025\n"
     ]
    },
    {
     "name": "stdout",
     "output_type": "stream",
     "text": [
      "This Year is Not a Leap Year\n"
     ]
    }
   ],
   "source": [
    "year = int(input(\"Enter Curret Year You are Living In: \"))\n",
    "if year % 4 == 0 or year % 400 == 0: print(\"This Year is a Leap Year\")\n",
    "else: print(\"This Year is Not a Leap Year\")"
   ]
  },
  {
   "cell_type": "markdown",
   "metadata": {},
   "source": [
    "17) Ask user to enter age, gender ( M or F ), marital status ( Y or N ) and then using following rules print their place of service.\n",
    "\n",
    "if employee is female, then she will work only in urban areas.\n",
    "\n",
    "if employee is a male and age is in between 20 to 40 then he may work in anywhere\n",
    "\n",
    "if employee is male and age is in between 40 t0 60 then he will work in urban areas only.\n",
    "\n",
    "And any other input of age should print \"ERROR\""
   ]
  },
  {
   "cell_type": "code",
   "execution_count": 14,
   "metadata": {},
   "outputs": [
    {
     "name": "stdin",
     "output_type": "stream",
     "text": [
      "Enter Your Age:  24\n",
      "Enter Your Gender(M or F):  M\n",
      "Enter Your Marital Status(Y/N):  N\n"
     ]
    },
    {
     "name": "stdout",
     "output_type": "stream",
     "text": [
      "You Can Work Anywhere\n"
     ]
    }
   ],
   "source": [
    "age = int(input(\"Enter Your Age: \"))\n",
    "gender = input(\"Enter Your Gender(M or F): \")\n",
    "status = input(\"Enter Your Marital Status(Y/N): \")\n",
    "if gender == \"F\": print(\"You Will Work In Urban Areas Only\")\n",
    "elif gender == \"M\" and age >= 20 and age < 40: print(\"You Can Work Anywhere\")\n",
    "elif gender == \"M\" and age >= 40 and age <= 60: print(\"You Will Work in Urban Areas Only\")\n",
    "else: print(\"Error\")"
   ]
  },
  {
   "cell_type": "markdown",
   "metadata": {},
   "source": [
    "6) Write a program to calculate the electricity bill (accept number of unit from user) according to the following criteria :\n",
    "     Unit                                                     Price  \n",
    "uptp 100 units                                             no charge\n",
    "Next 200 units                                              Rs 5 per unit\n",
    "After 200 units                                             Rs 10 per unit\n",
    "(For example if input unit is 350 than total bill amount is Rs.3500\n",
    "(For example if input unit is 97 than total bill amount is Rs.0\n",
    "(For example if input unit is 150 than total bill amount is Rs.750"
   ]
  },
  {
   "cell_type": "code",
   "execution_count": 15,
   "metadata": {},
   "outputs": [
    {
     "name": "stdin",
     "output_type": "stream",
     "text": [
      "Enter Yours Units 150\n"
     ]
    },
    {
     "name": "stdout",
     "output_type": "stream",
     "text": [
      "The Bill For 150 Units is 750\n"
     ]
    }
   ],
   "source": [
    "units = int(input(\"Enter Yours Units\"))\n",
    "if units <= 100:\n",
    "    bill = 0\n",
    "    print(f\"The Bill For {units} Units is {bill}\")\n",
    "elif units > 100 and units <= 200:\n",
    "    bill = units * 5\n",
    "    print(f\"The Bill For {units} Units is {bill}\")\n",
    "elif units > 200:\n",
    "    bill = units * 10\n",
    "    print(f\"The Bill For {units} Units is {bill}\")"
   ]
  },
  {
   "cell_type": "markdown",
   "metadata": {},
   "source": [
    "13) Take input of age of 3 people by user and determine oldest and youngest among them."
   ]
  },
  {
   "cell_type": "code",
   "execution_count": 16,
   "metadata": {},
   "outputs": [
    {
     "name": "stdin",
     "output_type": "stream",
     "text": [
      "Enter Age of First Person:  24\n",
      "Enter Age of Second Person:  21\n",
      "Enter Age of Third Person:  50\n"
     ]
    },
    {
     "name": "stdout",
     "output_type": "stream",
     "text": [
      "The Oldest is Person 3 and The Youngest is Person 2\n"
     ]
    }
   ],
   "source": [
    "age1 = int(input(\"Enter Age of First Person: \"))\n",
    "age2 = int(input(\"Enter Age of Second Person: \"))\n",
    "age3 = int(input(\"Enter Age of Third Person: \"))\n",
    "if age1 > age2 and age2 > age3: print(\"The Oldest is Person 1 and The Youngest is Person 3\")\n",
    "elif age2 > age1 and age1 > age3: print(\"The Oldest is Person 2 and The Youngest is Person 3\")\n",
    "elif age3 > age2 and age2 > age1: print(\"The Oldest is Person 3 and The Youngest is Person 1\")\n",
    "else: print(\"The Oldest is Person 3 and The Youngest is Person 2\")"
   ]
  }
 ],
 "metadata": {
  "kernelspec": {
   "display_name": "Python 3 (ipykernel)",
   "language": "python",
   "name": "python3"
  },
  "language_info": {
   "codemirror_mode": {
    "name": "ipython",
    "version": 3
   },
   "file_extension": ".py",
   "mimetype": "text/x-python",
   "name": "python",
   "nbconvert_exporter": "python",
   "pygments_lexer": "ipython3",
   "version": "3.12.5"
  }
 },
 "nbformat": 4,
 "nbformat_minor": 4
}
