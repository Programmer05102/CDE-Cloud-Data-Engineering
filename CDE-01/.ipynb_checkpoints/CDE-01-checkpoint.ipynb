{
 "cells": [
  {
   "cell_type": "code",
   "execution_count": 14,
   "id": "50ec9205-5480-4cbe-b725-5756a3cb2aba",
   "metadata": {},
   "outputs": [
    {
     "name": "stdout",
     "output_type": "stream",
     "text": [
      "Hello Batch-3\n"
     ]
    }
   ],
   "source": [
    "print('Hello Batch-3')"
   ]
  },
  {
   "cell_type": "code",
   "execution_count": 15,
   "id": "a2063f11-3879-4c1a-907e-e8ee1cc63525",
   "metadata": {},
   "outputs": [
    {
     "name": "stdout",
     "output_type": "stream",
     "text": [
      "Hello\n"
     ]
    }
   ],
   "source": [
    "print(\"Hello\")"
   ]
  },
  {
   "cell_type": "code",
   "execution_count": 16,
   "id": "7ae4aa84-32a9-44ba-a953-ddb4a9b36b9c",
   "metadata": {},
   "outputs": [
    {
     "name": "stdout",
     "output_type": "stream",
     "text": [
      "Hello\n",
      "    Batch-3\n"
     ]
    }
   ],
   "source": [
    "print(\"\"\"Hello\n",
    "    Batch-3\"\"\")"
   ]
  },
  {
   "cell_type": "markdown",
   "id": "a4eec8ad-6781-47a8-8a47-27bfae028934",
   "metadata": {},
   "source": [
    "### Variables For String"
   ]
  },
  {
   "cell_type": "code",
   "execution_count": 17,
   "id": "91d2dc9b-4e0e-4dee-9686-9a7843ddfee4",
   "metadata": {},
   "outputs": [
    {
     "name": "stdout",
     "output_type": "stream",
     "text": [
      "Hisham Ahmed\n"
     ]
    }
   ],
   "source": [
    "first_name = 'Hisham'\n",
    "last_name = \"Ahmed\"\n",
    "print(first_name + \" \" + last_name)"
   ]
  },
  {
   "cell_type": "code",
   "execution_count": 18,
   "id": "dd7dcaad-43c3-4c74-bc03-9fd4637258c2",
   "metadata": {},
   "outputs": [
    {
     "data": {
      "text/plain": [
       "str"
      ]
     },
     "execution_count": 18,
     "metadata": {},
     "output_type": "execute_result"
    }
   ],
   "source": [
    "type(first_name)"
   ]
  },
  {
   "cell_type": "markdown",
   "id": "0a6e8839-fa91-4c95-9c6d-576df4923f8c",
   "metadata": {},
   "source": [
    "### Variables For Numbers"
   ]
  },
  {
   "cell_type": "code",
   "execution_count": 19,
   "id": "474e9225-b02e-4ded-8ff1-e26f3b2f279b",
   "metadata": {},
   "outputs": [],
   "source": [
    "age = 24"
   ]
  },
  {
   "cell_type": "code",
   "execution_count": 20,
   "id": "ad0ffcc0-f93b-4cb0-8460-dc823c1fe479",
   "metadata": {},
   "outputs": [
    {
     "data": {
      "text/plain": [
       "24"
      ]
     },
     "execution_count": 20,
     "metadata": {},
     "output_type": "execute_result"
    }
   ],
   "source": [
    "age"
   ]
  },
  {
   "cell_type": "code",
   "execution_count": 21,
   "id": "421fcf49-dc82-454a-a1f7-2774e857f093",
   "metadata": {},
   "outputs": [
    {
     "data": {
      "text/plain": [
       "int"
      ]
     },
     "execution_count": 21,
     "metadata": {},
     "output_type": "execute_result"
    }
   ],
   "source": [
    "type(age)"
   ]
  },
  {
   "cell_type": "code",
   "execution_count": 22,
   "id": "325d0098-27d6-44cc-8ee1-66f02d226a86",
   "metadata": {},
   "outputs": [],
   "source": [
    "age1 = '24'"
   ]
  },
  {
   "cell_type": "code",
   "execution_count": 23,
   "id": "b76354da-9fe5-484e-a9f6-ba296464aea5",
   "metadata": {},
   "outputs": [
    {
     "data": {
      "text/plain": [
       "'24'"
      ]
     },
     "execution_count": 23,
     "metadata": {},
     "output_type": "execute_result"
    }
   ],
   "source": [
    "age1"
   ]
  },
  {
   "cell_type": "code",
   "execution_count": 24,
   "id": "5ab13de4-c9de-4a2b-94e5-950e59dfa9c5",
   "metadata": {},
   "outputs": [
    {
     "data": {
      "text/plain": [
       "str"
      ]
     },
     "execution_count": 24,
     "metadata": {},
     "output_type": "execute_result"
    }
   ],
   "source": [
    "type(age1)"
   ]
  },
  {
   "cell_type": "code",
   "execution_count": 26,
   "id": "2871af65-b34e-4fd4-9a86-1323eba102a9",
   "metadata": {},
   "outputs": [],
   "source": [
    "age2 = 25"
   ]
  },
  {
   "cell_type": "code",
   "execution_count": 27,
   "id": "76906b2b-25a8-47de-b8ce-9cf17be8fe83",
   "metadata": {},
   "outputs": [
    {
     "data": {
      "text/plain": [
       "49"
      ]
     },
     "execution_count": 27,
     "metadata": {},
     "output_type": "execute_result"
    }
   ],
   "source": [
    "age + age2"
   ]
  },
  {
   "cell_type": "markdown",
   "id": "bbfac7bd-18fe-4365-b59e-80ea1f12c8e2",
   "metadata": {},
   "source": [
    "### Math Expression : Familiar Operators"
   ]
  },
  {
   "cell_type": "code",
   "execution_count": 28,
   "id": "83483f7c-9278-4a57-a7ce-56af645842eb",
   "metadata": {},
   "outputs": [
    {
     "data": {
      "text/plain": [
       "6"
      ]
     },
     "execution_count": 28,
     "metadata": {},
     "output_type": "execute_result"
    }
   ],
   "source": [
    "2 + 4"
   ]
  },
  {
   "cell_type": "code",
   "execution_count": 29,
   "id": "371ea539-f7c1-47df-b096-16b6749540ee",
   "metadata": {},
   "outputs": [
    {
     "data": {
      "text/plain": [
       "3"
      ]
     },
     "execution_count": 29,
     "metadata": {},
     "output_type": "execute_result"
    }
   ],
   "source": [
    "5 - 2"
   ]
  },
  {
   "cell_type": "code",
   "execution_count": 34,
   "id": "0738f14b-0007-4b7b-bdf6-a55a449ee132",
   "metadata": {},
   "outputs": [
    {
     "name": "stdout",
     "output_type": "stream",
     "text": [
      "String:  Hisham\n",
      "Integer:  24\n",
      "<class 'float'>\n",
      "Float:  65.2\n"
     ]
    }
   ],
   "source": [
    "# str -> String --> \"Hisham\"\n",
    "name = \"Hisham\"\n",
    "print(\"String: \",name)\n",
    "# int -> Integer --> 24\n",
    "age = 24\n",
    "print(\"Integer: \",age)\n",
    "# float -> Decimal Numbers --> 33.6\n",
    "weight = 65.2\n",
    "print(type(weight))\n",
    "print(\"Float: \",weight)"
   ]
  },
  {
   "cell_type": "code",
   "execution_count": 35,
   "id": "6da24bcc-75b2-47e4-b1d8-05c516c301e6",
   "metadata": {},
   "outputs": [
    {
     "ename": "SyntaxError",
     "evalue": "invalid syntax (659998789.py, line 1)",
     "output_type": "error",
     "traceback": [
      "\u001b[1;36m  Cell \u001b[1;32mIn[35], line 1\u001b[1;36m\u001b[0m\n\u001b[1;33m    assert = 'Hisham'\u001b[0m\n\u001b[1;37m           ^\u001b[0m\n\u001b[1;31mSyntaxError\u001b[0m\u001b[1;31m:\u001b[0m invalid syntax\n"
     ]
    }
   ],
   "source": [
    "assert = 'Hisham'\n",
    "print(assert)"
   ]
  },
  {
   "cell_type": "code",
   "execution_count": 38,
   "id": "0cf669c5-7f3b-4663-8f32-3096a4d12589",
   "metadata": {},
   "outputs": [
    {
     "name": "stdout",
     "output_type": "stream",
     "text": [
      "My Father's Name Is Arsal Naqi\n",
      "My Father\"s Name Is Arsal Naqi\n",
      "My Father's Name Is Arsal Naqi\n"
     ]
    }
   ],
   "source": [
    "print(\"My Father's Name Is Arsal Naqi\")\n",
    "print('My Father\"s Name Is Arsal Naqi')\n",
    "print('My Father\\'s Name Is Arsal Naqi')"
   ]
  },
  {
   "cell_type": "code",
   "execution_count": 39,
   "id": "cd1d2b28-8df4-4e3f-b600-b976190e7a2c",
   "metadata": {},
   "outputs": [
    {
     "data": {
      "text/plain": [
       "8"
      ]
     },
     "execution_count": 39,
     "metadata": {},
     "output_type": "execute_result"
    }
   ],
   "source": [
    "2**3"
   ]
  },
  {
   "cell_type": "code",
   "execution_count": 40,
   "id": "89621e66-96cf-4096-ad7c-6d8510ee4d50",
   "metadata": {},
   "outputs": [
    {
     "data": {
      "text/plain": [
       "6"
      ]
     },
     "execution_count": 40,
     "metadata": {},
     "output_type": "execute_result"
    }
   ],
   "source": [
    "2*3"
   ]
  },
  {
   "cell_type": "code",
   "execution_count": 41,
   "id": "b2322b6d-b659-43b1-b4aa-6f060a1d4883",
   "metadata": {},
   "outputs": [
    {
     "data": {
      "text/plain": [
       "2.0"
      ]
     },
     "execution_count": 41,
     "metadata": {},
     "output_type": "execute_result"
    }
   ],
   "source": [
    "4/2"
   ]
  },
  {
   "cell_type": "code",
   "execution_count": 42,
   "id": "bdc4073b-ae6a-4384-adbb-45093682ef6d",
   "metadata": {},
   "outputs": [
    {
     "data": {
      "text/plain": [
       "2"
      ]
     },
     "execution_count": 42,
     "metadata": {},
     "output_type": "execute_result"
    }
   ],
   "source": [
    "4//2"
   ]
  },
  {
   "cell_type": "code",
   "execution_count": 43,
   "id": "74038ae7-680e-489c-a057-3c8044c90444",
   "metadata": {},
   "outputs": [],
   "source": [
    "x = 20\n",
    "y = 4"
   ]
  },
  {
   "cell_type": "code",
   "execution_count": 44,
   "id": "a3de562c-d423-477d-add6-e2304ad6cf90",
   "metadata": {},
   "outputs": [
    {
     "name": "stdout",
     "output_type": "stream",
     "text": [
      "True\n"
     ]
    }
   ],
   "source": [
    "print(x > y)"
   ]
  },
  {
   "cell_type": "code",
   "execution_count": 47,
   "id": "cbe6ec79-43a0-4dba-b9ab-d24546348b1a",
   "metadata": {},
   "outputs": [],
   "source": [
    "x += y "
   ]
  },
  {
   "cell_type": "code",
   "execution_count": 48,
   "id": "fc22e51c-114d-4f4d-951e-d91b506d0649",
   "metadata": {},
   "outputs": [
    {
     "data": {
      "text/plain": [
       "28"
      ]
     },
     "execution_count": 48,
     "metadata": {},
     "output_type": "execute_result"
    }
   ],
   "source": [
    "x"
   ]
  },
  {
   "cell_type": "code",
   "execution_count": 49,
   "id": "ff7e369d-47d1-4e8a-833d-62b2d515aedd",
   "metadata": {},
   "outputs": [],
   "source": [
    "x -= y"
   ]
  },
  {
   "cell_type": "code",
   "execution_count": 50,
   "id": "f9b68fad-a487-4de5-ad69-5d7ac906b739",
   "metadata": {},
   "outputs": [
    {
     "data": {
      "text/plain": [
       "24"
      ]
     },
     "execution_count": 50,
     "metadata": {},
     "output_type": "execute_result"
    }
   ],
   "source": [
    "x"
   ]
  },
  {
   "cell_type": "code",
   "execution_count": 52,
   "id": "b4d3b114-46e7-4eb5-b40c-4e78fdf8a5e2",
   "metadata": {},
   "outputs": [],
   "source": [
    "x *= y"
   ]
  },
  {
   "cell_type": "code",
   "execution_count": 53,
   "id": "28cee59d-508e-4aa1-bff3-8e2cce53e5ce",
   "metadata": {},
   "outputs": [
    {
     "data": {
      "text/plain": [
       "96"
      ]
     },
     "execution_count": 53,
     "metadata": {},
     "output_type": "execute_result"
    }
   ],
   "source": [
    "x"
   ]
  }
 ],
 "metadata": {
  "kernelspec": {
   "display_name": "Python 3 (ipykernel)",
   "language": "python",
   "name": "python3"
  },
  "language_info": {
   "codemirror_mode": {
    "name": "ipython",
    "version": 3
   },
   "file_extension": ".py",
   "mimetype": "text/x-python",
   "name": "python",
   "nbconvert_exporter": "python",
   "pygments_lexer": "ipython3",
   "version": "3.12.5"
  }
 },
 "nbformat": 4,
 "nbformat_minor": 5
}
