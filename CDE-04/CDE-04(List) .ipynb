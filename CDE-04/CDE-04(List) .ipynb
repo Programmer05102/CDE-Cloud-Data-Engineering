{
 "cells": [
  {
   "cell_type": "markdown",
   "id": "1a43aa72-c179-48b6-bd7c-e5e8a37f7ee2",
   "metadata": {},
   "source": [
    "### List"
   ]
  },
  {
   "cell_type": "code",
   "execution_count": 6,
   "id": "4a2c348e-de21-41a9-b9ff-6001ac9a0acb",
   "metadata": {},
   "outputs": [],
   "source": [
    "city_0 = \"Atlanta\"\n",
    "city_1 = \"Baltimore\"\n",
    "city_2 = \"Chicago\"\n",
    "city_3 = \"Denver\"\n",
    "city_4 = \"Los Angeles\"\n",
    "city_5 = \"Seattle\""
   ]
  },
  {
   "cell_type": "code",
   "execution_count": 7,
   "id": "d40db210-ea0c-475b-8fa0-d377f10b70ea",
   "metadata": {},
   "outputs": [
    {
     "data": {
      "text/plain": [
       "(2085972296832, 2085947892848)"
      ]
     },
     "execution_count": 7,
     "metadata": {},
     "output_type": "execute_result"
    }
   ],
   "source": [
    "id(city_0), id(city_1)"
   ]
  },
  {
   "cell_type": "markdown",
   "id": "20f1a037-712a-4bb5-8626-29eb743bc978",
   "metadata": {},
   "source": [
    "- Managing Collection of Values\n",
    "- Slower\n",
    "- Solution: Data Structure for Collection of Values: List"
   ]
  },
  {
   "cell_type": "code",
   "execution_count": 8,
   "id": "5432dbb3-65c7-43bb-8582-25243bc60bf9",
   "metadata": {},
   "outputs": [],
   "source": [
    "cities = [\"Atlanta\" , \"Baltimore\" , \"Chicago\" , \"Denver\" , \"Los Angeles\" , \"Seattle\"]"
   ]
  },
  {
   "cell_type": "code",
   "execution_count": 9,
   "id": "35e58b6d-89e9-404f-8a31-7d569628e317",
   "metadata": {},
   "outputs": [
    {
     "name": "stdout",
     "output_type": "stream",
     "text": [
      "<class 'list'> 2085969777152\n"
     ]
    }
   ],
   "source": [
    "print(type(cities), id(cities))"
   ]
  },
  {
   "cell_type": "code",
   "execution_count": 10,
   "id": "a4fa2356-8886-458f-809f-d278989486d3",
   "metadata": {},
   "outputs": [],
   "source": [
    "cities.append(\"Karachi\") # Append object to the end of the list."
   ]
  },
  {
   "cell_type": "code",
   "execution_count": 11,
   "id": "baa65456-f43d-4554-a913-b06047cc4f72",
   "metadata": {},
   "outputs": [
    {
     "data": {
      "text/plain": [
       "['Atlanta',\n",
       " 'Baltimore',\n",
       " 'Chicago',\n",
       " 'Denver',\n",
       " 'Los Angeles',\n",
       " 'Seattle',\n",
       " 'Karachi']"
      ]
     },
     "execution_count": 11,
     "metadata": {},
     "output_type": "execute_result"
    }
   ],
   "source": [
    "cities"
   ]
  },
  {
   "cell_type": "code",
   "execution_count": 12,
   "id": "3ab52f83-eaa6-40d0-96bb-601f5410be3f",
   "metadata": {},
   "outputs": [
    {
     "data": {
      "text/plain": [
       "1"
      ]
     },
     "execution_count": 12,
     "metadata": {},
     "output_type": "execute_result"
    }
   ],
   "source": [
    "cities.count(\"Chicago\") # Return number of occurrences of value."
   ]
  },
  {
   "cell_type": "code",
   "execution_count": 13,
   "id": "83e5c048-0a0e-47cc-bf31-3703c0c71b56",
   "metadata": {},
   "outputs": [],
   "source": [
    "cities.extend([\"Islamabad\", \"Quetta\"]) # Extend list by appending elements from the iterable."
   ]
  },
  {
   "cell_type": "code",
   "execution_count": 14,
   "id": "d251e077-ea51-47f0-9471-706762d18c38",
   "metadata": {},
   "outputs": [
    {
     "data": {
      "text/plain": [
       "['Atlanta',\n",
       " 'Baltimore',\n",
       " 'Chicago',\n",
       " 'Denver',\n",
       " 'Los Angeles',\n",
       " 'Seattle',\n",
       " 'Karachi',\n",
       " 'Islamabad',\n",
       " 'Quetta']"
      ]
     },
     "execution_count": 14,
     "metadata": {},
     "output_type": "execute_result"
    }
   ],
   "source": [
    "cities"
   ]
  },
  {
   "cell_type": "code",
   "execution_count": 15,
   "id": "452aab86-e4d1-4fcc-91d2-9b24ce722724",
   "metadata": {},
   "outputs": [],
   "source": [
    "cities.insert(0, \"Lahore\")"
   ]
  },
  {
   "cell_type": "code",
   "execution_count": 16,
   "id": "a9cf2a53-bace-4984-ad65-dd02524b0492",
   "metadata": {},
   "outputs": [
    {
     "data": {
      "text/plain": [
       "['Lahore',\n",
       " 'Atlanta',\n",
       " 'Baltimore',\n",
       " 'Chicago',\n",
       " 'Denver',\n",
       " 'Los Angeles',\n",
       " 'Seattle',\n",
       " 'Karachi',\n",
       " 'Islamabad',\n",
       " 'Quetta']"
      ]
     },
     "execution_count": 16,
     "metadata": {},
     "output_type": "execute_result"
    }
   ],
   "source": [
    "cities"
   ]
  },
  {
   "cell_type": "code",
   "execution_count": 17,
   "id": "240a2fba-1a17-46da-9203-00e2bd8036de",
   "metadata": {},
   "outputs": [
    {
     "data": {
      "text/plain": [
       "8"
      ]
     },
     "execution_count": 17,
     "metadata": {},
     "output_type": "execute_result"
    }
   ],
   "source": [
    "cities.index(\"Islamabad\")"
   ]
  },
  {
   "cell_type": "code",
   "execution_count": 18,
   "id": "528a489c-e7d2-45e2-ae6f-89fe817bfbf1",
   "metadata": {},
   "outputs": [
    {
     "data": {
      "text/plain": [
       "'Lahore'"
      ]
     },
     "execution_count": 18,
     "metadata": {},
     "output_type": "execute_result"
    }
   ],
   "source": [
    "cities.pop(0)"
   ]
  },
  {
   "cell_type": "code",
   "execution_count": 19,
   "id": "1a0776ba-b7c7-4ca7-ae03-18ca10e65098",
   "metadata": {},
   "outputs": [
    {
     "data": {
      "text/plain": [
       "['Atlanta',\n",
       " 'Baltimore',\n",
       " 'Chicago',\n",
       " 'Denver',\n",
       " 'Los Angeles',\n",
       " 'Seattle',\n",
       " 'Karachi',\n",
       " 'Islamabad',\n",
       " 'Quetta']"
      ]
     },
     "execution_count": 19,
     "metadata": {},
     "output_type": "execute_result"
    }
   ],
   "source": [
    "cities"
   ]
  },
  {
   "cell_type": "code",
   "execution_count": 20,
   "id": "8fe10b45-0a12-456e-b401-cc38cf64c349",
   "metadata": {},
   "outputs": [],
   "source": [
    "del cities[5]"
   ]
  },
  {
   "cell_type": "code",
   "execution_count": 21,
   "id": "5ddb4307-4e9d-4bcd-ac8b-5ab03308c5d2",
   "metadata": {},
   "outputs": [
    {
     "data": {
      "text/plain": [
       "['Atlanta',\n",
       " 'Baltimore',\n",
       " 'Chicago',\n",
       " 'Denver',\n",
       " 'Los Angeles',\n",
       " 'Karachi',\n",
       " 'Islamabad',\n",
       " 'Quetta']"
      ]
     },
     "execution_count": 21,
     "metadata": {},
     "output_type": "execute_result"
    }
   ],
   "source": [
    "cities"
   ]
  },
  {
   "cell_type": "code",
   "execution_count": 22,
   "id": "89d7168a-84a4-4ddf-a9d0-224ce6d5ea15",
   "metadata": {},
   "outputs": [],
   "source": [
    "cities.reverse()"
   ]
  },
  {
   "cell_type": "code",
   "execution_count": 23,
   "id": "51f87fbe-4e4c-4d30-834a-c3cb68b24d55",
   "metadata": {},
   "outputs": [
    {
     "data": {
      "text/plain": [
       "['Quetta',\n",
       " 'Islamabad',\n",
       " 'Karachi',\n",
       " 'Los Angeles',\n",
       " 'Denver',\n",
       " 'Chicago',\n",
       " 'Baltimore',\n",
       " 'Atlanta']"
      ]
     },
     "execution_count": 23,
     "metadata": {},
     "output_type": "execute_result"
    }
   ],
   "source": [
    "cities"
   ]
  },
  {
   "cell_type": "code",
   "execution_count": 24,
   "id": "378e91cf-4222-4546-a276-4a4fb1dd286a",
   "metadata": {},
   "outputs": [],
   "source": [
    "cities.remove(\"Quetta\")"
   ]
  },
  {
   "cell_type": "code",
   "execution_count": 25,
   "id": "29633a3b-65c2-4f16-b070-164e8e172b9f",
   "metadata": {},
   "outputs": [
    {
     "data": {
      "text/plain": [
       "['Islamabad',\n",
       " 'Karachi',\n",
       " 'Los Angeles',\n",
       " 'Denver',\n",
       " 'Chicago',\n",
       " 'Baltimore',\n",
       " 'Atlanta']"
      ]
     },
     "execution_count": 25,
     "metadata": {},
     "output_type": "execute_result"
    }
   ],
   "source": [
    "cities"
   ]
  },
  {
   "cell_type": "code",
   "execution_count": 26,
   "id": "6788b86d-623a-415e-885a-76b20bd79859",
   "metadata": {},
   "outputs": [],
   "source": [
    "cities.clear() # Remove all items from list."
   ]
  },
  {
   "cell_type": "markdown",
   "id": "5b469ef4-dd32-4322-8fa8-23e5df0e3b5e",
   "metadata": {},
   "source": [
    "### Shallow / Deep Copy"
   ]
  },
  {
   "cell_type": "code",
   "execution_count": 27,
   "id": "966c03c4-61d4-4d49-b000-68b7eece355d",
   "metadata": {},
   "outputs": [],
   "source": [
    "cities = [\"Atlanta\" , \"Baltimore\" , \"Chicago\" , \"Denver\" , \"Los Angeles\" , \"Seattle\"]"
   ]
  },
  {
   "cell_type": "code",
   "execution_count": 28,
   "id": "4a35093b-5581-487f-b779-186f7b06aab0",
   "metadata": {},
   "outputs": [],
   "source": [
    "cities_new = cities.copy() # Return a shallow copy of the list."
   ]
  },
  {
   "cell_type": "code",
   "execution_count": 29,
   "id": "f9e25046-da41-4b5d-a081-59f0df66a2af",
   "metadata": {},
   "outputs": [
    {
     "name": "stdout",
     "output_type": "stream",
     "text": [
      "<class 'list'> 2085969782848\n"
     ]
    }
   ],
   "source": [
    "print(type(cities_new), id(cities_new))"
   ]
  },
  {
   "cell_type": "code",
   "execution_count": 30,
   "id": "0312cd46-0cd3-410d-912a-c7da1d282d82",
   "metadata": {},
   "outputs": [
    {
     "name": "stdout",
     "output_type": "stream",
     "text": [
      "<class 'list'> 2085947946688\n"
     ]
    }
   ],
   "source": [
    "print(type(cities), id(cities))"
   ]
  },
  {
   "cell_type": "code",
   "execution_count": 31,
   "id": "e9924b64-0946-4c24-b4c3-a53beb3ecf5c",
   "metadata": {},
   "outputs": [],
   "source": [
    "cities_new.append(\"Karachi\")"
   ]
  },
  {
   "cell_type": "code",
   "execution_count": 32,
   "id": "b0bb78a2-203f-4f3b-811f-b9874189516a",
   "metadata": {},
   "outputs": [
    {
     "data": {
      "text/plain": [
       "['Atlanta',\n",
       " 'Baltimore',\n",
       " 'Chicago',\n",
       " 'Denver',\n",
       " 'Los Angeles',\n",
       " 'Seattle',\n",
       " 'Karachi']"
      ]
     },
     "execution_count": 32,
     "metadata": {},
     "output_type": "execute_result"
    }
   ],
   "source": [
    "cities_new"
   ]
  },
  {
   "cell_type": "markdown",
   "id": "8f752fae-3429-4172-9266-f2f177b7a70a",
   "metadata": {},
   "source": [
    "### Adding Values at Different Index With Method"
   ]
  },
  {
   "cell_type": "markdown",
   "id": "ef30d75c-a603-4a9b-abe8-b6d61585502e",
   "metadata": {},
   "source": [
    "### Task:\n",
    "- Implemented deep Copy Concept on List (H.W)\n",
    "- Adding Values at Differnet Index Without `Insert()` Method"
   ]
  },
  {
   "cell_type": "code",
   "execution_count": 33,
   "id": "461c1a18-2cf4-4aa1-8584-bf22484ca65b",
   "metadata": {},
   "outputs": [],
   "source": [
    "cities[0] = \"Hyderabad\""
   ]
  },
  {
   "cell_type": "code",
   "execution_count": 34,
   "id": "a4d31187-aa8b-4b5a-bc35-94f0884a9f58",
   "metadata": {},
   "outputs": [
    {
     "data": {
      "text/plain": [
       "['Hyderabad', 'Baltimore', 'Chicago', 'Denver', 'Los Angeles', 'Seattle']"
      ]
     },
     "execution_count": 34,
     "metadata": {},
     "output_type": "execute_result"
    }
   ],
   "source": [
    "cities"
   ]
  },
  {
   "cell_type": "code",
   "execution_count": 35,
   "id": "7363f8f1-a8de-44d6-abc6-ab16b9964516",
   "metadata": {},
   "outputs": [],
   "source": [
    "cities_new = cities"
   ]
  },
  {
   "cell_type": "code",
   "execution_count": 36,
   "id": "6f0876a5-2fd6-4890-b36d-b2d376f6db00",
   "metadata": {},
   "outputs": [
    {
     "data": {
      "text/plain": [
       "(['Hyderabad', 'Baltimore', 'Chicago', 'Denver', 'Los Angeles', 'Seattle'],\n",
       " ['Hyderabad', 'Baltimore', 'Chicago', 'Denver', 'Los Angeles', 'Seattle'])"
      ]
     },
     "execution_count": 36,
     "metadata": {},
     "output_type": "execute_result"
    }
   ],
   "source": [
    "cities_new , cities"
   ]
  },
  {
   "cell_type": "code",
   "execution_count": 37,
   "id": "0233ef42-7349-405e-94ae-530790f65755",
   "metadata": {},
   "outputs": [],
   "source": [
    "cities.append(\"Karachi\")"
   ]
  },
  {
   "cell_type": "code",
   "execution_count": 38,
   "id": "fe17781f-035f-448b-a882-7f60e3513523",
   "metadata": {},
   "outputs": [
    {
     "data": {
      "text/plain": [
       "(['Hyderabad',\n",
       "  'Baltimore',\n",
       "  'Chicago',\n",
       "  'Denver',\n",
       "  'Los Angeles',\n",
       "  'Seattle',\n",
       "  'Karachi'],\n",
       " ['Hyderabad',\n",
       "  'Baltimore',\n",
       "  'Chicago',\n",
       "  'Denver',\n",
       "  'Los Angeles',\n",
       "  'Seattle',\n",
       "  'Karachi'])"
      ]
     },
     "execution_count": 38,
     "metadata": {},
     "output_type": "execute_result"
    }
   ],
   "source": [
    "cities_new , cities"
   ]
  },
  {
   "cell_type": "markdown",
   "id": "aef40884-2903-4a28-9e40-71c3c6327895",
   "metadata": {},
   "source": [
    "## Slicing On List"
   ]
  },
  {
   "cell_type": "code",
   "execution_count": 39,
   "id": "4ec7edec-eeef-476c-b3df-055bdcf9a464",
   "metadata": {},
   "outputs": [
    {
     "data": {
      "text/plain": [
       "['Hyderabad', 'Baltimore', 'Chicago']"
      ]
     },
     "execution_count": 39,
     "metadata": {},
     "output_type": "execute_result"
    }
   ],
   "source": [
    "cities[0:3]"
   ]
  },
  {
   "cell_type": "code",
   "execution_count": 40,
   "id": "fc8aa4dd-8f91-4c78-94b4-e4516f9c3a2f",
   "metadata": {},
   "outputs": [
    {
     "data": {
      "text/plain": [
       "['Denver', 'Los Angeles', 'Seattle', 'Karachi']"
      ]
     },
     "execution_count": 40,
     "metadata": {},
     "output_type": "execute_result"
    }
   ],
   "source": [
    "cities[3:]"
   ]
  },
  {
   "cell_type": "code",
   "execution_count": 41,
   "id": "dfb552d8-a36f-4e60-aa26-c9abbb0d16d9",
   "metadata": {},
   "outputs": [
    {
     "data": {
      "text/plain": [
       "['Hyderabad',\n",
       " 'Baltimore',\n",
       " 'Chicago',\n",
       " 'Denver',\n",
       " 'Los Angeles',\n",
       " 'Seattle',\n",
       " 'Karachi']"
      ]
     },
     "execution_count": 41,
     "metadata": {},
     "output_type": "execute_result"
    }
   ],
   "source": [
    "cities[-13:]"
   ]
  },
  {
   "cell_type": "code",
   "execution_count": 42,
   "id": "4b433cf4-1038-46a7-92a3-ec41612bda9e",
   "metadata": {},
   "outputs": [
    {
     "data": {
      "text/plain": [
       "['Karachi',\n",
       " 'Seattle',\n",
       " 'Los Angeles',\n",
       " 'Denver',\n",
       " 'Chicago',\n",
       " 'Baltimore',\n",
       " 'Hyderabad']"
      ]
     },
     "execution_count": 42,
     "metadata": {},
     "output_type": "execute_result"
    }
   ],
   "source": [
    "cities[::-1]"
   ]
  },
  {
   "cell_type": "markdown",
   "id": "273a18da-b7d2-4a97-86de-d2ee9af3d965",
   "metadata": {},
   "source": [
    "#### Task: Create a Student List Of Names and Apply all Methods that we learn today"
   ]
  },
  {
   "cell_type": "code",
   "execution_count": 43,
   "id": "659a0381-471e-4996-91a6-a48de95c9dd5",
   "metadata": {},
   "outputs": [],
   "source": [
    "students = [\"Hassan\", \"Huzaifa\", \"Bilal\", \"Hisham\", \"Aftab\"]"
   ]
  },
  {
   "cell_type": "code",
   "execution_count": 44,
   "id": "fa7ad78a-f983-4123-8784-156033f6262e",
   "metadata": {},
   "outputs": [],
   "source": [
    "students.append(\"Ghulam\") # Append object to the end of the list."
   ]
  },
  {
   "cell_type": "code",
   "execution_count": 45,
   "id": "0466e347-88b9-4d27-add9-bb026c87ab01",
   "metadata": {},
   "outputs": [
    {
     "name": "stdout",
     "output_type": "stream",
     "text": [
      "['Hassan', 'Huzaifa', 'Bilal', 'Hisham', 'Aftab', 'Ghulam']\n"
     ]
    }
   ],
   "source": [
    "print(students)"
   ]
  },
  {
   "cell_type": "code",
   "execution_count": 46,
   "id": "ca6b2c10-a0b3-446a-a9ec-45ef4576164c",
   "metadata": {},
   "outputs": [],
   "source": [
    "students.insert(0, \"Hamza\") # Insert object before index."
   ]
  },
  {
   "cell_type": "code",
   "execution_count": 47,
   "id": "f7242c8f-e9d3-47db-9e8e-cba7fbfd3b04",
   "metadata": {},
   "outputs": [
    {
     "name": "stdout",
     "output_type": "stream",
     "text": [
      "['Hamza', 'Hassan', 'Huzaifa', 'Bilal', 'Hisham', 'Aftab', 'Ghulam']\n"
     ]
    }
   ],
   "source": [
    "print(students)"
   ]
  },
  {
   "cell_type": "code",
   "execution_count": 48,
   "id": "f899ab61-533b-47d4-95a9-60a3b6b5daa7",
   "metadata": {},
   "outputs": [
    {
     "data": {
      "text/plain": [
       "1"
      ]
     },
     "execution_count": 48,
     "metadata": {},
     "output_type": "execute_result"
    }
   ],
   "source": [
    "students.count(\"Ghulam\") # Return number of occurrences of value."
   ]
  },
  {
   "cell_type": "code",
   "execution_count": 49,
   "id": "9f7b0df5-a9f7-46e9-9179-73ff5a359341",
   "metadata": {},
   "outputs": [
    {
     "data": {
      "text/plain": [
       "6"
      ]
     },
     "execution_count": 49,
     "metadata": {},
     "output_type": "execute_result"
    }
   ],
   "source": [
    "students.index(\"Ghulam\") # Return first index of value."
   ]
  },
  {
   "cell_type": "code",
   "execution_count": 50,
   "id": "fd90da2e-93e1-40c6-a4cf-99f552bcd091",
   "metadata": {},
   "outputs": [
    {
     "data": {
      "text/plain": [
       "'Ghulam'"
      ]
     },
     "execution_count": 50,
     "metadata": {},
     "output_type": "execute_result"
    }
   ],
   "source": [
    "students.pop(6) # Remove and return item at index (default last)."
   ]
  },
  {
   "cell_type": "code",
   "execution_count": 51,
   "id": "46a05e4b-5489-4bd5-b6d8-68b939e9584b",
   "metadata": {},
   "outputs": [
    {
     "name": "stdout",
     "output_type": "stream",
     "text": [
      "['Hamza', 'Hassan', 'Huzaifa', 'Bilal', 'Hisham', 'Aftab']\n"
     ]
    }
   ],
   "source": [
    "print(students)"
   ]
  },
  {
   "cell_type": "code",
   "execution_count": 52,
   "id": "dcf00ce7-450e-4859-9210-446b528d0ab5",
   "metadata": {},
   "outputs": [],
   "source": [
    "students.remove(\"Hamza\") # Remove first occurrence of value."
   ]
  },
  {
   "cell_type": "code",
   "execution_count": 53,
   "id": "ef2f9093-c9e4-4dad-9f77-cc5e6571b610",
   "metadata": {},
   "outputs": [
    {
     "name": "stdout",
     "output_type": "stream",
     "text": [
      "['Hassan', 'Huzaifa', 'Bilal', 'Hisham', 'Aftab']\n"
     ]
    }
   ],
   "source": [
    "print(students)"
   ]
  },
  {
   "cell_type": "code",
   "execution_count": 54,
   "id": "cc010780-36ae-489d-b4a2-2d85c2c5714e",
   "metadata": {},
   "outputs": [],
   "source": [
    "students.reverse() # Reverse *IN PLACE*"
   ]
  },
  {
   "cell_type": "code",
   "execution_count": 55,
   "id": "6e86de5c-662e-4d4a-bec1-292be6a85d45",
   "metadata": {},
   "outputs": [
    {
     "name": "stdout",
     "output_type": "stream",
     "text": [
      "['Aftab', 'Hisham', 'Bilal', 'Huzaifa', 'Hassan']\n"
     ]
    }
   ],
   "source": [
    "print(students)"
   ]
  },
  {
   "cell_type": "code",
   "execution_count": 56,
   "id": "682c226d-0b0f-49e6-9461-a8a91bce2bf5",
   "metadata": {},
   "outputs": [],
   "source": [
    "students.sort() # Sort the list in ascending order and return None."
   ]
  },
  {
   "cell_type": "code",
   "execution_count": 57,
   "id": "e21b344c-fe04-455e-bb8d-ed80235eb4e2",
   "metadata": {},
   "outputs": [
    {
     "name": "stdout",
     "output_type": "stream",
     "text": [
      "['Aftab', 'Bilal', 'Hassan', 'Hisham', 'Huzaifa']\n"
     ]
    }
   ],
   "source": [
    "print(students)"
   ]
  },
  {
   "cell_type": "code",
   "execution_count": 58,
   "id": "6d28679c-ccbf-4ec9-ab21-ce5da51a2e00",
   "metadata": {},
   "outputs": [],
   "source": [
    "students_new = students.copy() # Return a shallow copy of the list."
   ]
  },
  {
   "cell_type": "code",
   "execution_count": 59,
   "id": "0afe4e95-e403-4c95-b4fb-ea33d81a52a2",
   "metadata": {},
   "outputs": [
    {
     "name": "stdout",
     "output_type": "stream",
     "text": [
      "['Aftab', 'Bilal', 'Hassan', 'Hisham', 'Huzaifa']\n"
     ]
    }
   ],
   "source": [
    "print(students_new)"
   ]
  },
  {
   "cell_type": "code",
   "execution_count": 60,
   "id": "bbd8555b-557b-46b9-88fc-7cbdea319114",
   "metadata": {},
   "outputs": [],
   "source": [
    "students.append(\"Hamza\")"
   ]
  },
  {
   "cell_type": "code",
   "execution_count": 61,
   "id": "63e2eec0-7a34-455f-9a0b-d5f2c1e4b4d2",
   "metadata": {},
   "outputs": [
    {
     "name": "stdout",
     "output_type": "stream",
     "text": [
      "['Aftab', 'Bilal', 'Hassan', 'Hisham', 'Huzaifa']\n"
     ]
    }
   ],
   "source": [
    "print(students_new)"
   ]
  },
  {
   "cell_type": "code",
   "execution_count": 62,
   "id": "e92e5a9e-a3c8-4162-bd49-4ae7fdec1c59",
   "metadata": {},
   "outputs": [],
   "source": [
    "students_new.extend(students) # Extend list by appending elements from the iterable."
   ]
  },
  {
   "cell_type": "code",
   "execution_count": 63,
   "id": "17245ddb-bcc7-4b83-8fef-9eb461d60be7",
   "metadata": {},
   "outputs": [
    {
     "name": "stdout",
     "output_type": "stream",
     "text": [
      "['Aftab', 'Bilal', 'Hassan', 'Hisham', 'Huzaifa', 'Aftab', 'Bilal', 'Hassan', 'Hisham', 'Huzaifa', 'Hamza']\n"
     ]
    }
   ],
   "source": [
    "print(students_new)"
   ]
  },
  {
   "cell_type": "code",
   "execution_count": 64,
   "id": "9c65e4bb-e575-4fdb-a63f-b33ae2f8bdba",
   "metadata": {},
   "outputs": [],
   "source": [
    "students_new = students # Deep copy"
   ]
  },
  {
   "cell_type": "code",
   "execution_count": 65,
   "id": "799b3901-269b-4f72-bcf2-27386b60ba8f",
   "metadata": {},
   "outputs": [
    {
     "name": "stdout",
     "output_type": "stream",
     "text": [
      "['Aftab', 'Bilal', 'Hassan', 'Hisham', 'Huzaifa', 'Hamza']\n",
      "['Aftab', 'Bilal', 'Hassan', 'Hisham', 'Huzaifa', 'Hamza']\n"
     ]
    }
   ],
   "source": [
    "print(students)\n",
    "print(students_new)"
   ]
  },
  {
   "cell_type": "code",
   "execution_count": 66,
   "id": "cadcedbb-2835-4096-9831-4f5fdbac3ed4",
   "metadata": {},
   "outputs": [
    {
     "data": {
      "text/plain": [
       "['Bilal', 'Hassan', 'Hisham', 'Huzaifa']"
      ]
     },
     "execution_count": 66,
     "metadata": {},
     "output_type": "execute_result"
    }
   ],
   "source": [
    "students_new[1:5] # Slicing"
   ]
  },
  {
   "cell_type": "code",
   "execution_count": 67,
   "id": "8f2a0168-2909-422f-8268-462d6c327080",
   "metadata": {},
   "outputs": [
    {
     "data": {
      "text/plain": [
       "['Hamza', 'Huzaifa', 'Hisham', 'Hassan', 'Bilal', 'Aftab']"
      ]
     },
     "execution_count": 67,
     "metadata": {},
     "output_type": "execute_result"
    }
   ],
   "source": [
    "students_new[::-1] # Reverse Using slicing"
   ]
  },
  {
   "cell_type": "code",
   "execution_count": 68,
   "id": "30b1dd4a-6e07-417c-8e70-ce0f64515fed",
   "metadata": {},
   "outputs": [],
   "source": [
    "students_new.clear() # Remove all items from list."
   ]
  },
  {
   "cell_type": "code",
   "execution_count": 69,
   "id": "56146e56-97ab-4838-9886-2f9507136264",
   "metadata": {},
   "outputs": [
    {
     "data": {
      "text/plain": [
       "[]"
      ]
     },
     "execution_count": 69,
     "metadata": {},
     "output_type": "execute_result"
    }
   ],
   "source": [
    "students_new"
   ]
  },
  {
   "cell_type": "code",
   "execution_count": 70,
   "id": "b156bbcf-16df-4d24-9d03-1a0bd2a3f688",
   "metadata": {},
   "outputs": [],
   "source": [
    "bio_data = [\"Hisham\", 24, 76.5, True]"
   ]
  },
  {
   "cell_type": "code",
   "execution_count": 71,
   "id": "9057811e-9640-4492-ab08-56f2a0967d0c",
   "metadata": {},
   "outputs": [
    {
     "data": {
      "text/plain": [
       "['Hisham', 24, 76.5, True]"
      ]
     },
     "execution_count": 71,
     "metadata": {},
     "output_type": "execute_result"
    }
   ],
   "source": [
    "bio_data"
   ]
  },
  {
   "cell_type": "markdown",
   "id": "112ece80-6661-487e-97f0-c080974c13ab",
   "metadata": {},
   "source": [
    "### Tuples - Immutable"
   ]
  },
  {
   "cell_type": "code",
   "execution_count": 72,
   "id": "9a9f105d-7b79-4510-81d6-88954fb3f177",
   "metadata": {},
   "outputs": [],
   "source": [
    "bio_data.append(\"Hisham\")"
   ]
  },
  {
   "cell_type": "code",
   "execution_count": 73,
   "id": "d796bbb7-baac-4b41-9f9e-9de33bc462cd",
   "metadata": {},
   "outputs": [],
   "source": [
    "del bio_data[4:]"
   ]
  },
  {
   "cell_type": "code",
   "execution_count": 74,
   "id": "6dfbfbd7-74d7-404e-8212-b93d0e94dd5b",
   "metadata": {},
   "outputs": [
    {
     "data": {
      "text/plain": [
       "['Hisham', 24, 76.5, True]"
      ]
     },
     "execution_count": 74,
     "metadata": {},
     "output_type": "execute_result"
    }
   ],
   "source": [
    "bio_data"
   ]
  },
  {
   "cell_type": "code",
   "execution_count": 75,
   "id": "dd81c7b0-9293-4950-a09c-de952863f2d8",
   "metadata": {},
   "outputs": [],
   "source": [
    "bio_data_t = tuple(bio_data)"
   ]
  },
  {
   "cell_type": "code",
   "execution_count": 76,
   "id": "0c36f3e9-7df1-45df-8a27-39976818df2c",
   "metadata": {},
   "outputs": [
    {
     "ename": "TypeError",
     "evalue": "'tuple' object does not support item assignment",
     "output_type": "error",
     "traceback": [
      "\u001b[31m---------------------------------------------------------------------------\u001b[39m",
      "\u001b[31mTypeError\u001b[39m                                 Traceback (most recent call last)",
      "\u001b[36mCell\u001b[39m\u001b[36m \u001b[39m\u001b[32mIn[76]\u001b[39m\u001b[32m, line 1\u001b[39m\n\u001b[32m----> \u001b[39m\u001b[32m1\u001b[39m \u001b[43mbio_data_t\u001b[49m\u001b[43m[\u001b[49m\u001b[32;43m4\u001b[39;49m\u001b[43m]\u001b[49m = \u001b[33m\"\u001b[39m\u001b[33m032\u001b[39m\u001b[33m\"\u001b[39m\n",
      "\u001b[31mTypeError\u001b[39m: 'tuple' object does not support item assignment"
     ]
    }
   ],
   "source": [
    "bio_data_t[4] = \"032\""
   ]
  },
  {
   "cell_type": "code",
   "execution_count": 77,
   "id": "241d891a-b86f-4cf8-b2ba-532c6e1b1840",
   "metadata": {},
   "outputs": [
    {
     "data": {
      "text/plain": [
       "1"
      ]
     },
     "execution_count": 77,
     "metadata": {},
     "output_type": "execute_result"
    }
   ],
   "source": [
    "bio_data_t.count(\"Hisham\")"
   ]
  },
  {
   "cell_type": "code",
   "execution_count": 78,
   "id": "12cdc47f-90a2-48ec-88d3-d33c0628b32d",
   "metadata": {},
   "outputs": [
    {
     "data": {
      "text/plain": [
       "0"
      ]
     },
     "execution_count": 78,
     "metadata": {},
     "output_type": "execute_result"
    }
   ],
   "source": [
    "bio_data_t.index(\"Hisham\")"
   ]
  },
  {
   "cell_type": "markdown",
   "id": "9d8866cd-f350-44dc-81f9-09407cd2ce04",
   "metadata": {},
   "source": [
    "### Set"
   ]
  },
  {
   "cell_type": "markdown",
   "id": "04ff930b-573a-4949-88f8-7606206b9d4d",
   "metadata": {},
   "source": [
    "## Task :\n",
    "- Create a student `tuple` of Names and Apply All Methods That We Learn Today\n",
    "- Create a student `set` of Names and Apply All Methods That We Learn Today"
   ]
  },
  {
   "cell_type": "code",
   "execution_count": 79,
   "id": "48eca7f8-78a1-422f-9feb-8f8d307244d3",
   "metadata": {},
   "outputs": [],
   "source": [
    "name = [\"Hisham\", \"Hisham\", \"Hassan\"]"
   ]
  },
  {
   "cell_type": "code",
   "execution_count": 80,
   "id": "fdbe0d16-64a5-49b2-9523-7c5aff8ec0b2",
   "metadata": {},
   "outputs": [],
   "source": [
    "name_set = set(name)"
   ]
  },
  {
   "cell_type": "code",
   "execution_count": 81,
   "id": "fd985fee-fe4d-4160-9c79-0ef0f4120f2e",
   "metadata": {},
   "outputs": [
    {
     "data": {
      "text/plain": [
       "{'Hassan', 'Hisham'}"
      ]
     },
     "execution_count": 81,
     "metadata": {},
     "output_type": "execute_result"
    }
   ],
   "source": [
    "name_set"
   ]
  },
  {
   "cell_type": "code",
   "execution_count": 82,
   "id": "08829e68-0857-4824-851d-43a2b0fdbef3",
   "metadata": {},
   "outputs": [],
   "source": [
    "set_a = {'a','b'}\n",
    "set_b = {'c','d'}\n",
    "universal_set = {'a','b','c','d'}"
   ]
  },
  {
   "cell_type": "code",
   "execution_count": 83,
   "id": "4e26c026-f64a-4c45-afa2-4e8be1b0836a",
   "metadata": {},
   "outputs": [],
   "source": [
    "universal_set.update('e') # Update a set with the union of itself and others."
   ]
  },
  {
   "cell_type": "code",
   "execution_count": 84,
   "id": "27cc199c-22da-484b-b69d-0290470ce690",
   "metadata": {},
   "outputs": [
    {
     "data": {
      "text/plain": [
       "{'a', 'b', 'c', 'd', 'e'}"
      ]
     },
     "execution_count": 84,
     "metadata": {},
     "output_type": "execute_result"
    }
   ],
   "source": [
    "universal_set"
   ]
  },
  {
   "cell_type": "code",
   "execution_count": 85,
   "id": "0b892c87-5f37-4725-a3f2-fa0e6886e034",
   "metadata": {},
   "outputs": [
    {
     "data": {
      "text/plain": [
       "{'c', 'd', 'e'}"
      ]
     },
     "execution_count": 85,
     "metadata": {},
     "output_type": "execute_result"
    }
   ],
   "source": [
    "universal_set.difference(set_a) # Return the difference of two or more sets as a new set."
   ]
  },
  {
   "cell_type": "code",
   "execution_count": 86,
   "id": "060563f4-3a11-4d63-a825-b32ffa671d6d",
   "metadata": {},
   "outputs": [],
   "source": [
    "universal_set.add('24') # Add an element to a set"
   ]
  },
  {
   "cell_type": "code",
   "execution_count": 87,
   "id": "b0a9e976-359c-4981-a369-98ffc9b1a598",
   "metadata": {},
   "outputs": [
    {
     "data": {
      "text/plain": [
       "{'24', 'a', 'b', 'c', 'd', 'e'}"
      ]
     },
     "execution_count": 87,
     "metadata": {},
     "output_type": "execute_result"
    }
   ],
   "source": [
    "universal_set"
   ]
  },
  {
   "cell_type": "code",
   "execution_count": 88,
   "id": "1a02dcba-477f-4d66-b5b1-ab21f59af486",
   "metadata": {},
   "outputs": [],
   "source": [
    "universal_set.difference_update(set_a) # Remove all elements of another set from this set."
   ]
  },
  {
   "cell_type": "code",
   "execution_count": 89,
   "id": "d222d3db-4be1-4437-848c-86d51e813f24",
   "metadata": {},
   "outputs": [
    {
     "data": {
      "text/plain": [
       "{'24', 'c', 'd', 'e'}"
      ]
     },
     "execution_count": 89,
     "metadata": {},
     "output_type": "execute_result"
    }
   ],
   "source": [
    "universal_set"
   ]
  },
  {
   "cell_type": "code",
   "execution_count": 90,
   "id": "5adfe306-c528-4ee9-b9a6-754d08b30838",
   "metadata": {},
   "outputs": [
    {
     "data": {
      "text/plain": [
       "True"
      ]
     },
     "execution_count": 90,
     "metadata": {},
     "output_type": "execute_result"
    }
   ],
   "source": [
    "set_b.issubset(universal_set) # Test whether every element in the set is in other."
   ]
  },
  {
   "cell_type": "code",
   "execution_count": 91,
   "id": "65760ef7-4ba0-45ec-a3bd-c66339fbadbd",
   "metadata": {},
   "outputs": [
    {
     "data": {
      "text/plain": [
       "True"
      ]
     },
     "execution_count": 91,
     "metadata": {},
     "output_type": "execute_result"
    }
   ],
   "source": [
    "universal_set.issuperset(set_b) # Test whether every element in other is in the set."
   ]
  },
  {
   "cell_type": "code",
   "execution_count": 92,
   "id": "114b625e-10c3-4d26-9f97-c1d8d4b7a39b",
   "metadata": {},
   "outputs": [
    {
     "data": {
      "text/plain": [
       "{'24', 'e'}"
      ]
     },
     "execution_count": 92,
     "metadata": {},
     "output_type": "execute_result"
    }
   ],
   "source": [
    "universal_set.symmetric_difference(set_b) # Return the symmetric difference of two sets as a new set."
   ]
  },
  {
   "cell_type": "code",
   "execution_count": 93,
   "id": "56c2eaf0-d117-45c4-8842-3904b3d6943c",
   "metadata": {},
   "outputs": [
    {
     "data": {
      "text/plain": [
       "{'24', 'c', 'd', 'e'}"
      ]
     },
     "execution_count": 93,
     "metadata": {},
     "output_type": "execute_result"
    }
   ],
   "source": [
    "universal_set"
   ]
  },
  {
   "cell_type": "code",
   "execution_count": 94,
   "id": "dacaadc8-21df-4788-953e-bdb7ca4ca5c6",
   "metadata": {},
   "outputs": [],
   "source": [
    "universal_set.symmetric_difference_update(set_b) # Update a set with the symmetric difference of itself and another."
   ]
  },
  {
   "cell_type": "code",
   "execution_count": 95,
   "id": "81eb3300-e038-4bdc-82a4-52d6f5a6105c",
   "metadata": {},
   "outputs": [
    {
     "data": {
      "text/plain": [
       "{'24', 'e'}"
      ]
     },
     "execution_count": 95,
     "metadata": {},
     "output_type": "execute_result"
    }
   ],
   "source": [
    "universal_set"
   ]
  },
  {
   "cell_type": "code",
   "execution_count": 96,
   "id": "bca7df7d-0b21-458a-be8e-d5f15fc53eb4",
   "metadata": {},
   "outputs": [
    {
     "data": {
      "text/plain": [
       "True"
      ]
     },
     "execution_count": 96,
     "metadata": {},
     "output_type": "execute_result"
    }
   ],
   "source": [
    "set_a.isdisjoint(set_b) # Return True if two sets have a null intersection."
   ]
  },
  {
   "cell_type": "code",
   "execution_count": 97,
   "id": "d9542ad9-44ca-4bf0-89c6-a7941877f5ef",
   "metadata": {},
   "outputs": [],
   "source": [
    "universal_set.discard('a') # Remove an element from a set if it is a member."
   ]
  },
  {
   "cell_type": "code",
   "execution_count": 98,
   "id": "93557761-708c-4ac3-a448-57b8c90e3e7c",
   "metadata": {},
   "outputs": [
    {
     "data": {
      "text/plain": [
       "{'24', 'e'}"
      ]
     },
     "execution_count": 98,
     "metadata": {},
     "output_type": "execute_result"
    }
   ],
   "source": [
    "universal_set"
   ]
  },
  {
   "cell_type": "code",
   "execution_count": 99,
   "id": "7d68faa4-c292-410d-92d4-91b8609bbe4e",
   "metadata": {},
   "outputs": [],
   "source": [
    "universal_set.clear() # Remove all elements from this set."
   ]
  },
  {
   "cell_type": "code",
   "execution_count": 100,
   "id": "fd68d149-1aba-4a20-be68-8db289f088c8",
   "metadata": {},
   "outputs": [
    {
     "data": {
      "text/plain": [
       "set()"
      ]
     },
     "execution_count": 100,
     "metadata": {},
     "output_type": "execute_result"
    }
   ],
   "source": [
    "universal_set"
   ]
  }
 ],
 "metadata": {
  "kernelspec": {
   "display_name": "Python 3 (ipykernel)",
   "language": "python",
   "name": "python3"
  },
  "language_info": {
   "codemirror_mode": {
    "name": "ipython",
    "version": 3
   },
   "file_extension": ".py",
   "mimetype": "text/x-python",
   "name": "python",
   "nbconvert_exporter": "python",
   "pygments_lexer": "ipython3",
   "version": "3.12.5"
  }
 },
 "nbformat": 4,
 "nbformat_minor": 5
}
