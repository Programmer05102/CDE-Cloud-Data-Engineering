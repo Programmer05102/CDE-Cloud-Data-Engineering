{
 "cells": [
  {
   "cell_type": "markdown",
   "id": "d9046c64-1bef-4f77-9fea-094f5abd421a",
   "metadata": {},
   "source": [
    "### Value By Reference"
   ]
  },
  {
   "cell_type": "code",
   "execution_count": 2,
   "id": "3666f6a1-96d3-4a4e-9a39-9a0da6580dcf",
   "metadata": {},
   "outputs": [
    {
     "data": {
      "text/plain": [
       "(13, 12)"
      ]
     },
     "execution_count": 2,
     "metadata": {},
     "output_type": "execute_result"
    }
   ],
   "source": [
    "a = [1,2,3,4]\n",
    "a[0] = 29\n",
    "b = 12\n",
    "c = b\n",
    "c += 1 \n",
    "c, b"
   ]
  },
  {
   "cell_type": "code",
   "execution_count": 3,
   "id": "c3ae82a3-6529-49d6-88b3-39c26ea64a44",
   "metadata": {},
   "outputs": [
    {
     "data": {
      "text/plain": [
       "['Karachi', ['Lahore'], 'Quetta']"
      ]
     },
     "execution_count": 3,
     "metadata": {},
     "output_type": "execute_result"
    }
   ],
   "source": [
    "z = [\"Karachi\", [\"Lahore\"], \"Quetta\"]\n",
    "e = z[:]\n",
    "e"
   ]
  },
  {
   "cell_type": "code",
   "execution_count": 4,
   "id": "5e4631c6-9b7d-43d0-a8f9-ab3cd4986ed9",
   "metadata": {},
   "outputs": [
    {
     "data": {
      "text/plain": [
       "['Karachi', ['Islamabad'], 'Quetta']"
      ]
     },
     "execution_count": 4,
     "metadata": {},
     "output_type": "execute_result"
    }
   ],
   "source": [
    "z[1][0] = \"Islamabad\"\n",
    "z"
   ]
  },
  {
   "cell_type": "code",
   "execution_count": 5,
   "id": "9f51bab6-4be5-4de5-8118-4ec7242a3783",
   "metadata": {},
   "outputs": [
    {
     "data": {
      "text/plain": [
       "['Mexico', ['Islamabad'], 'Quetta']"
      ]
     },
     "execution_count": 5,
     "metadata": {},
     "output_type": "execute_result"
    }
   ],
   "source": [
    "e[0] = \"Mexico\"\n",
    "e"
   ]
  },
  {
   "cell_type": "markdown",
   "id": "e214db16-2a8c-431b-aec4-d0cffceb4582",
   "metadata": {},
   "source": [
    "### Shallow Copy And Deep Copy"
   ]
  },
  {
   "cell_type": "code",
   "execution_count": 10,
   "id": "3e95c02a-b87b-4920-a70e-2dcf6c625ba4",
   "metadata": {},
   "outputs": [],
   "source": [
    "import copy\n",
    "city = [\"Karachi\", [\"Islamabad\"], \"Quetta\"]\n",
    "city_1 = copy.deepcopy(city)"
   ]
  },
  {
   "cell_type": "code",
   "execution_count": 11,
   "id": "a72405aa-fc56-42ff-90ae-8f7e9f3aae86",
   "metadata": {},
   "outputs": [
    {
     "data": {
      "text/plain": [
       "['Karachi', ['Islamabad'], 'Quetta']"
      ]
     },
     "execution_count": 11,
     "metadata": {},
     "output_type": "execute_result"
    }
   ],
   "source": [
    "city"
   ]
  },
  {
   "cell_type": "code",
   "execution_count": 13,
   "id": "a2cdbb84-68c7-4a07-9656-f6a7d11c156c",
   "metadata": {},
   "outputs": [
    {
     "data": {
      "text/plain": [
       "['Karachi', ['Islamabad'], 'Quetta']"
      ]
     },
     "execution_count": 13,
     "metadata": {},
     "output_type": "execute_result"
    }
   ],
   "source": [
    "city_1"
   ]
  },
  {
   "cell_type": "code",
   "execution_count": 14,
   "id": "3a55b3a1-99e1-4e52-ba8f-74be53640c13",
   "metadata": {},
   "outputs": [],
   "source": [
    "city[1][0] = \"Mexico\""
   ]
  },
  {
   "cell_type": "code",
   "execution_count": 15,
   "id": "59abd124-cdcc-4ed1-8b3d-f1d7aa437b7d",
   "metadata": {},
   "outputs": [
    {
     "data": {
      "text/plain": [
       "['Karachi', ['Mexico'], 'Quetta']"
      ]
     },
     "execution_count": 15,
     "metadata": {},
     "output_type": "execute_result"
    }
   ],
   "source": [
    "city"
   ]
  },
  {
   "cell_type": "code",
   "execution_count": 16,
   "id": "98d9bb1c-03d5-4a79-ae7b-4e47bee356f0",
   "metadata": {},
   "outputs": [
    {
     "data": {
      "text/plain": [
       "['Karachi', ['Islamabad'], 'Quetta']"
      ]
     },
     "execution_count": 16,
     "metadata": {},
     "output_type": "execute_result"
    }
   ],
   "source": [
    "city_1"
   ]
  },
  {
   "cell_type": "code",
   "execution_count": null,
   "id": "8fb9fff6-93b8-470b-8d45-afe76d3dfa85",
   "metadata": {},
   "outputs": [],
   "source": []
  }
 ],
 "metadata": {
  "kernelspec": {
   "display_name": "Python 3 (ipykernel)",
   "language": "python",
   "name": "python3"
  },
  "language_info": {
   "codemirror_mode": {
    "name": "ipython",
    "version": 3
   },
   "file_extension": ".py",
   "mimetype": "text/x-python",
   "name": "python",
   "nbconvert_exporter": "python",
   "pygments_lexer": "ipython3",
   "version": "3.12.5"
  }
 },
 "nbformat": 4,
 "nbformat_minor": 5
}
