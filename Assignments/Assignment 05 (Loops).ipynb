{
 "cells": [
  {
   "cell_type": "markdown",
   "id": "b6f42920-bbbf-46e8-a4ac-22ef21868b46",
   "metadata": {},
   "source": [
    "# Looping Structures"
   ]
  },
  {
   "cell_type": "markdown",
   "id": "1a965500-7dc2-4803-bc7c-9626731fafc5",
   "metadata": {},
   "source": [
    "1. Write a Python program to print the numbers from 1 to 10 using a for loop. "
   ]
  },
  {
   "cell_type": "code",
   "execution_count": 1,
   "id": "db90a73b-a19d-43dc-a9e9-0ab12977f5ee",
   "metadata": {},
   "outputs": [
    {
     "name": "stdout",
     "output_type": "stream",
     "text": [
      "1\n",
      "2\n",
      "3\n",
      "4\n",
      "5\n",
      "6\n",
      "7\n",
      "8\n",
      "9\n",
      "10\n"
     ]
    }
   ],
   "source": [
    "for i in range(1,11):\n",
    "    print(i)"
   ]
  },
  {
   "cell_type": "markdown",
   "id": "89139fc6-589a-4d6a-b979-778f0ae510e3",
   "metadata": {},
   "source": [
    "2. Write a Python program to print the numbers from 20 to 1 using a while loop."
   ]
  },
  {
   "cell_type": "code",
   "execution_count": 2,
   "id": "3a503d35-ff52-4bcc-9486-48b678505733",
   "metadata": {},
   "outputs": [
    {
     "name": "stdout",
     "output_type": "stream",
     "text": [
      "20\n",
      "19\n",
      "18\n",
      "17\n",
      "16\n",
      "15\n",
      "14\n",
      "13\n",
      "12\n",
      "11\n",
      "10\n",
      "9\n",
      "8\n",
      "7\n",
      "6\n",
      "5\n",
      "4\n",
      "3\n",
      "2\n",
      "1\n"
     ]
    }
   ],
   "source": [
    "i = 20\n",
    "while i >= 1:\n",
    "    print(i)\n",
    "    i -= 1"
   ]
  },
  {
   "cell_type": "markdown",
   "id": "f2d6c9a8-4f2c-460d-80bd-7d252f066628",
   "metadata": {},
   "source": [
    "3. Write a program to print even numbers from 1 to 10. "
   ]
  },
  {
   "cell_type": "code",
   "execution_count": 3,
   "id": "8b1108ad-e0fb-41ac-88f7-33286a4b44ce",
   "metadata": {},
   "outputs": [
    {
     "name": "stdout",
     "output_type": "stream",
     "text": [
      "2\n",
      "4\n",
      "6\n",
      "8\n",
      "10\n"
     ]
    }
   ],
   "source": [
    "for i in range(1,11):\n",
    "    if i % 2 == 0: print(i)"
   ]
  },
  {
   "cell_type": "markdown",
   "id": "fac82be1-1661-44e6-b4b7-f6018f2fda79",
   "metadata": {},
   "source": [
    "4. Write a program that prompts the user to enter a number n and prints all the\n",
    "numbers from 1 to n. "
   ]
  },
  {
   "cell_type": "code",
   "execution_count": 5,
   "id": "28b71cbe-87d0-42a6-9a27-b041ec6482c0",
   "metadata": {},
   "outputs": [
    {
     "name": "stdin",
     "output_type": "stream",
     "text": [
      "Enter upto which Number You want to Print:  10\n"
     ]
    },
    {
     "name": "stdout",
     "output_type": "stream",
     "text": [
      "1\n",
      "2\n",
      "3\n",
      "4\n",
      "5\n",
      "6\n",
      "7\n",
      "8\n",
      "9\n",
      "10\n"
     ]
    }
   ],
   "source": [
    "n = int(input(\"Enter upto which Number You want to Print: \"))\n",
    "for i in range(1,n+1):\n",
    "    print(i)"
   ]
  },
  {
   "cell_type": "markdown",
   "id": "1a6aaa5d-b18b-4aff-8652-cf366b5860f1",
   "metadata": {},
   "source": [
    "5. Write a program that prompts the user to enter a number n, and then prints all the\n",
    "odd numbers between 1 and n. "
   ]
  },
  {
   "cell_type": "code",
   "execution_count": 7,
   "id": "e9ee85f6-28a8-45bc-b9f9-2cb5d760d27f",
   "metadata": {},
   "outputs": [
    {
     "name": "stdin",
     "output_type": "stream",
     "text": [
      "Enter upto which Number You want to Print Odd Numbers:  20\n"
     ]
    },
    {
     "name": "stdout",
     "output_type": "stream",
     "text": [
      "1\n",
      "3\n",
      "5\n",
      "7\n",
      "9\n",
      "11\n",
      "13\n",
      "15\n",
      "17\n",
      "19\n"
     ]
    }
   ],
   "source": [
    "n = int(input(\"Enter upto which Number You want to Print Odd Numbers: \"))\n",
    "for i in range(1,n+1):\n",
    "    if i % 2 == 1: print(i)"
   ]
  },
  {
   "cell_type": "markdown",
   "id": "cd626ca9-ae0d-4446-af7c-816eb9fd457e",
   "metadata": {},
   "source": [
    "6. Write a program that prints 'Happy Birthday!' five times on screen"
   ]
  },
  {
   "cell_type": "code",
   "execution_count": 8,
   "id": "20ba66d0-9192-492d-9b57-2f3db0c8ea12",
   "metadata": {},
   "outputs": [
    {
     "name": "stdout",
     "output_type": "stream",
     "text": [
      "Happy Birthday!\n",
      "Happy Birthday!\n",
      "Happy Birthday!\n",
      "Happy Birthday!\n",
      "Happy Birthday!\n"
     ]
    }
   ],
   "source": [
    "for i in range(5):\n",
    "    print(\"Happy Birthday!\")"
   ]
  },
  {
   "cell_type": "markdown",
   "id": "bc00168e-151e-4a90-9341-f3cc6e8933ef",
   "metadata": {},
   "source": [
    " 7. Write a program that takes a number n as input from the user and generates the first\n",
    "n terms of the series formed by squaring the natural numbers.\n",
    "\n",
    "Sample output\n",
    "Enter a number: 6\n",
    "The first 6 terms of the series are:\n",
    "1 4 9 16 25 36 "
   ]
  },
  {
   "cell_type": "code",
   "execution_count": 9,
   "id": "03db2bd9-5837-41b3-9d6b-897ed687eb0b",
   "metadata": {},
   "outputs": [
    {
     "name": "stdin",
     "output_type": "stream",
     "text": [
      "Enter a Number:  6\n"
     ]
    },
    {
     "name": "stdout",
     "output_type": "stream",
     "text": [
      "The first 6 terms of the series are:  \n",
      "1\n",
      "4\n",
      "9\n",
      "16\n",
      "25\n",
      "36\n"
     ]
    }
   ],
   "source": [
    "n = int(input(\"Enter a Number: \"))\n",
    "print(f\"The first {n} terms of the series are:  \")\n",
    "for i in range(n): print(f\"{(i+1)**2}\")"
   ]
  },
  {
   "cell_type": "markdown",
   "id": "e1e7049d-183b-4aff-9080-15328f46a302",
   "metadata": {},
   "source": [
    "8. Write a program that prompts the user to input a number and prints its multiplication\n",
    "table. "
   ]
  },
  {
   "cell_type": "code",
   "execution_count": 10,
   "id": "06e1bbcc-a1e2-4c84-947e-2f5a641a4b01",
   "metadata": {},
   "outputs": [
    {
     "name": "stdin",
     "output_type": "stream",
     "text": [
      "Enter the Number For Multiplication:  5\n"
     ]
    },
    {
     "name": "stdout",
     "output_type": "stream",
     "text": [
      "5 x 1 = 5\n",
      "5 x 2 = 10\n",
      "5 x 3 = 15\n",
      "5 x 4 = 20\n",
      "5 x 5 = 25\n",
      "5 x 6 = 30\n",
      "5 x 7 = 35\n",
      "5 x 8 = 40\n",
      "5 x 9 = 45\n",
      "5 x 10 = 50\n",
      "5 x 11 = 55\n",
      "5 x 12 = 60\n"
     ]
    }
   ],
   "source": [
    "n = int(input(\"Enter the Number For Multiplication: \"))\n",
    "for i in range(1,13): print(f\"{n} x {i} = {n*i}\")"
   ]
  },
  {
   "cell_type": "markdown",
   "id": "88bdcb56-7ddb-4eb3-99bb-4993099f2dd0",
   "metadata": {},
   "source": [
    "9. Write a Python program to print the first 8 terms of an arithmetic progression starting\n",
    "with 3 and having a common difference of 4.\n",
    "The program should output the following sequence:\n",
    "3 7 11 15 19 23 27 31 "
   ]
  },
  {
   "cell_type": "code",
   "execution_count": 20,
   "id": "d56beb01-8dc3-447c-93a6-7f69924298ab",
   "metadata": {},
   "outputs": [
    {
     "name": "stdout",
     "output_type": "stream",
     "text": [
      "The first 8 terms of the series are:  \n",
      "3\n",
      "7\n",
      "11\n",
      "15\n",
      "19\n",
      "23\n",
      "27\n",
      "31\n"
     ]
    }
   ],
   "source": [
    "print(f\"The first 8 terms of the series are:  \")\n",
    "for i in range(3,32,4): print(i)"
   ]
  },
  {
   "cell_type": "markdown",
   "id": "4dd3e397-51f5-4e86-bd1a-b5adbdfb922f",
   "metadata": {},
   "source": [
    "10. Write a Python program to print the first 6 terms of a geometric sequence starting\n",
    "with 2 and having a common ratio of 3.\n",
    "The program should output the following sequence:\n",
    "2 6 18 54 162 486 "
   ]
  },
  {
   "cell_type": "code",
   "execution_count": 33,
   "id": "fe08a2a1-6e34-490d-98e6-87bd3c4f1eff",
   "metadata": {},
   "outputs": [
    {
     "name": "stdout",
     "output_type": "stream",
     "text": [
      "The first 6 terms of the series are:  \n",
      "2\n",
      "6\n",
      "18\n",
      "54\n",
      "162\n",
      "486\n"
     ]
    }
   ],
   "source": [
    "n = 2\n",
    "print(f\"The first 6 terms of the series are:  \")\n",
    "for i in range(2,8):\n",
    "    print(n)\n",
    "    n *= 3"
   ]
  },
  {
   "cell_type": "markdown",
   "id": "fc2edf8a-b1fb-42b3-931e-9c64d8b8e43c",
   "metadata": {},
   "source": [
    "11. Write a program that asks the user for a positive integer value. The program should\n",
    "calculate the sum of all the integers from 1 up to the number entered. For example, if\n",
    "the user enters 20, the loop will find the sum of 1, 2, 3, 4, ... 20. "
   ]
  },
  {
   "cell_type": "code",
   "execution_count": 37,
   "id": "67828679-004a-41de-a62f-a289eaae1e7a",
   "metadata": {},
   "outputs": [
    {
     "name": "stdin",
     "output_type": "stream",
     "text": [
      "Enter The Number upto You want Sum of:  5\n"
     ]
    },
    {
     "name": "stdout",
     "output_type": "stream",
     "text": [
      "The Sum of 5 Numbers is: 15\n"
     ]
    }
   ],
   "source": [
    "n = int(input(\"Enter The Number upto You want Sum of: \"))\n",
    "sum = 0\n",
    "for i in range(1,n+1):\n",
    "    sum += i\n",
    "print(f\"The Sum of {n} Numbers is: {sum}\")"
   ]
  },
  {
   "cell_type": "markdown",
   "id": "c33ee119-da96-4ed9-98bd-e16903ad0d2c",
   "metadata": {},
   "source": [
    "12. write a program that takes a positive integer N as input and calculates the sum of\n",
    "the reciprocals of all numbers from 1 up to N. The program should display the final sum.\n",
    "\n",
    "Output of the program should be like:\n",
    "Enter a positive integer: 5\n",
    "The sum of reciprocals from 1 to 5 is: 2.28 "
   ]
  },
  {
   "cell_type": "code",
   "execution_count": 39,
   "id": "d2e44761-e8f6-4f13-97ca-97db83a0404a",
   "metadata": {},
   "outputs": [
    {
     "name": "stdin",
     "output_type": "stream",
     "text": [
      "Enter The Number upto You want Sum of:  5\n"
     ]
    },
    {
     "name": "stdout",
     "output_type": "stream",
     "text": [
      "The Sum of Reciprocals of 5 Numbers is: 2.28\n"
     ]
    }
   ],
   "source": [
    "n = int(input(\"Enter The Number upto You want Sum of: \"))\n",
    "sum = 0\n",
    "for i in range(1,n+1):\n",
    "    sum += (1/i)\n",
    "print(f\"The Sum of Reciprocals of {n} Numbers is: {sum:.2f}\")"
   ]
  },
  {
   "cell_type": "markdown",
   "id": "ee8688a6-8b6f-449f-9681-3a1e620b6300",
   "metadata": {},
   "source": [
    "13. Write a program that prompts the user to enter a number and repeats this process 5\n",
    "times. The program should accumulate the numbers entered and then display the final\n",
    "running total.\n",
    "\n",
    "Sample Output:\n",
    "Enter a number: 10\n",
    "Enter a number: 15\n",
    "Enter a number: 35\n",
    "Enter a number: 40\n",
    "Enter a number: 50\n",
    "The final running total is: 150 "
   ]
  },
  {
   "cell_type": "code",
   "execution_count": 41,
   "id": "b8b496d8-96e1-4e61-a178-60f786d2ddca",
   "metadata": {},
   "outputs": [
    {
     "name": "stdin",
     "output_type": "stream",
     "text": [
      "Enter a number:  10\n",
      "Enter a number:  15\n",
      "Enter a number:  35\n",
      "Enter a number:  40\n",
      "Enter a number:  50\n"
     ]
    },
    {
     "name": "stdout",
     "output_type": "stream",
     "text": [
      "The final running total is: 150\n"
     ]
    }
   ],
   "source": [
    "sum = 0\n",
    "for i in range(5):\n",
    "    n = int(input(\"Enter a number: \"))\n",
    "    sum += n\n",
    "print(f\"The final running total is: {sum}\")"
   ]
  },
  {
   "cell_type": "markdown",
   "id": "959b74e8-7246-47db-b70a-65d8c63a12de",
   "metadata": {},
   "source": [
    "14. Write a program that prompts the user to enter a positive integer and calculates its\n",
    "factorial. The factorial of a positive integer 'n' is denoted as 'n!' and is calculated by\n",
    "multiplying all the integers from 1 to 'n' together. For example, the factorial of 5\n",
    "(denoted as 5!) is calculated as 1 x 2 x 3 x 4 x 5.\n",
    "    \n",
    "The program should display the factorial value if the input is a positive number, or\n",
    "display a message stating that the factorial does not exist for negative numbers.\n",
    "Additionally, for an input of zero, the program should output that the factorial of 0 is 1. "
   ]
  },
  {
   "cell_type": "code",
   "execution_count": 2,
   "id": "9492de75-fc01-413b-832c-f85243a67d81",
   "metadata": {},
   "outputs": [
    {
     "name": "stdin",
     "output_type": "stream",
     "text": [
      "Enter the Number upto which You want to generate Factorial:  6\n"
     ]
    },
    {
     "name": "stdout",
     "output_type": "stream",
     "text": [
      " The Factorial of 6 is: 720\n"
     ]
    }
   ],
   "source": [
    "fact = 1\n",
    "n = int(input(\"Enter the Number upto which You want to generate Factorial: \"))\n",
    "if n == 0:\n",
    "    print(f\" The Factorial of {n} is: {fact}\")\n",
    "else:\n",
    "    for i in range(1,n+1):\n",
    "        fact *= i\n",
    "    print(f\" The Factorial of {n} is: {fact}\")"
   ]
  },
  {
   "cell_type": "markdown",
   "id": "01c130ca-0ad7-41c5-82d6-49bbe621820a",
   "metadata": {},
   "source": [
    "15. Write a Python program that prompts the user to enter a base number and an\n",
    "exponent, and then calculates the power of the base to the exponent. The program\n",
    "should not use the exponentiation operator (**) or the math.pow() function. The\n",
    "program should handle both positive and negative exponents. "
   ]
  },
  {
   "cell_type": "code",
   "execution_count": 4,
   "id": "a5ff57d8-59a9-426b-8fab-20ef815b505b",
   "metadata": {},
   "outputs": [
    {
     "name": "stdin",
     "output_type": "stream",
     "text": [
      "Enter Base Number:  2\n",
      "Enter Exponential Number:  3\n"
     ]
    },
    {
     "name": "stdout",
     "output_type": "stream",
     "text": [
      "The Final Result is: 8\n"
     ]
    }
   ],
   "source": [
    "base = int(input(\"Enter Base Number: \"))\n",
    "exp = int(input(\"Enter Exponential Number: \"))\n",
    "result = 1\n",
    "if exp > 0:\n",
    "    for i in range(exp):\n",
    "        result *= base\n",
    "elif exp < 0:\n",
    "    for i in range(-exp):\n",
    "        result *= base\n",
    "    result = 1 / result\n",
    "else:\n",
    "    result = 1\n",
    "print(f\"The Final Result is: {result}\")"
   ]
  }
 ],
 "metadata": {
  "kernelspec": {
   "display_name": "Python 3 (ipykernel)",
   "language": "python",
   "name": "python3"
  },
  "language_info": {
   "codemirror_mode": {
    "name": "ipython",
    "version": 3
   },
   "file_extension": ".py",
   "mimetype": "text/x-python",
   "name": "python",
   "nbconvert_exporter": "python",
   "pygments_lexer": "ipython3",
   "version": "3.12.5"
  }
 },
 "nbformat": 4,
 "nbformat_minor": 5
}
