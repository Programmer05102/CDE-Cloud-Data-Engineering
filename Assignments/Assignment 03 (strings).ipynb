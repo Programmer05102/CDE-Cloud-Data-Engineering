{
 "cells": [
  {
   "cell_type": "raw",
   "id": "2b5ed41a-21f7-49de-bed1-31a629b4be4b",
   "metadata": {},
   "source": [
    "1. Write a program that accepts a string from user. Your program should count and display number of\n",
    "vowels in that string"
   ]
  },
  {
   "cell_type": "code",
   "execution_count": 1,
   "id": "659d6024-8ba6-40d4-87dd-8161403eee5f",
   "metadata": {},
   "outputs": [
    {
     "name": "stdin",
     "output_type": "stream",
     "text": [
      "Enter Any String:  My Name is Hisham Ahmed\n"
     ]
    },
    {
     "name": "stdout",
     "output_type": "stream",
     "text": [
      "Number of Vowels in This String Are: 7\n"
     ]
    }
   ],
   "source": [
    "vowels = \"aeiouAEIOU\"\n",
    "tot = 0\n",
    "string = input(\"Enter Any String: \")\n",
    "for char in string: \n",
    "    if char in vowels:\n",
    "        tot +=1\n",
    "print(f\"Number of Vowels in This String Are: {tot}\")"
   ]
  },
  {
   "cell_type": "raw",
   "id": "2a555159-b911-43c5-b920-a3ce8c123b92",
   "metadata": {},
   "source": [
    "2. Write a program that reads a string from keyboard and display:\n",
    "* The number of uppercase letters in the string\n",
    "* The number of lowercase letters in the string\n",
    "* The number of digits in the string\n",
    "* The number of whitespace characters in the string "
   ]
  },
  {
   "cell_type": "code",
   "execution_count": 2,
   "id": "12bbf44c-13d8-40a9-b7c3-a3cd1c774232",
   "metadata": {},
   "outputs": [
    {
     "name": "stdin",
     "output_type": "stream",
     "text": [
      "Enter Any String: My Name is Hisham Ahmed\n"
     ]
    },
    {
     "name": "stdout",
     "output_type": "stream",
     "text": [
      "Number oF UpperCase Letter Are: 4\n",
      "Number oF LowerCase Letter Are: 15\n",
      "Number oF Digits Are: 0\n",
      "Number oF WhiteSpaces Are: 4\n"
     ]
    }
   ],
   "source": [
    "string = input(\"Enter Any String:\")\n",
    "uppercase = 0\n",
    "lowercase = 0\n",
    "digit = 0\n",
    "space = 0\n",
    "for char in string:\n",
    "    if char.isupper(): uppercase += 1\n",
    "    elif char.islower(): lowercase += 1\n",
    "    elif char.isdigit(): digit += 1\n",
    "    elif char.isspace(): space += 1\n",
    "print(f\"Number oF UpperCase Letter Are: {uppercase}\")\n",
    "print(f\"Number oF LowerCase Letter Are: {lowercase}\")\n",
    "print(f\"Number oF Digits Are: {digit}\")\n",
    "print(f\"Number oF WhiteSpaces Are: {space}\")"
   ]
  },
  {
   "cell_type": "raw",
   "id": "b816eea7-ec1b-4296-8c3f-fd6121c56d24",
   "metadata": {},
   "source": [
    " 3. Write a Python program that accepts a string from user. Your program should create and display a\n",
    "new string where the first and last characters have been exchanged.\n",
    "For example if the user enters the string 'HELLO' then new string would be 'OELLH'"
   ]
  },
  {
   "cell_type": "code",
   "execution_count": 3,
   "id": "a9c85e87-d51e-4881-8be8-3cd8bcc84f72",
   "metadata": {},
   "outputs": [
    {
     "name": "stdin",
     "output_type": "stream",
     "text": [
      "Enter Any String:  My Name is Hisham Ahmed\n"
     ]
    },
    {
     "data": {
      "text/plain": [
       "'dy Name is Hisham AhmeM'"
      ]
     },
     "execution_count": 3,
     "metadata": {},
     "output_type": "execute_result"
    }
   ],
   "source": [
    "string = input(\"Enter Any String: \")\n",
    "string[-1:] + string[1:-1] + string[0]"
   ]
  },
  {
   "cell_type": "raw",
   "id": "432fd66d-7683-40f0-9487-522478e7057b",
   "metadata": {},
   "source": [
    "4. Write a Python program that accepts a string from user. Your program should create a new string in\n",
    "reverse of first string and display it.\n",
    "For example if the user enters the string 'EXAM' then new string would be 'MAXE' "
   ]
  },
  {
   "cell_type": "code",
   "execution_count": 4,
   "id": "42ccb70c-d7df-47ba-a1b3-b0bdf765ca40",
   "metadata": {},
   "outputs": [
    {
     "name": "stdin",
     "output_type": "stream",
     "text": [
      "Enter Any String:  My Name is Hisham Ahmed\n"
     ]
    },
    {
     "data": {
      "text/plain": [
       "'demhA mahsiH si emaN yM'"
      ]
     },
     "execution_count": 4,
     "metadata": {},
     "output_type": "execute_result"
    }
   ],
   "source": [
    "string = input(\"Enter Any String: \")\n",
    "string[::-1]"
   ]
  },
  {
   "cell_type": "raw",
   "id": "78a3299d-1ca1-44cf-9921-3c3a5ff95bc8",
   "metadata": {},
   "source": [
    " 5. Write a Python program that accepts a string from user. Your program should create a new string by\n",
    "shifting one position to left.\n",
    "For example if the user enters the string 'examination 2021' then new string would be 'xamination\n",
    "2021e'"
   ]
  },
  {
   "cell_type": "code",
   "execution_count": 5,
   "id": "dc3673b6-0dca-4e88-80be-2827c56626d4",
   "metadata": {},
   "outputs": [
    {
     "name": "stdin",
     "output_type": "stream",
     "text": [
      "Enter Any String:  My Name is Hisham Ahmed\n"
     ]
    },
    {
     "data": {
      "text/plain": [
       "'y Name is Hisham AhmedM'"
      ]
     },
     "execution_count": 5,
     "metadata": {},
     "output_type": "execute_result"
    }
   ],
   "source": [
    "string = input(\"Enter Any String: \")\n",
    "string[1:] + string[0]"
   ]
  },
  {
   "cell_type": "raw",
   "id": "ffea5f15-bb7a-43da-9bb0-f5cd9c836116",
   "metadata": {},
   "source": [
    " 6. Write a program that asks the user to input his name and print its initials. Assuming that the user\n",
    "always types first name, middle name and last name and does not include any unnecessary spaces.\n",
    "For example, if the user enters Ajay Kumar Garg the program should display A. K. G.\n",
    "Note:Don't use split() method "
   ]
  },
  {
   "cell_type": "code",
   "execution_count": 6,
   "id": "af00f34e-7dc4-4fd4-acbe-86639029a9e3",
   "metadata": {},
   "outputs": [
    {
     "name": "stdin",
     "output_type": "stream",
     "text": [
      "Enter Your First Name :  Hisham\n",
      "Enter Your Middle Name :  Ahmed\n",
      "Enter Your Last Name :  Arsal Naqi\n"
     ]
    },
    {
     "data": {
      "text/plain": [
       "'H. A. A.'"
      ]
     },
     "execution_count": 6,
     "metadata": {},
     "output_type": "execute_result"
    }
   ],
   "source": [
    "f_name = input(\"Enter Your First Name : \")\n",
    "m_name = input(\"Enter Your Middle Name : \")\n",
    "l_name = input(\"Enter Your Last Name : \")\n",
    "f_name[0] + \". \" + m_name[0] + \". \" + l_name[0] + \".\""
   ]
  },
  {
   "cell_type": "raw",
   "id": "380fc51a-74b3-47af-b5ac-95ee7eb96cb3",
   "metadata": {},
   "source": [
    "7. A palindrome is a string that reads the same backward as forward. For example, the words dad,\n",
    "madam and radar are all palindromes. Write a programs that determines whether the string is a\n",
    "palindrome.\n",
    "Note: do not use reverse() method "
   ]
  },
  {
   "cell_type": "code",
   "execution_count": 7,
   "id": "170eac7c-22c8-4d97-8a5f-19ea29f10228",
   "metadata": {},
   "outputs": [
    {
     "name": "stdin",
     "output_type": "stream",
     "text": [
      "Enter Any String:  Mom\n"
     ]
    },
    {
     "name": "stdout",
     "output_type": "stream",
     "text": [
      "It's A Palindrome\n"
     ]
    }
   ],
   "source": [
    "string = input(\"Enter Any String: \")\n",
    "if string[0:].lower() == string[::-1].lower():\n",
    "    print(\"It's A Palindrome\")\n",
    "else:\n",
    "    print(\"It's Not a Palindrome\")"
   ]
  },
  {
   "cell_type": "raw",
   "id": "dea04ff5-e18a-4e3d-a06b-cd74ba156829",
   "metadata": {},
   "source": [
    "8. Write a program that display following output:\n",
    "SHIFT\n",
    "HIFTS\n",
    "IFTSH\n",
    "FTSHI\n",
    "TSHIF\n",
    "SHIFT "
   ]
  },
  {
   "cell_type": "code",
   "execution_count": 8,
   "id": "c49922f1-13e1-44b5-aa1f-ab1254721008",
   "metadata": {},
   "outputs": [
    {
     "name": "stdout",
     "output_type": "stream",
     "text": [
      "SHIFT\n",
      "HIFTS\n",
      "IFTSH\n",
      "FTSHI\n",
      "TSHIF\n",
      "SHIFT\n"
     ]
    }
   ],
   "source": [
    "string = \"SHIFT\"\n",
    "print(string[0:])\n",
    "print(string[1:] + string[0])\n",
    "print(string[2:] + string[0:-3])\n",
    "print(string[3:] + string[0:-2])\n",
    "print(string[4:] + string[:-1])\n",
    "print(string[0:])"
   ]
  },
  {
   "cell_type": "raw",
   "id": "6bbf0135-c377-42d4-90e2-2b66210d3a20",
   "metadata": {},
   "source": [
    "9. Write a program in python that accepts a string to setup a passwords. Your entered password must\n",
    "meet the following requirements:\n",
    "The password must be at least eight characters long.\n",
    "It must contain at least one uppercase letter.\n",
    "It must contain at least one lowercase letter.\n",
    "It must contain at least one numeric digit.\n",
    "Your program should should perform this validation. "
   ]
  },
  {
   "cell_type": "code",
   "execution_count": 9,
   "id": "dec49ae6-f36e-46b2-aba8-7ba71258311d",
   "metadata": {},
   "outputs": [
    {
     "name": "stdin",
     "output_type": "stream",
     "text": [
      "Enter Your Password:  I dont Tell You1\n"
     ]
    }
   ],
   "source": [
    "password = input(\"Enter Your Password: \")\n",
    "if len(password) >= 8:\n",
    "    if not any(char.islower() for char in password): print(\"Password must contain at least one lowercase letter.\")\n",
    "    if not any(char.isupper() for char in password): print(\"Password must contain at least one uppercase letter.\")\n",
    "    if not any(char.isdigit() for char in password): print(\"Password must contain at least one Digit.\")\n",
    "else: print(\"Password must be at least 8 characters long.\")"
   ]
  }
 ],
 "metadata": {
  "kernelspec": {
   "display_name": "Python 3 (ipykernel)",
   "language": "python",
   "name": "python3"
  },
  "language_info": {
   "codemirror_mode": {
    "name": "ipython",
    "version": 3
   },
   "file_extension": ".py",
   "mimetype": "text/x-python",
   "name": "python",
   "nbconvert_exporter": "python",
   "pygments_lexer": "ipython3",
   "version": "3.12.5"
  }
 },
 "nbformat": 4,
 "nbformat_minor": 5
}
