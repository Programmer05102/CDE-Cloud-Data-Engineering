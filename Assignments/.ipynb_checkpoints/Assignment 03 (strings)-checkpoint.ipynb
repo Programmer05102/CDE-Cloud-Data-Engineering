{
 "cells": [
  {
   "cell_type": "markdown",
   "id": "a784d243-21e5-4757-880d-c0d20fbfe5b6",
   "metadata": {},
   "source": [
    "# Strings Assignment"
   ]
  },
  {
   "cell_type": "markdown",
   "id": "fcf97592-2762-4735-8309-4fa50f5e75c3",
   "metadata": {},
   "source": [
    "1. Write a program that accepts a string from user. Your program should count and display number of\n",
    "vowels in that string"
   ]
  },
  {
   "cell_type": "code",
   "execution_count": 1,
   "id": "659d6024-8ba6-40d4-87dd-8161403eee5f",
   "metadata": {},
   "outputs": [
    {
     "name": "stdin",
     "output_type": "stream",
     "text": [
      "Enter Any String:  My name is Hisham Ahmed\n"
     ]
    },
    {
     "name": "stdout",
     "output_type": "stream",
     "text": [
      "Number of Vowels in This String Are: 7\n"
     ]
    }
   ],
   "source": [
    "vowels = \"aeiouAEIOU\"\n",
    "tot = 0\n",
    "string = input(\"Enter Any String: \")\n",
    "for char in string: \n",
    "    if char in vowels:\n",
    "        tot +=1\n",
    "print(f\"Number of Vowels in This String Are: {tot}\")"
   ]
  },
  {
   "cell_type": "markdown",
   "id": "42f44234-8c8f-4c47-adfc-9464843b3639",
   "metadata": {},
   "source": [
    "2. Write a program that reads a string from keyboard and display:\n",
    "* The number of uppercase letters in the string\n",
    "* The number of lowercase letters in the string\n",
    "* The number of digits in the string\n",
    "* The number of whitespace characters in the string "
   ]
  },
  {
   "cell_type": "code",
   "execution_count": 2,
   "id": "12bbf44c-13d8-40a9-b7c3-a3cd1c774232",
   "metadata": {},
   "outputs": [
    {
     "name": "stdin",
     "output_type": "stream",
     "text": [
      "Enter Any String: My name is Hisham Ahmed\n"
     ]
    },
    {
     "name": "stdout",
     "output_type": "stream",
     "text": [
      "Number oF UpperCase Letter Are: 3\n",
      "Number oF LowerCase Letter Are: 16\n",
      "Number oF Digits Are: 0\n",
      "Number oF WhiteSpaces Are: 4\n"
     ]
    }
   ],
   "source": [
    "string = input(\"Enter Any String:\")\n",
    "uppercase = 0\n",
    "lowercase = 0\n",
    "digit = 0\n",
    "space = 0\n",
    "for char in string:\n",
    "    if char.isupper(): uppercase += 1\n",
    "    elif char.islower(): lowercase += 1\n",
    "    elif char.isdigit(): digit += 1\n",
    "    elif char.isspace(): space += 1\n",
    "print(f\"Number oF UpperCase Letter Are: {uppercase}\")\n",
    "print(f\"Number oF LowerCase Letter Are: {lowercase}\")\n",
    "print(f\"Number oF Digits Are: {digit}\")\n",
    "print(f\"Number oF WhiteSpaces Are: {space}\")"
   ]
  },
  {
   "cell_type": "markdown",
   "id": "c8f589ae-dd01-4a62-b471-fe7ba575da36",
   "metadata": {},
   "source": [
    " 3. Write a Python program that accepts a string from user. Your program should create and display a\n",
    "new string where the first and last characters have been exchanged.\n",
    "For example if the user enters the string 'HELLO' then new string would be 'OELLH'"
   ]
  },
  {
   "cell_type": "code",
   "execution_count": 3,
   "id": "a9c85e87-d51e-4881-8be8-3cd8bcc84f72",
   "metadata": {},
   "outputs": [
    {
     "name": "stdin",
     "output_type": "stream",
     "text": [
      "Enter Any String:  My name is Hisham Ahmed\n"
     ]
    },
    {
     "data": {
      "text/plain": [
       "'dy name is Hisham AhmeM'"
      ]
     },
     "execution_count": 3,
     "metadata": {},
     "output_type": "execute_result"
    }
   ],
   "source": [
    "string = input(\"Enter Any String: \")\n",
    "string[-1:] + string[1:-1] + string[0]"
   ]
  },
  {
   "cell_type": "markdown",
   "id": "55758243-ca70-431a-8bb0-6235d6df736f",
   "metadata": {},
   "source": [
    "4. Write a Python program that accepts a string from user. Your program should create a new string in\n",
    "reverse of first string and display it.\n",
    "For example if the user enters the string 'EXAM' then new string would be 'MAXE' "
   ]
  },
  {
   "cell_type": "code",
   "execution_count": 4,
   "id": "42ccb70c-d7df-47ba-a1b3-b0bdf765ca40",
   "metadata": {},
   "outputs": [
    {
     "name": "stdin",
     "output_type": "stream",
     "text": [
      "Enter Any String:  my name is Hisham Ahmed\n"
     ]
    },
    {
     "data": {
      "text/plain": [
       "'demhA mahsiH si eman ym'"
      ]
     },
     "execution_count": 4,
     "metadata": {},
     "output_type": "execute_result"
    }
   ],
   "source": [
    "string = input(\"Enter Any String: \")\n",
    "string[::-1]"
   ]
  },
  {
   "cell_type": "markdown",
   "id": "3e2f03fc-56b4-4a6f-9894-c2bef1fc14cc",
   "metadata": {},
   "source": [
    " 5. Write a Python program that accepts a string from user. Your program should create a new string by\n",
    "shifting one position to left.\n",
    "For example if the user enters the string 'examination 2021' then new string would be 'xamination\n",
    "2021e'"
   ]
  },
  {
   "cell_type": "code",
   "execution_count": 5,
   "id": "dc3673b6-0dca-4e88-80be-2827c56626d4",
   "metadata": {},
   "outputs": [
    {
     "name": "stdin",
     "output_type": "stream",
     "text": [
      "Enter Any String:  My name is Hisham Ahmed\n"
     ]
    },
    {
     "data": {
      "text/plain": [
       "'y name is Hisham AhmedM'"
      ]
     },
     "execution_count": 5,
     "metadata": {},
     "output_type": "execute_result"
    }
   ],
   "source": [
    "string = input(\"Enter Any String: \")\n",
    "string[1:] + string[0]"
   ]
  },
  {
   "cell_type": "markdown",
   "id": "4c3a46b0-4332-4732-be89-d63f81a3b25e",
   "metadata": {},
   "source": [
    " 6. Write a program that asks the user to input his name and print its initials. Assuming that the user\n",
    "always types first name, middle name and last name and does not include any unnecessary spaces.\n",
    "For example, if the user enters Ajay Kumar Garg the program should display A. K. G.\n",
    "Note:Don't use split() method "
   ]
  },
  {
   "cell_type": "code",
   "execution_count": 6,
   "id": "af00f34e-7dc4-4fd4-acbe-86639029a9e3",
   "metadata": {},
   "outputs": [
    {
     "name": "stdin",
     "output_type": "stream",
     "text": [
      "Enter Your First Name :  Hisham\n",
      "Enter Your Middle Name :  Ahmed\n",
      "Enter Your Last Name :  Arsal\n"
     ]
    },
    {
     "data": {
      "text/plain": [
       "'H. A. A.'"
      ]
     },
     "execution_count": 6,
     "metadata": {},
     "output_type": "execute_result"
    }
   ],
   "source": [
    "f_name = input(\"Enter Your First Name : \")\n",
    "m_name = input(\"Enter Your Middle Name : \")\n",
    "l_name = input(\"Enter Your Last Name : \")\n",
    "f_name[0] + \". \" + m_name[0] + \". \" + l_name[0] + \".\""
   ]
  },
  {
   "cell_type": "markdown",
   "id": "7705b99e-1d7a-4a13-bed3-407513707aa8",
   "metadata": {},
   "source": [
    "7. A palindrome is a string that reads the same backward as forward. For example, the words dad,\n",
    "madam and radar are all palindromes. Write a programs that determines whether the string is a\n",
    "palindrome.\n",
    "Note: do not use reverse() method "
   ]
  },
  {
   "cell_type": "code",
   "execution_count": 7,
   "id": "170eac7c-22c8-4d97-8a5f-19ea29f10228",
   "metadata": {},
   "outputs": [
    {
     "name": "stdin",
     "output_type": "stream",
     "text": [
      "Enter Any String:  mom\n"
     ]
    },
    {
     "name": "stdout",
     "output_type": "stream",
     "text": [
      "It's A Palindrome\n"
     ]
    }
   ],
   "source": [
    "string = input(\"Enter Any String: \")\n",
    "if string[0:].lower() == string[::-1].lower():\n",
    "    print(\"It's A Palindrome\")\n",
    "else:\n",
    "    print(\"It's Not a Palindrome\")"
   ]
  },
  {
   "cell_type": "markdown",
   "id": "6e46de28-54c2-4f65-8879-b6ec89be4ef3",
   "metadata": {},
   "source": [
    "8. Write a program that display following output:\n",
    "SHIFT\n",
    "HIFTS\n",
    "IFTSH\n",
    "FTSHI\n",
    "TSHIF\n",
    "SHIFT "
   ]
  },
  {
   "cell_type": "code",
   "execution_count": 8,
   "id": "c49922f1-13e1-44b5-aa1f-ab1254721008",
   "metadata": {},
   "outputs": [
    {
     "name": "stdout",
     "output_type": "stream",
     "text": [
      "SHIFT\n",
      "HIFTS\n",
      "IFTSH\n",
      "FTSHI\n",
      "TSHIF\n",
      "SHIFT\n"
     ]
    }
   ],
   "source": [
    "string = \"SHIFT\"\n",
    "print(string[0:])\n",
    "print(string[1:] + string[0])\n",
    "print(string[2:] + string[0:-3])\n",
    "print(string[3:] + string[0:-2])\n",
    "print(string[4:] + string[:-1])\n",
    "print(string[0:])"
   ]
  },
  {
   "cell_type": "markdown",
   "id": "ed476f6b-f963-4d2d-a8c0-ff73d287e6e6",
   "metadata": {},
   "source": [
    "9. Write a program in python that accepts a string to setup a passwords. Your entered password must\n",
    "meet the following requirements:\n",
    "The password must be at least eight characters long.\n",
    "It must contain at least one uppercase letter.\n",
    "It must contain at least one lowercase letter.\n",
    "It must contain at least one numeric digit.\n",
    "Your program should should perform this validation. "
   ]
  },
  {
   "cell_type": "code",
   "execution_count": 9,
   "id": "dec49ae6-f36e-46b2-aba8-7ba71258311d",
   "metadata": {},
   "outputs": [
    {
     "name": "stdin",
     "output_type": "stream",
     "text": [
      "Enter Your Password:  Hisham1234\n"
     ]
    }
   ],
   "source": [
    "password = input(\"Enter Your Password: \")\n",
    "if len(password) >= 8:\n",
    "    if not any(char.islower() for char in password): print(\"Password must contain at least one lowercase letter.\")\n",
    "    if not any(char.isupper() for char in password): print(\"Password must contain at least one uppercase letter.\")\n",
    "    if not any(char.isdigit() for char in password): print(\"Password must contain at least one Digit.\")\n",
    "else: print(\"Password must be at least 8 characters long.\")"
   ]
  }
 ],
 "metadata": {
  "kernelspec": {
   "display_name": "Python 3 (ipykernel)",
   "language": "python",
   "name": "python3"
  },
  "language_info": {
   "codemirror_mode": {
    "name": "ipython",
    "version": 3
   },
   "file_extension": ".py",
   "mimetype": "text/x-python",
   "name": "python",
   "nbconvert_exporter": "python",
   "pygments_lexer": "ipython3",
   "version": "3.12.5"
  }
 },
 "nbformat": 4,
 "nbformat_minor": 5
}
