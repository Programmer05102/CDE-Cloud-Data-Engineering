{
 "cells": [
  {
   "cell_type": "code",
   "execution_count": 79,
   "id": "54141f13-b80b-4ece-8ac1-8b94cdebba89",
   "metadata": {},
   "outputs": [
    {
     "name": "stdout",
     "output_type": "stream",
     "text": [
      "Hello-World\n"
     ]
    }
   ],
   "source": [
    "print(\"Hello-World\")"
   ]
  },
  {
   "cell_type": "raw",
   "id": "ff28231e-b2a5-466e-ba68-f6ff907f1a03",
   "metadata": {},
   "source": [
    "This is raww cell you can add simple plain text here..."
   ]
  },
  {
   "cell_type": "markdown",
   "id": "1b7eddc3-4365-4a3a-8736-4b10fadbc036",
   "metadata": {},
   "source": [
    "This is a Markdown so we have to follow Markdown syntax"
   ]
  },
  {
   "cell_type": "markdown",
   "id": "665ae05b-622f-4c84-85e4-fa316b907877",
   "metadata": {},
   "source": [
    "## Shortcuts For Jupyter Notebook"
   ]
  },
  {
   "cell_type": "raw",
   "id": "f8f567aa-24d8-45ff-b535-4f6767954e80",
   "metadata": {},
   "source": [
    "- Esc + M For Markdown\n",
    "- Esc + R For Raw\n",
    "- Esc + Y For Code\n",
    "- #1...6 (Level 1...Level 6 Heading)\n",
    "- Esc + A For Add Cell Above\n",
    "- Esc + B For Add Cell Below\n",
    "- Esc + D + D For Cell Delete\n",
    "- Shift + Enter To Run Cell and Add Cell Below\n",
    "- Ctrl + Enter To Run Cell\n",
    "- Alt + Enter To Run Cell and Add Cell Below\n",
    "- Ctrl + Shift + H For Keyboard Shortcuts"
   ]
  },
  {
   "cell_type": "markdown",
   "id": "298de5da-8412-4ead-aec5-a6feaafd5dff",
   "metadata": {},
   "source": [
    "## Variables"
   ]
  },
  {
   "cell_type": "code",
   "execution_count": 80,
   "id": "24ab70b2-3308-44b9-b3b1-b0daf1266e9b",
   "metadata": {},
   "outputs": [
    {
     "name": "stdout",
     "output_type": "stream",
     "text": [
      "<class 'str'>\n",
      "<class 'int'>\n",
      "<class 'float'>\n",
      "<class 'bool'>\n",
      "2338897044272\n",
      "140722792828056\n",
      "2338867747760\n",
      "140722792026640\n"
     ]
    }
   ],
   "source": [
    "# String\n",
    "name = \"Hisham Ahmed\"\n",
    "# Integer\n",
    "age = 24\n",
    "# FLoat\n",
    "weight = 70.5\n",
    "# Boolean\n",
    "is_Present = True\n",
    "name\n",
    "age\n",
    "weight\n",
    "is_Present\n",
    "# Additional Stuff\n",
    "print(type(name))\n",
    "print(type(age))\n",
    "print(type(weight))\n",
    "print(type(is_Present))\n",
    "# Address\n",
    "print(id(name))\n",
    "print(id(age))\n",
    "print(id(weight))\n",
    "print(id(is_Present))"
   ]
  },
  {
   "cell_type": "markdown",
   "id": "009e151e-c435-4d4f-8042-574da8dfecb6",
   "metadata": {},
   "source": [
    "## Operators"
   ]
  },
  {
   "cell_type": "code",
   "execution_count": 81,
   "id": "780964b4-d2cd-4e37-936d-911d14689042",
   "metadata": {},
   "outputs": [
    {
     "data": {
      "text/plain": [
       "5"
      ]
     },
     "execution_count": 81,
     "metadata": {},
     "output_type": "execute_result"
    }
   ],
   "source": [
    "# Addition\n",
    "2 + 3"
   ]
  },
  {
   "cell_type": "code",
   "execution_count": 82,
   "id": "a7c88e8a-6935-4de6-92ec-e3bb9bf1295f",
   "metadata": {},
   "outputs": [
    {
     "data": {
      "text/plain": [
       "1"
      ]
     },
     "execution_count": 82,
     "metadata": {},
     "output_type": "execute_result"
    }
   ],
   "source": [
    "# Subtraction\n",
    "3 - 2"
   ]
  },
  {
   "cell_type": "code",
   "execution_count": 83,
   "id": "6c7a30aa-2180-456e-977e-88082df59761",
   "metadata": {},
   "outputs": [
    {
     "data": {
      "text/plain": [
       "6"
      ]
     },
     "execution_count": 83,
     "metadata": {},
     "output_type": "execute_result"
    }
   ],
   "source": [
    "# Multiplication\n",
    "2 * 3"
   ]
  },
  {
   "cell_type": "code",
   "execution_count": 84,
   "id": "035913fe-8b6f-4346-8f5f-41080cb884bc",
   "metadata": {},
   "outputs": [
    {
     "data": {
      "text/plain": [
       "3.0"
      ]
     },
     "execution_count": 84,
     "metadata": {},
     "output_type": "execute_result"
    }
   ],
   "source": [
    "# Division\n",
    "6 / 2"
   ]
  },
  {
   "cell_type": "code",
   "execution_count": 85,
   "id": "f28a7a2c-2edd-456d-9cd9-feba1001aa19",
   "metadata": {},
   "outputs": [
    {
     "data": {
      "text/plain": [
       "3"
      ]
     },
     "execution_count": 85,
     "metadata": {},
     "output_type": "execute_result"
    }
   ],
   "source": [
    "# Floor Division\n",
    "7 // 2"
   ]
  },
  {
   "cell_type": "code",
   "execution_count": 86,
   "id": "fed930f7-17ea-4dae-84c7-f85f38ee57c1",
   "metadata": {},
   "outputs": [
    {
     "data": {
      "text/plain": [
       "256"
      ]
     },
     "execution_count": 86,
     "metadata": {},
     "output_type": "execute_result"
    }
   ],
   "source": [
    "# Power\n",
    "4 ** 4"
   ]
  },
  {
   "cell_type": "markdown",
   "id": "bb743b81-4df9-4984-80bb-e94c48f3dd1e",
   "metadata": {},
   "source": [
    "## Expressions"
   ]
  },
  {
   "cell_type": "markdown",
   "id": "063eee54-22f2-43c1-80e8-e2b46c3874b9",
   "metadata": {},
   "source": [
    "### PEMDAS \n",
    "- Paranthesis \n",
    "- Exponention \n",
    "- Multiplication\n",
    "- Division\n",
    "- Addition\n",
    "- Subtraction "
   ]
  },
  {
   "cell_type": "code",
   "execution_count": 87,
   "id": "1e64e7d9-925b-4af5-9aef-376138930147",
   "metadata": {},
   "outputs": [
    {
     "data": {
      "text/plain": [
       "-2.8"
      ]
     },
     "execution_count": 87,
     "metadata": {},
     "output_type": "execute_result"
    }
   ],
   "source": [
    "(2-3)-(4-3)-4/5"
   ]
  },
  {
   "cell_type": "code",
   "execution_count": 88,
   "id": "1982c701-66da-40ea-9db6-22666a86c2e5",
   "metadata": {},
   "outputs": [
    {
     "data": {
      "text/plain": [
       "64.8"
      ]
     },
     "execution_count": 88,
     "metadata": {},
     "output_type": "execute_result"
    }
   ],
   "source": [
    "(((4+5)**2)*4)/5*(3-2)"
   ]
  },
  {
   "cell_type": "markdown",
   "id": "77416b83-ebba-4dfa-968f-1c501c57f3e8",
   "metadata": {},
   "source": [
    "### Advance Operator\n",
    "- +=\n",
    "- -+\n",
    "- *=\n",
    "- /="
   ]
  },
  {
   "cell_type": "code",
   "execution_count": 89,
   "id": "9484b816-f0fb-4992-8f21-4f88ede3a40a",
   "metadata": {},
   "outputs": [],
   "source": [
    "num1 = 5\n",
    "num2 = 4"
   ]
  },
  {
   "cell_type": "code",
   "execution_count": 90,
   "id": "ddd4d9ac-7924-482a-9d7c-66dfd8d21c6b",
   "metadata": {},
   "outputs": [
    {
     "data": {
      "text/plain": [
       "9"
      ]
     },
     "execution_count": 90,
     "metadata": {},
     "output_type": "execute_result"
    }
   ],
   "source": [
    "num1 += num2\n",
    "num1"
   ]
  },
  {
   "cell_type": "code",
   "execution_count": 91,
   "id": "d0901ffe-8d9a-46fb-9305-559bb03df01a",
   "metadata": {},
   "outputs": [
    {
     "data": {
      "text/plain": [
       "5"
      ]
     },
     "execution_count": 91,
     "metadata": {},
     "output_type": "execute_result"
    }
   ],
   "source": [
    "num1 -= num2\n",
    "num1"
   ]
  },
  {
   "cell_type": "code",
   "execution_count": 92,
   "id": "0e27308f-bdb7-4398-ac4b-05dcfb186578",
   "metadata": {},
   "outputs": [
    {
     "data": {
      "text/plain": [
       "20"
      ]
     },
     "execution_count": 92,
     "metadata": {},
     "output_type": "execute_result"
    }
   ],
   "source": [
    "num1 *= num2\n",
    "num1"
   ]
  },
  {
   "cell_type": "code",
   "execution_count": 93,
   "id": "dfb5b8aa-65b1-4906-86fd-318345e5a01a",
   "metadata": {},
   "outputs": [
    {
     "data": {
      "text/plain": [
       "5.0"
      ]
     },
     "execution_count": 93,
     "metadata": {},
     "output_type": "execute_result"
    }
   ],
   "source": [
    "num1 /= num2\n",
    "num1"
   ]
  },
  {
   "cell_type": "markdown",
   "id": "78861ae4-e349-40ec-849f-02015f3d746d",
   "metadata": {},
   "source": [
    "### Relational Operator`"
   ]
  },
  {
   "cell_type": "raw",
   "id": "48960d43-1907-4294-8506-e10b18fdbf58",
   "metadata": {},
   "source": [
    "- >\n",
    "- <\n",
    "- =\n",
    "- <=\n",
    "- >=\n",
    "- <> OR !=\n",
    "- =="
   ]
  },
  {
   "cell_type": "code",
   "execution_count": 94,
   "id": "5460769b-b61d-489f-8ec8-369bdedf9998",
   "metadata": {},
   "outputs": [
    {
     "data": {
      "text/plain": [
       "False"
      ]
     },
     "execution_count": 94,
     "metadata": {},
     "output_type": "execute_result"
    }
   ],
   "source": [
    "1 > 2"
   ]
  },
  {
   "cell_type": "code",
   "execution_count": 95,
   "id": "073ba626-2993-4be2-99db-7f48a1b8a54c",
   "metadata": {},
   "outputs": [
    {
     "data": {
      "text/plain": [
       "True"
      ]
     },
     "execution_count": 95,
     "metadata": {},
     "output_type": "execute_result"
    }
   ],
   "source": [
    "1 < 2"
   ]
  },
  {
   "cell_type": "code",
   "execution_count": 96,
   "id": "cd876b77-8d78-4713-a7a2-109509933b89",
   "metadata": {},
   "outputs": [
    {
     "data": {
      "text/plain": [
       "False"
      ]
     },
     "execution_count": 96,
     "metadata": {},
     "output_type": "execute_result"
    }
   ],
   "source": [
    "1 >= 2"
   ]
  },
  {
   "cell_type": "code",
   "execution_count": 97,
   "id": "fd8bbdde-a68b-4874-a847-2f992b030e9c",
   "metadata": {},
   "outputs": [
    {
     "data": {
      "text/plain": [
       "True"
      ]
     },
     "execution_count": 97,
     "metadata": {},
     "output_type": "execute_result"
    }
   ],
   "source": [
    "1 <= 2"
   ]
  },
  {
   "cell_type": "code",
   "execution_count": 98,
   "id": "1804b3c7-21fa-4e52-b448-146c83647e19",
   "metadata": {},
   "outputs": [
    {
     "data": {
      "text/plain": [
       "False"
      ]
     },
     "execution_count": 98,
     "metadata": {},
     "output_type": "execute_result"
    }
   ],
   "source": [
    "1 == 2"
   ]
  },
  {
   "cell_type": "code",
   "execution_count": 99,
   "id": "7e1fea74-38d0-430a-9d13-2c6b218a62c7",
   "metadata": {},
   "outputs": [
    {
     "data": {
      "text/plain": [
       "True"
      ]
     },
     "execution_count": 99,
     "metadata": {},
     "output_type": "execute_result"
    }
   ],
   "source": [
    "1 != 2"
   ]
  },
  {
   "cell_type": "markdown",
   "id": "4a1b9a36-a49a-4f7a-8e0a-f3c3eff021c9",
   "metadata": {},
   "source": [
    "### Concatenating"
   ]
  },
  {
   "cell_type": "code",
   "execution_count": 100,
   "id": "ad112534-6841-475c-9172-d711a0c708c9",
   "metadata": {},
   "outputs": [
    {
     "name": "stdout",
     "output_type": "stream",
     "text": [
      "Hisham Ahmed\n"
     ]
    }
   ],
   "source": [
    "# Method 1\n",
    "first_name = \"Hisham\"\n",
    "last_name = \"Ahmed\"\n",
    "print(first_name + \" \" + last_name)"
   ]
  },
  {
   "cell_type": "code",
   "execution_count": 101,
   "id": "37f25295-8598-47ce-b03d-f8a8adcbe878",
   "metadata": {},
   "outputs": [
    {
     "name": "stdout",
     "output_type": "stream",
     "text": [
      "Hisham Ahmed\n"
     ]
    }
   ],
   "source": [
    "print(first_name, last_name)"
   ]
  },
  {
   "cell_type": "code",
   "execution_count": 102,
   "id": "015d5514-477d-4de2-9a6a-ef59bc636ab9",
   "metadata": {},
   "outputs": [
    {
     "data": {
      "text/plain": [
       "'Hisham Ahmed'"
      ]
     },
     "execution_count": 102,
     "metadata": {},
     "output_type": "execute_result"
    }
   ],
   "source": [
    "# Method 2\n",
    "full_name = f\"{first_name} {last_name}\"\n",
    "full_name"
   ]
  },
  {
   "cell_type": "code",
   "execution_count": 103,
   "id": "f3bf0e98-a6d8-4bad-9343-787a70e1dde9",
   "metadata": {},
   "outputs": [
    {
     "data": {
      "text/plain": [
       "'Hisham Ahmed'"
      ]
     },
     "execution_count": 103,
     "metadata": {},
     "output_type": "execute_result"
    }
   ],
   "source": [
    "# Method 3\n",
    "full_name = \"{0} {1}\".format(first_name, last_name)\n",
    "full_name"
   ]
  },
  {
   "cell_type": "code",
   "execution_count": 105,
   "id": "4f9b1654-a969-4a67-8d8b-6a903e3d2455",
   "metadata": {},
   "outputs": [
    {
     "data": {
      "text/plain": [
       "'This is a class of Saylani Batch-3'"
      ]
     },
     "execution_count": 105,
     "metadata": {},
     "output_type": "execute_result"
    }
   ],
   "source": [
    "\"This is a class of {0} {1}\".format(\"Saylani\", \"Batch-3\")"
   ]
  }
 ],
 "metadata": {
  "kernelspec": {
   "display_name": "Python 3 (ipykernel)",
   "language": "python",
   "name": "python3"
  },
  "language_info": {
   "codemirror_mode": {
    "name": "ipython",
    "version": 3
   },
   "file_extension": ".py",
   "mimetype": "text/x-python",
   "name": "python",
   "nbconvert_exporter": "python",
   "pygments_lexer": "ipython3",
   "version": "3.12.5"
  }
 },
 "nbformat": 4,
 "nbformat_minor": 5
}
